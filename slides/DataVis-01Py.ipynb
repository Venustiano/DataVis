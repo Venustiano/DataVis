{
 "cells": [
  {
   "cell_type": "markdown",
   "metadata": {
    "slideshow": {
     "slide_type": "slide"
    }
   },
   "source": [
    "# Data Visualization\n",
    "\n",
    "## Venustiano Soancatl Aguilar\n",
    "### Center for Information Technology\n",
    "### University of Groningen, The Netherlands\n",
    "\n"
   ]
  },
  {
   "cell_type": "markdown",
   "metadata": {
    "slideshow": {
     "slide_type": "slide"
    }
   },
   "source": [
    "### How do visualizations work?\n",
    "\n",
    "\n",
    "Data is transformed into graphic representations\n",
    "\n",
    "- Graphics: Marks with visual properties are placed in space\n",
    "\n",
    "- Encoding: The mapping of data to graphics"
   ]
  },
  {
   "cell_type": "markdown",
   "metadata": {
    "slideshow": {
     "slide_type": "slide"
    }
   },
   "source": [
    "### Considerations\n",
    "- Main goals: gain insights, exploration, presentation, discover hidden patterns\n",
    "- Audience: conference, paper\n",
    "- Data type: continuous, discrete \n",
    "- Data size\n",
    "- Visualization technique"
   ]
  },
  {
   "cell_type": "markdown",
   "metadata": {
    "slideshow": {
     "slide_type": "slide"
    }
   },
   "source": [
    "### Data visualization for exploration\n",
    "\n",
    "\n",
    "- Data is unknown\n",
    "- Data may have outliers\n",
    "- Viewer controls the interaction\n",
    "- Trying different mappings\n",
    "- Look for trends and patterns\n",
    "- Audience are mainly researchers\n",
    "- Audience is active"
   ]
  },
  {
   "cell_type": "markdown",
   "metadata": {
    "slideshow": {
     "slide_type": "slide"
    }
   },
   "source": [
    "### Data visualization for presentation\n",
    "- Data is well known\n",
    "- Data has been cleaned\n",
    "- Audience is mostly passive\n",
    "- Audience is large"
   ]
  },
  {
   "cell_type": "markdown",
   "metadata": {
    "slideshow": {
     "slide_type": "slide"
    }
   },
   "source": [
    "### Kinds of data\n",
    "![Data types](images/data_type.png)"
   ]
  },
  {
   "cell_type": "markdown",
   "metadata": {
    "slideshow": {
     "slide_type": "slide"
    }
   },
   "source": [
    "### Visual variables\n",
    "<img src=\"images/visual_variables.png\" width=\"800\">"
   ]
  },
  {
   "cell_type": "markdown",
   "metadata": {
    "slideshow": {
     "slide_type": "slide"
    }
   },
   "source": [
    "### Key characteristics of visual variables\n",
    "\n",
    "• Selectivity: “Is A different from B?”\n",
    "\n",
    "• Associativity: “Is A similar to B?”\n",
    "\n",
    "• Order: “Is A more/greater/bigger than B?”\n",
    "\n",
    "• Quantity: “How much is the difference between A and B?”\n",
    "\n",
    "• Length: “How many different things?”\n",
    "- Visual variables, original paper http://dx.doi.org/10.11575/PRISM/30495"
   ]
  },
  {
   "cell_type": "markdown",
   "metadata": {
    "slideshow": {
     "slide_type": "slide"
    }
   },
   "source": [
    "![Vis techniques](images/vis_taxonomy.png)"
   ]
  },
  {
   "cell_type": "markdown",
   "metadata": {
    "slideshow": {
     "slide_type": "slide"
    }
   },
   "source": [
    "### Working with some data\n",
    "\n",
    "Visual Data Exploration for Balance Quantification in Real-Time During Exergaming\n",
    "\n",
    "https://journals.plos.org/plosone/article?id=10.1371/journal.pone.0170906\n",
    "\n"
   ]
  },
  {
   "cell_type": "code",
   "execution_count": 2,
   "metadata": {
    "slideshow": {
     "slide_type": "-"
    }
   },
   "outputs": [],
   "source": [
    "# Importing the package\n",
    "import pandas as pd"
   ]
  },
  {
   "cell_type": "code",
   "execution_count": 3,
   "metadata": {
    "scrolled": true,
    "slideshow": {
     "slide_type": "slide"
    }
   },
   "outputs": [
    {
     "data": {
      "text/html": [
       "<div>\n",
       "<style scoped>\n",
       "    .dataframe tbody tr th:only-of-type {\n",
       "        vertical-align: middle;\n",
       "    }\n",
       "\n",
       "    .dataframe tbody tr th {\n",
       "        vertical-align: top;\n",
       "    }\n",
       "\n",
       "    .dataframe thead th {\n",
       "        text-align: right;\n",
       "    }\n",
       "</style>\n",
       "<table border=\"1\" class=\"dataframe\">\n",
       "  <thead>\n",
       "    <tr style=\"text-align: right;\">\n",
       "      <th></th>\n",
       "      <th>iSubj</th>\n",
       "      <th>trial</th>\n",
       "      <th>Age</th>\n",
       "      <th>Decade</th>\n",
       "      <th>medLrms51</th>\n",
       "      <th>medTI51</th>\n",
       "      <th>medK</th>\n",
       "      <th>meanK</th>\n",
       "      <th>medSpeed</th>\n",
       "      <th>medTIms51</th>\n",
       "      <th>medLcovD51</th>\n",
       "      <th>medLsd51</th>\n",
       "      <th>medLcov51</th>\n",
       "      <th>medLrmslD51</th>\n",
       "      <th>medLsdD51</th>\n",
       "    </tr>\n",
       "  </thead>\n",
       "  <tbody>\n",
       "    <tr>\n",
       "      <th>1</th>\n",
       "      <td>1</td>\n",
       "      <td>1</td>\n",
       "      <td>76</td>\n",
       "      <td>7</td>\n",
       "      <td>0.189493</td>\n",
       "      <td>0.589529</td>\n",
       "      <td>207.800939</td>\n",
       "      <td>333.861515</td>\n",
       "      <td>0.488721</td>\n",
       "      <td>0.806345</td>\n",
       "      <td>0.744766</td>\n",
       "      <td>0.020602</td>\n",
       "      <td>0.108687</td>\n",
       "      <td>1.259172</td>\n",
       "      <td>0.129068</td>\n",
       "    </tr>\n",
       "    <tr>\n",
       "      <th>2</th>\n",
       "      <td>1</td>\n",
       "      <td>2</td>\n",
       "      <td>76</td>\n",
       "      <td>7</td>\n",
       "      <td>0.204152</td>\n",
       "      <td>0.697338</td>\n",
       "      <td>223.294322</td>\n",
       "      <td>319.601546</td>\n",
       "      <td>0.518278</td>\n",
       "      <td>0.775451</td>\n",
       "      <td>0.506944</td>\n",
       "      <td>0.016446</td>\n",
       "      <td>0.078140</td>\n",
       "      <td>1.263366</td>\n",
       "      <td>0.105902</td>\n",
       "    </tr>\n",
       "    <tr>\n",
       "      <th>3</th>\n",
       "      <td>1</td>\n",
       "      <td>3</td>\n",
       "      <td>76</td>\n",
       "      <td>7</td>\n",
       "      <td>0.217347</td>\n",
       "      <td>0.786131</td>\n",
       "      <td>136.400753</td>\n",
       "      <td>272.460861</td>\n",
       "      <td>0.584193</td>\n",
       "      <td>0.511902</td>\n",
       "      <td>0.706127</td>\n",
       "      <td>0.047372</td>\n",
       "      <td>0.236467</td>\n",
       "      <td>0.782796</td>\n",
       "      <td>0.133917</td>\n",
       "    </tr>\n",
       "    <tr>\n",
       "      <th>4</th>\n",
       "      <td>1</td>\n",
       "      <td>4</td>\n",
       "      <td>76</td>\n",
       "      <td>7</td>\n",
       "      <td>0.169569</td>\n",
       "      <td>1.020695</td>\n",
       "      <td>162.034626</td>\n",
       "      <td>289.927862</td>\n",
       "      <td>0.590151</td>\n",
       "      <td>0.416398</td>\n",
       "      <td>0.701803</td>\n",
       "      <td>0.039017</td>\n",
       "      <td>0.265361</td>\n",
       "      <td>0.487570</td>\n",
       "      <td>0.108637</td>\n",
       "    </tr>\n",
       "    <tr>\n",
       "      <th>5</th>\n",
       "      <td>1</td>\n",
       "      <td>5</td>\n",
       "      <td>76</td>\n",
       "      <td>7</td>\n",
       "      <td>0.170786</td>\n",
       "      <td>0.769747</td>\n",
       "      <td>141.767674</td>\n",
       "      <td>300.625818</td>\n",
       "      <td>0.551706</td>\n",
       "      <td>0.550029</td>\n",
       "      <td>0.753161</td>\n",
       "      <td>0.036798</td>\n",
       "      <td>0.235907</td>\n",
       "      <td>0.646194</td>\n",
       "      <td>0.119610</td>\n",
       "    </tr>\n",
       "    <tr>\n",
       "      <th>...</th>\n",
       "      <td>...</td>\n",
       "      <td>...</td>\n",
       "      <td>...</td>\n",
       "      <td>...</td>\n",
       "      <td>...</td>\n",
       "      <td>...</td>\n",
       "      <td>...</td>\n",
       "      <td>...</td>\n",
       "      <td>...</td>\n",
       "      <td>...</td>\n",
       "      <td>...</td>\n",
       "      <td>...</td>\n",
       "      <td>...</td>\n",
       "      <td>...</td>\n",
       "      <td>...</td>\n",
       "    </tr>\n",
       "    <tr>\n",
       "      <th>396</th>\n",
       "      <td>40</td>\n",
       "      <td>6</td>\n",
       "      <td>58</td>\n",
       "      <td>5</td>\n",
       "      <td>0.304933</td>\n",
       "      <td>0.715350</td>\n",
       "      <td>263.249490</td>\n",
       "      <td>393.654382</td>\n",
       "      <td>0.419596</td>\n",
       "      <td>0.989819</td>\n",
       "      <td>0.248116</td>\n",
       "      <td>0.009786</td>\n",
       "      <td>0.031676</td>\n",
       "      <td>2.273710</td>\n",
       "      <td>0.079016</td>\n",
       "    </tr>\n",
       "    <tr>\n",
       "      <th>397</th>\n",
       "      <td>40</td>\n",
       "      <td>7</td>\n",
       "      <td>58</td>\n",
       "      <td>5</td>\n",
       "      <td>0.298630</td>\n",
       "      <td>0.758093</td>\n",
       "      <td>285.346624</td>\n",
       "      <td>436.866203</td>\n",
       "      <td>0.364656</td>\n",
       "      <td>1.154292</td>\n",
       "      <td>0.162838</td>\n",
       "      <td>0.005467</td>\n",
       "      <td>0.017858</td>\n",
       "      <td>2.618494</td>\n",
       "      <td>0.050360</td>\n",
       "    </tr>\n",
       "    <tr>\n",
       "      <th>398</th>\n",
       "      <td>40</td>\n",
       "      <td>8</td>\n",
       "      <td>58</td>\n",
       "      <td>5</td>\n",
       "      <td>0.295032</td>\n",
       "      <td>0.715015</td>\n",
       "      <td>292.177991</td>\n",
       "      <td>422.242295</td>\n",
       "      <td>0.398149</td>\n",
       "      <td>1.077907</td>\n",
       "      <td>0.266188</td>\n",
       "      <td>0.009360</td>\n",
       "      <td>0.031146</td>\n",
       "      <td>2.475323</td>\n",
       "      <td>0.079460</td>\n",
       "    </tr>\n",
       "    <tr>\n",
       "      <th>399</th>\n",
       "      <td>40</td>\n",
       "      <td>9</td>\n",
       "      <td>58</td>\n",
       "      <td>5</td>\n",
       "      <td>0.310277</td>\n",
       "      <td>0.710607</td>\n",
       "      <td>255.888346</td>\n",
       "      <td>392.841818</td>\n",
       "      <td>0.413573</td>\n",
       "      <td>1.023273</td>\n",
       "      <td>0.242811</td>\n",
       "      <td>0.009074</td>\n",
       "      <td>0.028856</td>\n",
       "      <td>2.338997</td>\n",
       "      <td>0.075648</td>\n",
       "    </tr>\n",
       "    <tr>\n",
       "      <th>400</th>\n",
       "      <td>40</td>\n",
       "      <td>10</td>\n",
       "      <td>58</td>\n",
       "      <td>5</td>\n",
       "      <td>0.317337</td>\n",
       "      <td>0.752008</td>\n",
       "      <td>225.649255</td>\n",
       "      <td>367.536358</td>\n",
       "      <td>0.423233</td>\n",
       "      <td>1.002901</td>\n",
       "      <td>0.319482</td>\n",
       "      <td>0.012942</td>\n",
       "      <td>0.042028</td>\n",
       "      <td>2.281374</td>\n",
       "      <td>0.099211</td>\n",
       "    </tr>\n",
       "  </tbody>\n",
       "</table>\n",
       "<p>400 rows × 15 columns</p>\n",
       "</div>"
      ],
      "text/plain": [
       "     iSubj  trial  Age  Decade  medLrms51   medTI51        medK       meanK  \\\n",
       "1        1      1   76       7   0.189493  0.589529  207.800939  333.861515   \n",
       "2        1      2   76       7   0.204152  0.697338  223.294322  319.601546   \n",
       "3        1      3   76       7   0.217347  0.786131  136.400753  272.460861   \n",
       "4        1      4   76       7   0.169569  1.020695  162.034626  289.927862   \n",
       "5        1      5   76       7   0.170786  0.769747  141.767674  300.625818   \n",
       "..     ...    ...  ...     ...        ...       ...         ...         ...   \n",
       "396     40      6   58       5   0.304933  0.715350  263.249490  393.654382   \n",
       "397     40      7   58       5   0.298630  0.758093  285.346624  436.866203   \n",
       "398     40      8   58       5   0.295032  0.715015  292.177991  422.242295   \n",
       "399     40      9   58       5   0.310277  0.710607  255.888346  392.841818   \n",
       "400     40     10   58       5   0.317337  0.752008  225.649255  367.536358   \n",
       "\n",
       "     medSpeed  medTIms51  medLcovD51  medLsd51  medLcov51  medLrmslD51  \\\n",
       "1    0.488721   0.806345    0.744766  0.020602   0.108687     1.259172   \n",
       "2    0.518278   0.775451    0.506944  0.016446   0.078140     1.263366   \n",
       "3    0.584193   0.511902    0.706127  0.047372   0.236467     0.782796   \n",
       "4    0.590151   0.416398    0.701803  0.039017   0.265361     0.487570   \n",
       "5    0.551706   0.550029    0.753161  0.036798   0.235907     0.646194   \n",
       "..        ...        ...         ...       ...        ...          ...   \n",
       "396  0.419596   0.989819    0.248116  0.009786   0.031676     2.273710   \n",
       "397  0.364656   1.154292    0.162838  0.005467   0.017858     2.618494   \n",
       "398  0.398149   1.077907    0.266188  0.009360   0.031146     2.475323   \n",
       "399  0.413573   1.023273    0.242811  0.009074   0.028856     2.338997   \n",
       "400  0.423233   1.002901    0.319482  0.012942   0.042028     2.281374   \n",
       "\n",
       "     medLsdD51  \n",
       "1     0.129068  \n",
       "2     0.105902  \n",
       "3     0.133917  \n",
       "4     0.108637  \n",
       "5     0.119610  \n",
       "..         ...  \n",
       "396   0.079016  \n",
       "397   0.050360  \n",
       "398   0.079460  \n",
       "399   0.075648  \n",
       "400   0.099211  \n",
       "\n",
       "[400 rows x 15 columns]"
      ]
     },
     "execution_count": 3,
     "metadata": {},
     "output_type": "execute_result"
    }
   ],
   "source": [
    "# Loading and displaying the data\n",
    "tableRes = pd.read_csv('data/results.txt',sep=' ')\n",
    "tableRes"
   ]
  },
  {
   "cell_type": "markdown",
   "metadata": {
    "slideshow": {
     "slide_type": "slide"
    }
   },
   "source": [
    "## Table operations\n",
    "\n",
    "- Reshape table\n",
    "    - wide format\n",
    "    - long format\n",
    "- Normalization\n",
    "- Merge tables\n",
    "- Filter rows\n",
    "- Create a new column\n",
    "- Create an empty table\n"
   ]
  },
  {
   "cell_type": "markdown",
   "metadata": {
    "slideshow": {
     "slide_type": "slide"
    }
   },
   "source": [
    "### Reshaping the data\n",
    "Wide format\n",
    "\n",
    "```\n",
    "   'obs'  'B'  'C'\n",
    "   a       1    2\n",
    "   b       3    4\n",
    "   c       5    6\n",
    "```\n",
    "Long format\n",
    "```\n",
    "   'obs' 'variables'  'values'\n",
    "     a        B         1\n",
    "     b        B         3\n",
    "     c        B         5\n",
    "     a        C         2\n",
    "     b        C         4\n",
    "     c        C         6\n",
    "```"
   ]
  },
  {
   "cell_type": "markdown",
   "metadata": {
    "slideshow": {
     "slide_type": "slide"
    }
   },
   "source": [
    "### [Wide to long format](https://pandas.pydata.org/docs/reference/api/pandas.melt.html)"
   ]
  },
  {
   "cell_type": "code",
   "execution_count": 7,
   "metadata": {},
   "outputs": [
    {
     "data": {
      "text/html": [
       "<div>\n",
       "<style scoped>\n",
       "    .dataframe tbody tr th:only-of-type {\n",
       "        vertical-align: middle;\n",
       "    }\n",
       "\n",
       "    .dataframe tbody tr th {\n",
       "        vertical-align: top;\n",
       "    }\n",
       "\n",
       "    .dataframe thead th {\n",
       "        text-align: right;\n",
       "    }\n",
       "</style>\n",
       "<table border=\"1\" class=\"dataframe\">\n",
       "  <thead>\n",
       "    <tr style=\"text-align: right;\">\n",
       "      <th></th>\n",
       "      <th>A</th>\n",
       "      <th>B</th>\n",
       "      <th>C</th>\n",
       "    </tr>\n",
       "  </thead>\n",
       "  <tbody>\n",
       "    <tr>\n",
       "      <th>0</th>\n",
       "      <td>a</td>\n",
       "      <td>1</td>\n",
       "      <td>2</td>\n",
       "    </tr>\n",
       "    <tr>\n",
       "      <th>1</th>\n",
       "      <td>b</td>\n",
       "      <td>3</td>\n",
       "      <td>4</td>\n",
       "    </tr>\n",
       "    <tr>\n",
       "      <th>2</th>\n",
       "      <td>c</td>\n",
       "      <td>5</td>\n",
       "      <td>6</td>\n",
       "    </tr>\n",
       "  </tbody>\n",
       "</table>\n",
       "</div>"
      ],
      "text/plain": [
       "   A  B  C\n",
       "0  a  1  2\n",
       "1  b  3  4\n",
       "2  c  5  6"
      ]
     },
     "execution_count": 7,
     "metadata": {},
     "output_type": "execute_result"
    }
   ],
   "source": [
    "df = pd.DataFrame({'A': ['a', 'b', 'c'],\n",
    "                   'B': [1, 3, 5],\n",
    "                   'C': [2, 4, 6]})\n",
    "df"
   ]
  },
  {
   "cell_type": "code",
   "execution_count": 8,
   "metadata": {
    "scrolled": true
   },
   "outputs": [
    {
     "data": {
      "text/html": [
       "<div>\n",
       "<style scoped>\n",
       "    .dataframe tbody tr th:only-of-type {\n",
       "        vertical-align: middle;\n",
       "    }\n",
       "\n",
       "    .dataframe tbody tr th {\n",
       "        vertical-align: top;\n",
       "    }\n",
       "\n",
       "    .dataframe thead th {\n",
       "        text-align: right;\n",
       "    }\n",
       "</style>\n",
       "<table border=\"1\" class=\"dataframe\">\n",
       "  <thead>\n",
       "    <tr style=\"text-align: right;\">\n",
       "      <th></th>\n",
       "      <th>A</th>\n",
       "      <th>variable</th>\n",
       "      <th>value</th>\n",
       "    </tr>\n",
       "  </thead>\n",
       "  <tbody>\n",
       "    <tr>\n",
       "      <th>0</th>\n",
       "      <td>a</td>\n",
       "      <td>B</td>\n",
       "      <td>1</td>\n",
       "    </tr>\n",
       "    <tr>\n",
       "      <th>1</th>\n",
       "      <td>b</td>\n",
       "      <td>B</td>\n",
       "      <td>3</td>\n",
       "    </tr>\n",
       "    <tr>\n",
       "      <th>2</th>\n",
       "      <td>c</td>\n",
       "      <td>B</td>\n",
       "      <td>5</td>\n",
       "    </tr>\n",
       "    <tr>\n",
       "      <th>3</th>\n",
       "      <td>a</td>\n",
       "      <td>C</td>\n",
       "      <td>2</td>\n",
       "    </tr>\n",
       "    <tr>\n",
       "      <th>4</th>\n",
       "      <td>b</td>\n",
       "      <td>C</td>\n",
       "      <td>4</td>\n",
       "    </tr>\n",
       "    <tr>\n",
       "      <th>5</th>\n",
       "      <td>c</td>\n",
       "      <td>C</td>\n",
       "      <td>6</td>\n",
       "    </tr>\n",
       "  </tbody>\n",
       "</table>\n",
       "</div>"
      ],
      "text/plain": [
       "   A variable  value\n",
       "0  a        B      1\n",
       "1  b        B      3\n",
       "2  c        B      5\n",
       "3  a        C      2\n",
       "4  b        C      4\n",
       "5  c        C      6"
      ]
     },
     "execution_count": 8,
     "metadata": {},
     "output_type": "execute_result"
    }
   ],
   "source": [
    "pd.melt(df, id_vars=['A'], value_vars=['B', 'C'])"
   ]
  },
  {
   "cell_type": "markdown",
   "metadata": {
    "slideshow": {
     "slide_type": "slide"
    }
   },
   "source": [
    "### Converting from wide to long format"
   ]
  },
  {
   "cell_type": "code",
   "execution_count": 10,
   "metadata": {},
   "outputs": [
    {
     "data": {
      "text/html": [
       "<div>\n",
       "<style scoped>\n",
       "    .dataframe tbody tr th:only-of-type {\n",
       "        vertical-align: middle;\n",
       "    }\n",
       "\n",
       "    .dataframe tbody tr th {\n",
       "        vertical-align: top;\n",
       "    }\n",
       "\n",
       "    .dataframe thead th {\n",
       "        text-align: right;\n",
       "    }\n",
       "</style>\n",
       "<table border=\"1\" class=\"dataframe\">\n",
       "  <thead>\n",
       "    <tr style=\"text-align: right;\">\n",
       "      <th></th>\n",
       "      <th>iSubj</th>\n",
       "      <th>trial</th>\n",
       "      <th>Age</th>\n",
       "      <th>Decade</th>\n",
       "      <th>myVars</th>\n",
       "      <th>value</th>\n",
       "    </tr>\n",
       "  </thead>\n",
       "  <tbody>\n",
       "    <tr>\n",
       "      <th>0</th>\n",
       "      <td>1</td>\n",
       "      <td>1</td>\n",
       "      <td>76</td>\n",
       "      <td>7</td>\n",
       "      <td>medLrms51</td>\n",
       "      <td>0.189493</td>\n",
       "    </tr>\n",
       "    <tr>\n",
       "      <th>1</th>\n",
       "      <td>1</td>\n",
       "      <td>2</td>\n",
       "      <td>76</td>\n",
       "      <td>7</td>\n",
       "      <td>medLrms51</td>\n",
       "      <td>0.204152</td>\n",
       "    </tr>\n",
       "    <tr>\n",
       "      <th>2</th>\n",
       "      <td>1</td>\n",
       "      <td>3</td>\n",
       "      <td>76</td>\n",
       "      <td>7</td>\n",
       "      <td>medLrms51</td>\n",
       "      <td>0.217347</td>\n",
       "    </tr>\n",
       "    <tr>\n",
       "      <th>3</th>\n",
       "      <td>1</td>\n",
       "      <td>4</td>\n",
       "      <td>76</td>\n",
       "      <td>7</td>\n",
       "      <td>medLrms51</td>\n",
       "      <td>0.169569</td>\n",
       "    </tr>\n",
       "    <tr>\n",
       "      <th>4</th>\n",
       "      <td>1</td>\n",
       "      <td>5</td>\n",
       "      <td>76</td>\n",
       "      <td>7</td>\n",
       "      <td>medLrms51</td>\n",
       "      <td>0.170786</td>\n",
       "    </tr>\n",
       "    <tr>\n",
       "      <th>...</th>\n",
       "      <td>...</td>\n",
       "      <td>...</td>\n",
       "      <td>...</td>\n",
       "      <td>...</td>\n",
       "      <td>...</td>\n",
       "      <td>...</td>\n",
       "    </tr>\n",
       "    <tr>\n",
       "      <th>4395</th>\n",
       "      <td>40</td>\n",
       "      <td>6</td>\n",
       "      <td>58</td>\n",
       "      <td>5</td>\n",
       "      <td>medLsdD51</td>\n",
       "      <td>0.079016</td>\n",
       "    </tr>\n",
       "    <tr>\n",
       "      <th>4396</th>\n",
       "      <td>40</td>\n",
       "      <td>7</td>\n",
       "      <td>58</td>\n",
       "      <td>5</td>\n",
       "      <td>medLsdD51</td>\n",
       "      <td>0.050360</td>\n",
       "    </tr>\n",
       "    <tr>\n",
       "      <th>4397</th>\n",
       "      <td>40</td>\n",
       "      <td>8</td>\n",
       "      <td>58</td>\n",
       "      <td>5</td>\n",
       "      <td>medLsdD51</td>\n",
       "      <td>0.079460</td>\n",
       "    </tr>\n",
       "    <tr>\n",
       "      <th>4398</th>\n",
       "      <td>40</td>\n",
       "      <td>9</td>\n",
       "      <td>58</td>\n",
       "      <td>5</td>\n",
       "      <td>medLsdD51</td>\n",
       "      <td>0.075648</td>\n",
       "    </tr>\n",
       "    <tr>\n",
       "      <th>4399</th>\n",
       "      <td>40</td>\n",
       "      <td>10</td>\n",
       "      <td>58</td>\n",
       "      <td>5</td>\n",
       "      <td>medLsdD51</td>\n",
       "      <td>0.099211</td>\n",
       "    </tr>\n",
       "  </tbody>\n",
       "</table>\n",
       "<p>4400 rows × 6 columns</p>\n",
       "</div>"
      ],
      "text/plain": [
       "      iSubj  trial  Age  Decade     myVars     value\n",
       "0         1      1   76       7  medLrms51  0.189493\n",
       "1         1      2   76       7  medLrms51  0.204152\n",
       "2         1      3   76       7  medLrms51  0.217347\n",
       "3         1      4   76       7  medLrms51  0.169569\n",
       "4         1      5   76       7  medLrms51  0.170786\n",
       "...     ...    ...  ...     ...        ...       ...\n",
       "4395     40      6   58       5  medLsdD51  0.079016\n",
       "4396     40      7   58       5  medLsdD51  0.050360\n",
       "4397     40      8   58       5  medLsdD51  0.079460\n",
       "4398     40      9   58       5  medLsdD51  0.075648\n",
       "4399     40     10   58       5  medLsdD51  0.099211\n",
       "\n",
       "[4400 rows x 6 columns]"
      ]
     },
     "execution_count": 10,
     "metadata": {},
     "output_type": "execute_result"
    }
   ],
   "source": [
    "l_df = pd.melt(tableRes, id_vars=['iSubj','trial','Age','Decade'], \n",
    "                    var_name='myVars')\n",
    "l_df"
   ]
  },
  {
   "cell_type": "markdown",
   "metadata": {
    "slideshow": {
     "slide_type": "slide"
    }
   },
   "source": [
    "### [From long to wide format](https://pandas.pydata.org/docs/reference/api/pandas.pivot_table.html)"
   ]
  },
  {
   "cell_type": "code",
   "execution_count": 17,
   "metadata": {},
   "outputs": [
    {
     "data": {
      "text/html": [
       "<div>\n",
       "<style scoped>\n",
       "    .dataframe tbody tr th:only-of-type {\n",
       "        vertical-align: middle;\n",
       "    }\n",
       "\n",
       "    .dataframe tbody tr th {\n",
       "        vertical-align: top;\n",
       "    }\n",
       "\n",
       "    .dataframe thead th {\n",
       "        text-align: right;\n",
       "    }\n",
       "</style>\n",
       "<table border=\"1\" class=\"dataframe\">\n",
       "  <thead>\n",
       "    <tr style=\"text-align: right;\">\n",
       "      <th></th>\n",
       "      <th>A</th>\n",
       "      <th>variable</th>\n",
       "      <th>value</th>\n",
       "    </tr>\n",
       "  </thead>\n",
       "  <tbody>\n",
       "    <tr>\n",
       "      <th>0</th>\n",
       "      <td>a</td>\n",
       "      <td>B</td>\n",
       "      <td>1</td>\n",
       "    </tr>\n",
       "    <tr>\n",
       "      <th>1</th>\n",
       "      <td>b</td>\n",
       "      <td>B</td>\n",
       "      <td>3</td>\n",
       "    </tr>\n",
       "    <tr>\n",
       "      <th>2</th>\n",
       "      <td>c</td>\n",
       "      <td>B</td>\n",
       "      <td>5</td>\n",
       "    </tr>\n",
       "    <tr>\n",
       "      <th>3</th>\n",
       "      <td>a</td>\n",
       "      <td>C</td>\n",
       "      <td>2</td>\n",
       "    </tr>\n",
       "    <tr>\n",
       "      <th>4</th>\n",
       "      <td>b</td>\n",
       "      <td>C</td>\n",
       "      <td>4</td>\n",
       "    </tr>\n",
       "    <tr>\n",
       "      <th>5</th>\n",
       "      <td>c</td>\n",
       "      <td>C</td>\n",
       "      <td>6</td>\n",
       "    </tr>\n",
       "  </tbody>\n",
       "</table>\n",
       "</div>"
      ],
      "text/plain": [
       "   A variable  value\n",
       "0  a        B      1\n",
       "1  b        B      3\n",
       "2  c        B      5\n",
       "3  a        C      2\n",
       "4  b        C      4\n",
       "5  c        C      6"
      ]
     },
     "execution_count": 17,
     "metadata": {},
     "output_type": "execute_result"
    }
   ],
   "source": [
    "# long format\n",
    "l_df = pd.melt(df, id_vars=['A'], value_vars=['B', 'C'])\n",
    "l_df"
   ]
  },
  {
   "cell_type": "markdown",
   "metadata": {},
   "source": [
    "### Wide format"
   ]
  },
  {
   "cell_type": "code",
   "execution_count": 14,
   "metadata": {
    "slideshow": {
     "slide_type": "slide"
    }
   },
   "outputs": [
    {
     "data": {
      "text/html": [
       "<div>\n",
       "<style scoped>\n",
       "    .dataframe tbody tr th:only-of-type {\n",
       "        vertical-align: middle;\n",
       "    }\n",
       "\n",
       "    .dataframe tbody tr th {\n",
       "        vertical-align: top;\n",
       "    }\n",
       "\n",
       "    .dataframe thead th {\n",
       "        text-align: right;\n",
       "    }\n",
       "</style>\n",
       "<table border=\"1\" class=\"dataframe\">\n",
       "  <thead>\n",
       "    <tr style=\"text-align: right;\">\n",
       "      <th>variable</th>\n",
       "      <th>B</th>\n",
       "      <th>C</th>\n",
       "    </tr>\n",
       "    <tr>\n",
       "      <th>A</th>\n",
       "      <th></th>\n",
       "      <th></th>\n",
       "    </tr>\n",
       "  </thead>\n",
       "  <tbody>\n",
       "    <tr>\n",
       "      <th>a</th>\n",
       "      <td>1</td>\n",
       "      <td>2</td>\n",
       "    </tr>\n",
       "    <tr>\n",
       "      <th>b</th>\n",
       "      <td>3</td>\n",
       "      <td>4</td>\n",
       "    </tr>\n",
       "    <tr>\n",
       "      <th>c</th>\n",
       "      <td>5</td>\n",
       "      <td>6</td>\n",
       "    </tr>\n",
       "  </tbody>\n",
       "</table>\n",
       "</div>"
      ],
      "text/plain": [
       "variable  B  C\n",
       "A             \n",
       "a         1  2\n",
       "b         3  4\n",
       "c         5  6"
      ]
     },
     "execution_count": 14,
     "metadata": {},
     "output_type": "execute_result"
    }
   ],
   "source": [
    "w_df=l_df.pivot_table(index=['A'], \n",
    "                      columns='variable', values='value')\n",
    "w_df"
   ]
  },
  {
   "cell_type": "code",
   "execution_count": 15,
   "metadata": {
    "slideshow": {
     "slide_type": "-"
    }
   },
   "outputs": [
    {
     "data": {
      "text/html": [
       "<div>\n",
       "<style scoped>\n",
       "    .dataframe tbody tr th:only-of-type {\n",
       "        vertical-align: middle;\n",
       "    }\n",
       "\n",
       "    .dataframe tbody tr th {\n",
       "        vertical-align: top;\n",
       "    }\n",
       "\n",
       "    .dataframe thead th {\n",
       "        text-align: right;\n",
       "    }\n",
       "</style>\n",
       "<table border=\"1\" class=\"dataframe\">\n",
       "  <thead>\n",
       "    <tr style=\"text-align: right;\">\n",
       "      <th>variable</th>\n",
       "      <th>A</th>\n",
       "      <th>B</th>\n",
       "      <th>C</th>\n",
       "    </tr>\n",
       "  </thead>\n",
       "  <tbody>\n",
       "    <tr>\n",
       "      <th>0</th>\n",
       "      <td>a</td>\n",
       "      <td>1</td>\n",
       "      <td>2</td>\n",
       "    </tr>\n",
       "    <tr>\n",
       "      <th>1</th>\n",
       "      <td>b</td>\n",
       "      <td>3</td>\n",
       "      <td>4</td>\n",
       "    </tr>\n",
       "    <tr>\n",
       "      <th>2</th>\n",
       "      <td>c</td>\n",
       "      <td>5</td>\n",
       "      <td>6</td>\n",
       "    </tr>\n",
       "  </tbody>\n",
       "</table>\n",
       "</div>"
      ],
      "text/plain": [
       "variable  A  B  C\n",
       "0         a  1  2\n",
       "1         b  3  4\n",
       "2         c  5  6"
      ]
     },
     "execution_count": 15,
     "metadata": {},
     "output_type": "execute_result"
    }
   ],
   "source": [
    "w_df.reset_index()"
   ]
  },
  {
   "cell_type": "markdown",
   "metadata": {
    "slideshow": {
     "slide_type": "slide"
    }
   },
   "source": [
    "### Our long data"
   ]
  },
  {
   "cell_type": "code",
   "execution_count": 18,
   "metadata": {},
   "outputs": [
    {
     "data": {
      "text/html": [
       "<div>\n",
       "<style scoped>\n",
       "    .dataframe tbody tr th:only-of-type {\n",
       "        vertical-align: middle;\n",
       "    }\n",
       "\n",
       "    .dataframe tbody tr th {\n",
       "        vertical-align: top;\n",
       "    }\n",
       "\n",
       "    .dataframe thead th {\n",
       "        text-align: right;\n",
       "    }\n",
       "</style>\n",
       "<table border=\"1\" class=\"dataframe\">\n",
       "  <thead>\n",
       "    <tr style=\"text-align: right;\">\n",
       "      <th></th>\n",
       "      <th>iSubj</th>\n",
       "      <th>trial</th>\n",
       "      <th>Age</th>\n",
       "      <th>Decade</th>\n",
       "      <th>myVars</th>\n",
       "      <th>value</th>\n",
       "    </tr>\n",
       "  </thead>\n",
       "  <tbody>\n",
       "    <tr>\n",
       "      <th>0</th>\n",
       "      <td>1</td>\n",
       "      <td>1</td>\n",
       "      <td>76</td>\n",
       "      <td>7</td>\n",
       "      <td>medLrms51</td>\n",
       "      <td>0.189493</td>\n",
       "    </tr>\n",
       "    <tr>\n",
       "      <th>1</th>\n",
       "      <td>1</td>\n",
       "      <td>2</td>\n",
       "      <td>76</td>\n",
       "      <td>7</td>\n",
       "      <td>medLrms51</td>\n",
       "      <td>0.204152</td>\n",
       "    </tr>\n",
       "    <tr>\n",
       "      <th>2</th>\n",
       "      <td>1</td>\n",
       "      <td>3</td>\n",
       "      <td>76</td>\n",
       "      <td>7</td>\n",
       "      <td>medLrms51</td>\n",
       "      <td>0.217347</td>\n",
       "    </tr>\n",
       "    <tr>\n",
       "      <th>3</th>\n",
       "      <td>1</td>\n",
       "      <td>4</td>\n",
       "      <td>76</td>\n",
       "      <td>7</td>\n",
       "      <td>medLrms51</td>\n",
       "      <td>0.169569</td>\n",
       "    </tr>\n",
       "    <tr>\n",
       "      <th>4</th>\n",
       "      <td>1</td>\n",
       "      <td>5</td>\n",
       "      <td>76</td>\n",
       "      <td>7</td>\n",
       "      <td>medLrms51</td>\n",
       "      <td>0.170786</td>\n",
       "    </tr>\n",
       "    <tr>\n",
       "      <th>...</th>\n",
       "      <td>...</td>\n",
       "      <td>...</td>\n",
       "      <td>...</td>\n",
       "      <td>...</td>\n",
       "      <td>...</td>\n",
       "      <td>...</td>\n",
       "    </tr>\n",
       "    <tr>\n",
       "      <th>4395</th>\n",
       "      <td>40</td>\n",
       "      <td>6</td>\n",
       "      <td>58</td>\n",
       "      <td>5</td>\n",
       "      <td>medLsdD51</td>\n",
       "      <td>0.079016</td>\n",
       "    </tr>\n",
       "    <tr>\n",
       "      <th>4396</th>\n",
       "      <td>40</td>\n",
       "      <td>7</td>\n",
       "      <td>58</td>\n",
       "      <td>5</td>\n",
       "      <td>medLsdD51</td>\n",
       "      <td>0.050360</td>\n",
       "    </tr>\n",
       "    <tr>\n",
       "      <th>4397</th>\n",
       "      <td>40</td>\n",
       "      <td>8</td>\n",
       "      <td>58</td>\n",
       "      <td>5</td>\n",
       "      <td>medLsdD51</td>\n",
       "      <td>0.079460</td>\n",
       "    </tr>\n",
       "    <tr>\n",
       "      <th>4398</th>\n",
       "      <td>40</td>\n",
       "      <td>9</td>\n",
       "      <td>58</td>\n",
       "      <td>5</td>\n",
       "      <td>medLsdD51</td>\n",
       "      <td>0.075648</td>\n",
       "    </tr>\n",
       "    <tr>\n",
       "      <th>4399</th>\n",
       "      <td>40</td>\n",
       "      <td>10</td>\n",
       "      <td>58</td>\n",
       "      <td>5</td>\n",
       "      <td>medLsdD51</td>\n",
       "      <td>0.099211</td>\n",
       "    </tr>\n",
       "  </tbody>\n",
       "</table>\n",
       "<p>4400 rows × 6 columns</p>\n",
       "</div>"
      ],
      "text/plain": [
       "      iSubj  trial  Age  Decade     myVars     value\n",
       "0         1      1   76       7  medLrms51  0.189493\n",
       "1         1      2   76       7  medLrms51  0.204152\n",
       "2         1      3   76       7  medLrms51  0.217347\n",
       "3         1      4   76       7  medLrms51  0.169569\n",
       "4         1      5   76       7  medLrms51  0.170786\n",
       "...     ...    ...  ...     ...        ...       ...\n",
       "4395     40      6   58       5  medLsdD51  0.079016\n",
       "4396     40      7   58       5  medLsdD51  0.050360\n",
       "4397     40      8   58       5  medLsdD51  0.079460\n",
       "4398     40      9   58       5  medLsdD51  0.075648\n",
       "4399     40     10   58       5  medLsdD51  0.099211\n",
       "\n",
       "[4400 rows x 6 columns]"
      ]
     },
     "execution_count": 18,
     "metadata": {},
     "output_type": "execute_result"
    }
   ],
   "source": [
    "l_df = pd.melt(tableRes, id_vars=['iSubj','trial','Age','Decade'], \n",
    "                    var_name='myVars')\n",
    "l_df"
   ]
  },
  {
   "cell_type": "markdown",
   "metadata": {
    "slideshow": {
     "slide_type": "slide"
    }
   },
   "source": [
    "### From long to wide"
   ]
  },
  {
   "cell_type": "code",
   "execution_count": 43,
   "metadata": {
    "scrolled": true
   },
   "outputs": [
    {
     "data": {
      "text/html": [
       "<div>\n",
       "<style scoped>\n",
       "    .dataframe tbody tr th:only-of-type {\n",
       "        vertical-align: middle;\n",
       "    }\n",
       "\n",
       "    .dataframe tbody tr th {\n",
       "        vertical-align: top;\n",
       "    }\n",
       "\n",
       "    .dataframe thead th {\n",
       "        text-align: right;\n",
       "    }\n",
       "</style>\n",
       "<table border=\"1\" class=\"dataframe\">\n",
       "  <thead>\n",
       "    <tr style=\"text-align: right;\">\n",
       "      <th></th>\n",
       "      <th></th>\n",
       "      <th></th>\n",
       "      <th>myVars</th>\n",
       "      <th>meanK</th>\n",
       "      <th>medK</th>\n",
       "      <th>medLcov51</th>\n",
       "      <th>medLcovD51</th>\n",
       "      <th>medLrms51</th>\n",
       "      <th>medLrmslD51</th>\n",
       "      <th>medLsd51</th>\n",
       "      <th>medLsdD51</th>\n",
       "      <th>medSpeed</th>\n",
       "      <th>medTI51</th>\n",
       "      <th>medTIms51</th>\n",
       "    </tr>\n",
       "    <tr>\n",
       "      <th>iSubj</th>\n",
       "      <th>trial</th>\n",
       "      <th>Age</th>\n",
       "      <th>Decade</th>\n",
       "      <th></th>\n",
       "      <th></th>\n",
       "      <th></th>\n",
       "      <th></th>\n",
       "      <th></th>\n",
       "      <th></th>\n",
       "      <th></th>\n",
       "      <th></th>\n",
       "      <th></th>\n",
       "      <th></th>\n",
       "      <th></th>\n",
       "    </tr>\n",
       "  </thead>\n",
       "  <tbody>\n",
       "    <tr>\n",
       "      <th rowspan=\"5\" valign=\"top\">1</th>\n",
       "      <th>1</th>\n",
       "      <th>76</th>\n",
       "      <th>7</th>\n",
       "      <td>333.861515</td>\n",
       "      <td>207.800939</td>\n",
       "      <td>0.108687</td>\n",
       "      <td>0.744766</td>\n",
       "      <td>0.189493</td>\n",
       "      <td>1.259172</td>\n",
       "      <td>0.020602</td>\n",
       "      <td>0.129068</td>\n",
       "      <td>0.488721</td>\n",
       "      <td>0.589529</td>\n",
       "      <td>0.806345</td>\n",
       "    </tr>\n",
       "    <tr>\n",
       "      <th>2</th>\n",
       "      <th>76</th>\n",
       "      <th>7</th>\n",
       "      <td>319.601546</td>\n",
       "      <td>223.294322</td>\n",
       "      <td>0.078140</td>\n",
       "      <td>0.506944</td>\n",
       "      <td>0.204152</td>\n",
       "      <td>1.263366</td>\n",
       "      <td>0.016446</td>\n",
       "      <td>0.105902</td>\n",
       "      <td>0.518278</td>\n",
       "      <td>0.697338</td>\n",
       "      <td>0.775451</td>\n",
       "    </tr>\n",
       "    <tr>\n",
       "      <th>3</th>\n",
       "      <th>76</th>\n",
       "      <th>7</th>\n",
       "      <td>272.460861</td>\n",
       "      <td>136.400753</td>\n",
       "      <td>0.236467</td>\n",
       "      <td>0.706127</td>\n",
       "      <td>0.217347</td>\n",
       "      <td>0.782796</td>\n",
       "      <td>0.047372</td>\n",
       "      <td>0.133917</td>\n",
       "      <td>0.584193</td>\n",
       "      <td>0.786131</td>\n",
       "      <td>0.511902</td>\n",
       "    </tr>\n",
       "    <tr>\n",
       "      <th>4</th>\n",
       "      <th>76</th>\n",
       "      <th>7</th>\n",
       "      <td>289.927862</td>\n",
       "      <td>162.034626</td>\n",
       "      <td>0.265361</td>\n",
       "      <td>0.701803</td>\n",
       "      <td>0.169569</td>\n",
       "      <td>0.487570</td>\n",
       "      <td>0.039017</td>\n",
       "      <td>0.108637</td>\n",
       "      <td>0.590151</td>\n",
       "      <td>1.020695</td>\n",
       "      <td>0.416398</td>\n",
       "    </tr>\n",
       "    <tr>\n",
       "      <th>5</th>\n",
       "      <th>76</th>\n",
       "      <th>7</th>\n",
       "      <td>300.625818</td>\n",
       "      <td>141.767674</td>\n",
       "      <td>0.235907</td>\n",
       "      <td>0.753161</td>\n",
       "      <td>0.170786</td>\n",
       "      <td>0.646194</td>\n",
       "      <td>0.036798</td>\n",
       "      <td>0.119610</td>\n",
       "      <td>0.551706</td>\n",
       "      <td>0.769747</td>\n",
       "      <td>0.550029</td>\n",
       "    </tr>\n",
       "    <tr>\n",
       "      <th>...</th>\n",
       "      <th>...</th>\n",
       "      <th>...</th>\n",
       "      <th>...</th>\n",
       "      <td>...</td>\n",
       "      <td>...</td>\n",
       "      <td>...</td>\n",
       "      <td>...</td>\n",
       "      <td>...</td>\n",
       "      <td>...</td>\n",
       "      <td>...</td>\n",
       "      <td>...</td>\n",
       "      <td>...</td>\n",
       "      <td>...</td>\n",
       "      <td>...</td>\n",
       "    </tr>\n",
       "    <tr>\n",
       "      <th rowspan=\"5\" valign=\"top\">40</th>\n",
       "      <th>6</th>\n",
       "      <th>58</th>\n",
       "      <th>5</th>\n",
       "      <td>393.654382</td>\n",
       "      <td>263.249490</td>\n",
       "      <td>0.031676</td>\n",
       "      <td>0.248116</td>\n",
       "      <td>0.304933</td>\n",
       "      <td>2.273710</td>\n",
       "      <td>0.009786</td>\n",
       "      <td>0.079016</td>\n",
       "      <td>0.419596</td>\n",
       "      <td>0.715350</td>\n",
       "      <td>0.989819</td>\n",
       "    </tr>\n",
       "    <tr>\n",
       "      <th>7</th>\n",
       "      <th>58</th>\n",
       "      <th>5</th>\n",
       "      <td>436.866203</td>\n",
       "      <td>285.346624</td>\n",
       "      <td>0.017858</td>\n",
       "      <td>0.162838</td>\n",
       "      <td>0.298630</td>\n",
       "      <td>2.618494</td>\n",
       "      <td>0.005467</td>\n",
       "      <td>0.050360</td>\n",
       "      <td>0.364656</td>\n",
       "      <td>0.758093</td>\n",
       "      <td>1.154292</td>\n",
       "    </tr>\n",
       "    <tr>\n",
       "      <th>8</th>\n",
       "      <th>58</th>\n",
       "      <th>5</th>\n",
       "      <td>422.242295</td>\n",
       "      <td>292.177991</td>\n",
       "      <td>0.031146</td>\n",
       "      <td>0.266188</td>\n",
       "      <td>0.295032</td>\n",
       "      <td>2.475323</td>\n",
       "      <td>0.009360</td>\n",
       "      <td>0.079460</td>\n",
       "      <td>0.398149</td>\n",
       "      <td>0.715015</td>\n",
       "      <td>1.077907</td>\n",
       "    </tr>\n",
       "    <tr>\n",
       "      <th>9</th>\n",
       "      <th>58</th>\n",
       "      <th>5</th>\n",
       "      <td>392.841818</td>\n",
       "      <td>255.888346</td>\n",
       "      <td>0.028856</td>\n",
       "      <td>0.242811</td>\n",
       "      <td>0.310277</td>\n",
       "      <td>2.338997</td>\n",
       "      <td>0.009074</td>\n",
       "      <td>0.075648</td>\n",
       "      <td>0.413573</td>\n",
       "      <td>0.710607</td>\n",
       "      <td>1.023273</td>\n",
       "    </tr>\n",
       "    <tr>\n",
       "      <th>10</th>\n",
       "      <th>58</th>\n",
       "      <th>5</th>\n",
       "      <td>367.536358</td>\n",
       "      <td>225.649255</td>\n",
       "      <td>0.042028</td>\n",
       "      <td>0.319482</td>\n",
       "      <td>0.317337</td>\n",
       "      <td>2.281374</td>\n",
       "      <td>0.012942</td>\n",
       "      <td>0.099211</td>\n",
       "      <td>0.423233</td>\n",
       "      <td>0.752008</td>\n",
       "      <td>1.002901</td>\n",
       "    </tr>\n",
       "  </tbody>\n",
       "</table>\n",
       "<p>400 rows × 11 columns</p>\n",
       "</div>"
      ],
      "text/plain": [
       "myVars                       meanK        medK  medLcov51  medLcovD51  \\\n",
       "iSubj trial Age Decade                                                  \n",
       "1     1     76  7       333.861515  207.800939   0.108687    0.744766   \n",
       "      2     76  7       319.601546  223.294322   0.078140    0.506944   \n",
       "      3     76  7       272.460861  136.400753   0.236467    0.706127   \n",
       "      4     76  7       289.927862  162.034626   0.265361    0.701803   \n",
       "      5     76  7       300.625818  141.767674   0.235907    0.753161   \n",
       "...                            ...         ...        ...         ...   \n",
       "40    6     58  5       393.654382  263.249490   0.031676    0.248116   \n",
       "      7     58  5       436.866203  285.346624   0.017858    0.162838   \n",
       "      8     58  5       422.242295  292.177991   0.031146    0.266188   \n",
       "      9     58  5       392.841818  255.888346   0.028856    0.242811   \n",
       "      10    58  5       367.536358  225.649255   0.042028    0.319482   \n",
       "\n",
       "myVars                  medLrms51  medLrmslD51  medLsd51  medLsdD51  medSpeed  \\\n",
       "iSubj trial Age Decade                                                          \n",
       "1     1     76  7        0.189493     1.259172  0.020602   0.129068  0.488721   \n",
       "      2     76  7        0.204152     1.263366  0.016446   0.105902  0.518278   \n",
       "      3     76  7        0.217347     0.782796  0.047372   0.133917  0.584193   \n",
       "      4     76  7        0.169569     0.487570  0.039017   0.108637  0.590151   \n",
       "      5     76  7        0.170786     0.646194  0.036798   0.119610  0.551706   \n",
       "...                           ...          ...       ...        ...       ...   \n",
       "40    6     58  5        0.304933     2.273710  0.009786   0.079016  0.419596   \n",
       "      7     58  5        0.298630     2.618494  0.005467   0.050360  0.364656   \n",
       "      8     58  5        0.295032     2.475323  0.009360   0.079460  0.398149   \n",
       "      9     58  5        0.310277     2.338997  0.009074   0.075648  0.413573   \n",
       "      10    58  5        0.317337     2.281374  0.012942   0.099211  0.423233   \n",
       "\n",
       "myVars                   medTI51  medTIms51  \n",
       "iSubj trial Age Decade                       \n",
       "1     1     76  7       0.589529   0.806345  \n",
       "      2     76  7       0.697338   0.775451  \n",
       "      3     76  7       0.786131   0.511902  \n",
       "      4     76  7       1.020695   0.416398  \n",
       "      5     76  7       0.769747   0.550029  \n",
       "...                          ...        ...  \n",
       "40    6     58  5       0.715350   0.989819  \n",
       "      7     58  5       0.758093   1.154292  \n",
       "      8     58  5       0.715015   1.077907  \n",
       "      9     58  5       0.710607   1.023273  \n",
       "      10    58  5       0.752008   1.002901  \n",
       "\n",
       "[400 rows x 11 columns]"
      ]
     },
     "execution_count": 43,
     "metadata": {},
     "output_type": "execute_result"
    }
   ],
   "source": [
    "w_df=l_df.pivot_table(index=['iSubj','trial','Age','Decade'], \n",
    "                                columns='myVars', values='value')\n",
    "w_df"
   ]
  },
  {
   "cell_type": "markdown",
   "metadata": {
    "slideshow": {
     "slide_type": "slide"
    }
   },
   "source": [
    "### Reset the index"
   ]
  },
  {
   "cell_type": "code",
   "execution_count": 44,
   "metadata": {
    "slideshow": {
     "slide_type": "-"
    }
   },
   "outputs": [
    {
     "data": {
      "text/html": [
       "<div>\n",
       "<style scoped>\n",
       "    .dataframe tbody tr th:only-of-type {\n",
       "        vertical-align: middle;\n",
       "    }\n",
       "\n",
       "    .dataframe tbody tr th {\n",
       "        vertical-align: top;\n",
       "    }\n",
       "\n",
       "    .dataframe thead th {\n",
       "        text-align: right;\n",
       "    }\n",
       "</style>\n",
       "<table border=\"1\" class=\"dataframe\">\n",
       "  <thead>\n",
       "    <tr style=\"text-align: right;\">\n",
       "      <th>myVars</th>\n",
       "      <th>iSubj</th>\n",
       "      <th>trial</th>\n",
       "      <th>Age</th>\n",
       "      <th>Decade</th>\n",
       "      <th>meanK</th>\n",
       "      <th>medK</th>\n",
       "      <th>medLcov51</th>\n",
       "      <th>medLcovD51</th>\n",
       "      <th>medLrms51</th>\n",
       "      <th>medLrmslD51</th>\n",
       "      <th>medLsd51</th>\n",
       "      <th>medLsdD51</th>\n",
       "      <th>medSpeed</th>\n",
       "      <th>medTI51</th>\n",
       "      <th>medTIms51</th>\n",
       "    </tr>\n",
       "  </thead>\n",
       "  <tbody>\n",
       "    <tr>\n",
       "      <th>0</th>\n",
       "      <td>1</td>\n",
       "      <td>1</td>\n",
       "      <td>76</td>\n",
       "      <td>7</td>\n",
       "      <td>333.861515</td>\n",
       "      <td>207.800939</td>\n",
       "      <td>0.108687</td>\n",
       "      <td>0.744766</td>\n",
       "      <td>0.189493</td>\n",
       "      <td>1.259172</td>\n",
       "      <td>0.020602</td>\n",
       "      <td>0.129068</td>\n",
       "      <td>0.488721</td>\n",
       "      <td>0.589529</td>\n",
       "      <td>0.806345</td>\n",
       "    </tr>\n",
       "    <tr>\n",
       "      <th>1</th>\n",
       "      <td>1</td>\n",
       "      <td>2</td>\n",
       "      <td>76</td>\n",
       "      <td>7</td>\n",
       "      <td>319.601546</td>\n",
       "      <td>223.294322</td>\n",
       "      <td>0.078140</td>\n",
       "      <td>0.506944</td>\n",
       "      <td>0.204152</td>\n",
       "      <td>1.263366</td>\n",
       "      <td>0.016446</td>\n",
       "      <td>0.105902</td>\n",
       "      <td>0.518278</td>\n",
       "      <td>0.697338</td>\n",
       "      <td>0.775451</td>\n",
       "    </tr>\n",
       "    <tr>\n",
       "      <th>2</th>\n",
       "      <td>1</td>\n",
       "      <td>3</td>\n",
       "      <td>76</td>\n",
       "      <td>7</td>\n",
       "      <td>272.460861</td>\n",
       "      <td>136.400753</td>\n",
       "      <td>0.236467</td>\n",
       "      <td>0.706127</td>\n",
       "      <td>0.217347</td>\n",
       "      <td>0.782796</td>\n",
       "      <td>0.047372</td>\n",
       "      <td>0.133917</td>\n",
       "      <td>0.584193</td>\n",
       "      <td>0.786131</td>\n",
       "      <td>0.511902</td>\n",
       "    </tr>\n",
       "    <tr>\n",
       "      <th>3</th>\n",
       "      <td>1</td>\n",
       "      <td>4</td>\n",
       "      <td>76</td>\n",
       "      <td>7</td>\n",
       "      <td>289.927862</td>\n",
       "      <td>162.034626</td>\n",
       "      <td>0.265361</td>\n",
       "      <td>0.701803</td>\n",
       "      <td>0.169569</td>\n",
       "      <td>0.487570</td>\n",
       "      <td>0.039017</td>\n",
       "      <td>0.108637</td>\n",
       "      <td>0.590151</td>\n",
       "      <td>1.020695</td>\n",
       "      <td>0.416398</td>\n",
       "    </tr>\n",
       "    <tr>\n",
       "      <th>4</th>\n",
       "      <td>1</td>\n",
       "      <td>5</td>\n",
       "      <td>76</td>\n",
       "      <td>7</td>\n",
       "      <td>300.625818</td>\n",
       "      <td>141.767674</td>\n",
       "      <td>0.235907</td>\n",
       "      <td>0.753161</td>\n",
       "      <td>0.170786</td>\n",
       "      <td>0.646194</td>\n",
       "      <td>0.036798</td>\n",
       "      <td>0.119610</td>\n",
       "      <td>0.551706</td>\n",
       "      <td>0.769747</td>\n",
       "      <td>0.550029</td>\n",
       "    </tr>\n",
       "    <tr>\n",
       "      <th>...</th>\n",
       "      <td>...</td>\n",
       "      <td>...</td>\n",
       "      <td>...</td>\n",
       "      <td>...</td>\n",
       "      <td>...</td>\n",
       "      <td>...</td>\n",
       "      <td>...</td>\n",
       "      <td>...</td>\n",
       "      <td>...</td>\n",
       "      <td>...</td>\n",
       "      <td>...</td>\n",
       "      <td>...</td>\n",
       "      <td>...</td>\n",
       "      <td>...</td>\n",
       "      <td>...</td>\n",
       "    </tr>\n",
       "    <tr>\n",
       "      <th>395</th>\n",
       "      <td>40</td>\n",
       "      <td>6</td>\n",
       "      <td>58</td>\n",
       "      <td>5</td>\n",
       "      <td>393.654382</td>\n",
       "      <td>263.249490</td>\n",
       "      <td>0.031676</td>\n",
       "      <td>0.248116</td>\n",
       "      <td>0.304933</td>\n",
       "      <td>2.273710</td>\n",
       "      <td>0.009786</td>\n",
       "      <td>0.079016</td>\n",
       "      <td>0.419596</td>\n",
       "      <td>0.715350</td>\n",
       "      <td>0.989819</td>\n",
       "    </tr>\n",
       "    <tr>\n",
       "      <th>396</th>\n",
       "      <td>40</td>\n",
       "      <td>7</td>\n",
       "      <td>58</td>\n",
       "      <td>5</td>\n",
       "      <td>436.866203</td>\n",
       "      <td>285.346624</td>\n",
       "      <td>0.017858</td>\n",
       "      <td>0.162838</td>\n",
       "      <td>0.298630</td>\n",
       "      <td>2.618494</td>\n",
       "      <td>0.005467</td>\n",
       "      <td>0.050360</td>\n",
       "      <td>0.364656</td>\n",
       "      <td>0.758093</td>\n",
       "      <td>1.154292</td>\n",
       "    </tr>\n",
       "    <tr>\n",
       "      <th>397</th>\n",
       "      <td>40</td>\n",
       "      <td>8</td>\n",
       "      <td>58</td>\n",
       "      <td>5</td>\n",
       "      <td>422.242295</td>\n",
       "      <td>292.177991</td>\n",
       "      <td>0.031146</td>\n",
       "      <td>0.266188</td>\n",
       "      <td>0.295032</td>\n",
       "      <td>2.475323</td>\n",
       "      <td>0.009360</td>\n",
       "      <td>0.079460</td>\n",
       "      <td>0.398149</td>\n",
       "      <td>0.715015</td>\n",
       "      <td>1.077907</td>\n",
       "    </tr>\n",
       "    <tr>\n",
       "      <th>398</th>\n",
       "      <td>40</td>\n",
       "      <td>9</td>\n",
       "      <td>58</td>\n",
       "      <td>5</td>\n",
       "      <td>392.841818</td>\n",
       "      <td>255.888346</td>\n",
       "      <td>0.028856</td>\n",
       "      <td>0.242811</td>\n",
       "      <td>0.310277</td>\n",
       "      <td>2.338997</td>\n",
       "      <td>0.009074</td>\n",
       "      <td>0.075648</td>\n",
       "      <td>0.413573</td>\n",
       "      <td>0.710607</td>\n",
       "      <td>1.023273</td>\n",
       "    </tr>\n",
       "    <tr>\n",
       "      <th>399</th>\n",
       "      <td>40</td>\n",
       "      <td>10</td>\n",
       "      <td>58</td>\n",
       "      <td>5</td>\n",
       "      <td>367.536358</td>\n",
       "      <td>225.649255</td>\n",
       "      <td>0.042028</td>\n",
       "      <td>0.319482</td>\n",
       "      <td>0.317337</td>\n",
       "      <td>2.281374</td>\n",
       "      <td>0.012942</td>\n",
       "      <td>0.099211</td>\n",
       "      <td>0.423233</td>\n",
       "      <td>0.752008</td>\n",
       "      <td>1.002901</td>\n",
       "    </tr>\n",
       "  </tbody>\n",
       "</table>\n",
       "<p>400 rows × 15 columns</p>\n",
       "</div>"
      ],
      "text/plain": [
       "myVars  iSubj  trial  Age  Decade       meanK        medK  medLcov51  \\\n",
       "0           1      1   76       7  333.861515  207.800939   0.108687   \n",
       "1           1      2   76       7  319.601546  223.294322   0.078140   \n",
       "2           1      3   76       7  272.460861  136.400753   0.236467   \n",
       "3           1      4   76       7  289.927862  162.034626   0.265361   \n",
       "4           1      5   76       7  300.625818  141.767674   0.235907   \n",
       "..        ...    ...  ...     ...         ...         ...        ...   \n",
       "395        40      6   58       5  393.654382  263.249490   0.031676   \n",
       "396        40      7   58       5  436.866203  285.346624   0.017858   \n",
       "397        40      8   58       5  422.242295  292.177991   0.031146   \n",
       "398        40      9   58       5  392.841818  255.888346   0.028856   \n",
       "399        40     10   58       5  367.536358  225.649255   0.042028   \n",
       "\n",
       "myVars  medLcovD51  medLrms51  medLrmslD51  medLsd51  medLsdD51  medSpeed  \\\n",
       "0         0.744766   0.189493     1.259172  0.020602   0.129068  0.488721   \n",
       "1         0.506944   0.204152     1.263366  0.016446   0.105902  0.518278   \n",
       "2         0.706127   0.217347     0.782796  0.047372   0.133917  0.584193   \n",
       "3         0.701803   0.169569     0.487570  0.039017   0.108637  0.590151   \n",
       "4         0.753161   0.170786     0.646194  0.036798   0.119610  0.551706   \n",
       "..             ...        ...          ...       ...        ...       ...   \n",
       "395       0.248116   0.304933     2.273710  0.009786   0.079016  0.419596   \n",
       "396       0.162838   0.298630     2.618494  0.005467   0.050360  0.364656   \n",
       "397       0.266188   0.295032     2.475323  0.009360   0.079460  0.398149   \n",
       "398       0.242811   0.310277     2.338997  0.009074   0.075648  0.413573   \n",
       "399       0.319482   0.317337     2.281374  0.012942   0.099211  0.423233   \n",
       "\n",
       "myVars   medTI51  medTIms51  \n",
       "0       0.589529   0.806345  \n",
       "1       0.697338   0.775451  \n",
       "2       0.786131   0.511902  \n",
       "3       1.020695   0.416398  \n",
       "4       0.769747   0.550029  \n",
       "..           ...        ...  \n",
       "395     0.715350   0.989819  \n",
       "396     0.758093   1.154292  \n",
       "397     0.715015   1.077907  \n",
       "398     0.710607   1.023273  \n",
       "399     0.752008   1.002901  \n",
       "\n",
       "[400 rows x 15 columns]"
      ]
     },
     "execution_count": 44,
     "metadata": {},
     "output_type": "execute_result"
    }
   ],
   "source": [
    "w_df.reset_index()"
   ]
  },
  {
   "cell_type": "markdown",
   "metadata": {
    "slideshow": {
     "slide_type": "slide"
    }
   },
   "source": [
    "## [Normalization](https://en.wikipedia.org/wiki/Normalization_(statistics))"
   ]
  },
  {
   "cell_type": "markdown",
   "metadata": {},
   "source": [
    "[Standard score](https://en.wikipedia.org/wiki/Standard_score)\n",
    "$$\n",
    "x' = \\frac{x - \\mu}{\\sigma}\n",
    "$$\n",
    "[Min-Max Feature scaling](https://en.wikipedia.org/wiki/Feature_scaling)\n",
    "$$\n",
    "x' = \\frac{x - min(x)}{max(x)-min(x)}\n",
    "$$\n"
   ]
  },
  {
   "cell_type": "markdown",
   "metadata": {
    "slideshow": {
     "slide_type": "slide"
    }
   },
   "source": [
    "###  Normalizing the long table\n"
   ]
  },
  {
   "cell_type": "code",
   "execution_count": 26,
   "metadata": {},
   "outputs": [
    {
     "data": {
      "text/html": [
       "<div>\n",
       "<style scoped>\n",
       "    .dataframe tbody tr th:only-of-type {\n",
       "        vertical-align: middle;\n",
       "    }\n",
       "\n",
       "    .dataframe tbody tr th {\n",
       "        vertical-align: top;\n",
       "    }\n",
       "\n",
       "    .dataframe thead th {\n",
       "        text-align: right;\n",
       "    }\n",
       "</style>\n",
       "<table border=\"1\" class=\"dataframe\">\n",
       "  <thead>\n",
       "    <tr style=\"text-align: right;\">\n",
       "      <th></th>\n",
       "      <th>iSubj</th>\n",
       "      <th>trial</th>\n",
       "      <th>Age</th>\n",
       "      <th>Decade</th>\n",
       "      <th>myVars</th>\n",
       "      <th>value</th>\n",
       "      <th>normVal</th>\n",
       "    </tr>\n",
       "  </thead>\n",
       "  <tbody>\n",
       "    <tr>\n",
       "      <th>0</th>\n",
       "      <td>1</td>\n",
       "      <td>1</td>\n",
       "      <td>76</td>\n",
       "      <td>7</td>\n",
       "      <td>medLrms51</td>\n",
       "      <td>0.189493</td>\n",
       "      <td>-0.406276</td>\n",
       "    </tr>\n",
       "    <tr>\n",
       "      <th>1</th>\n",
       "      <td>1</td>\n",
       "      <td>2</td>\n",
       "      <td>76</td>\n",
       "      <td>7</td>\n",
       "      <td>medLrms51</td>\n",
       "      <td>0.204152</td>\n",
       "      <td>-0.168225</td>\n",
       "    </tr>\n",
       "    <tr>\n",
       "      <th>2</th>\n",
       "      <td>1</td>\n",
       "      <td>3</td>\n",
       "      <td>76</td>\n",
       "      <td>7</td>\n",
       "      <td>medLrms51</td>\n",
       "      <td>0.217347</td>\n",
       "      <td>0.046049</td>\n",
       "    </tr>\n",
       "    <tr>\n",
       "      <th>3</th>\n",
       "      <td>1</td>\n",
       "      <td>4</td>\n",
       "      <td>76</td>\n",
       "      <td>7</td>\n",
       "      <td>medLrms51</td>\n",
       "      <td>0.169569</td>\n",
       "      <td>-0.729817</td>\n",
       "    </tr>\n",
       "    <tr>\n",
       "      <th>4</th>\n",
       "      <td>1</td>\n",
       "      <td>5</td>\n",
       "      <td>76</td>\n",
       "      <td>7</td>\n",
       "      <td>medLrms51</td>\n",
       "      <td>0.170786</td>\n",
       "      <td>-0.710069</td>\n",
       "    </tr>\n",
       "    <tr>\n",
       "      <th>...</th>\n",
       "      <td>...</td>\n",
       "      <td>...</td>\n",
       "      <td>...</td>\n",
       "      <td>...</td>\n",
       "      <td>...</td>\n",
       "      <td>...</td>\n",
       "      <td>...</td>\n",
       "    </tr>\n",
       "    <tr>\n",
       "      <th>4395</th>\n",
       "      <td>40</td>\n",
       "      <td>6</td>\n",
       "      <td>58</td>\n",
       "      <td>5</td>\n",
       "      <td>medLsdD51</td>\n",
       "      <td>0.079016</td>\n",
       "      <td>-1.090094</td>\n",
       "    </tr>\n",
       "    <tr>\n",
       "      <th>4396</th>\n",
       "      <td>40</td>\n",
       "      <td>7</td>\n",
       "      <td>58</td>\n",
       "      <td>5</td>\n",
       "      <td>medLsdD51</td>\n",
       "      <td>0.050360</td>\n",
       "      <td>-2.066097</td>\n",
       "    </tr>\n",
       "    <tr>\n",
       "      <th>4397</th>\n",
       "      <td>40</td>\n",
       "      <td>8</td>\n",
       "      <td>58</td>\n",
       "      <td>5</td>\n",
       "      <td>medLsdD51</td>\n",
       "      <td>0.079460</td>\n",
       "      <td>-1.074982</td>\n",
       "    </tr>\n",
       "    <tr>\n",
       "      <th>4398</th>\n",
       "      <td>40</td>\n",
       "      <td>9</td>\n",
       "      <td>58</td>\n",
       "      <td>5</td>\n",
       "      <td>medLsdD51</td>\n",
       "      <td>0.075648</td>\n",
       "      <td>-1.204796</td>\n",
       "    </tr>\n",
       "    <tr>\n",
       "      <th>4399</th>\n",
       "      <td>40</td>\n",
       "      <td>10</td>\n",
       "      <td>58</td>\n",
       "      <td>5</td>\n",
       "      <td>medLsdD51</td>\n",
       "      <td>0.099211</td>\n",
       "      <td>-0.402274</td>\n",
       "    </tr>\n",
       "  </tbody>\n",
       "</table>\n",
       "<p>4400 rows × 7 columns</p>\n",
       "</div>"
      ],
      "text/plain": [
       "      iSubj  trial  Age  Decade     myVars     value   normVal\n",
       "0         1      1   76       7  medLrms51  0.189493 -0.406276\n",
       "1         1      2   76       7  medLrms51  0.204152 -0.168225\n",
       "2         1      3   76       7  medLrms51  0.217347  0.046049\n",
       "3         1      4   76       7  medLrms51  0.169569 -0.729817\n",
       "4         1      5   76       7  medLrms51  0.170786 -0.710069\n",
       "...     ...    ...  ...     ...        ...       ...       ...\n",
       "4395     40      6   58       5  medLsdD51  0.079016 -1.090094\n",
       "4396     40      7   58       5  medLsdD51  0.050360 -2.066097\n",
       "4397     40      8   58       5  medLsdD51  0.079460 -1.074982\n",
       "4398     40      9   58       5  medLsdD51  0.075648 -1.204796\n",
       "4399     40     10   58       5  medLsdD51  0.099211 -0.402274\n",
       "\n",
       "[4400 rows x 7 columns]"
      ]
     },
     "execution_count": 26,
     "metadata": {},
     "output_type": "execute_result"
    }
   ],
   "source": [
    "l_df[\"normVal\"]=l_df.groupby('myVars').transform(\n",
    "    lambda value: (value - value.mean()) / value.std())[\"value\"]\n",
    "l_df"
   ]
  },
  {
   "cell_type": "markdown",
   "metadata": {
    "slideshow": {
     "slide_type": "slide"
    }
   },
   "source": [
    "### Normalizing the wide table"
   ]
  },
  {
   "cell_type": "code",
   "execution_count": 45,
   "metadata": {},
   "outputs": [
    {
     "data": {
      "text/html": [
       "<div>\n",
       "<style scoped>\n",
       "    .dataframe tbody tr th:only-of-type {\n",
       "        vertical-align: middle;\n",
       "    }\n",
       "\n",
       "    .dataframe tbody tr th {\n",
       "        vertical-align: top;\n",
       "    }\n",
       "\n",
       "    .dataframe thead th {\n",
       "        text-align: right;\n",
       "    }\n",
       "</style>\n",
       "<table border=\"1\" class=\"dataframe\">\n",
       "  <thead>\n",
       "    <tr style=\"text-align: right;\">\n",
       "      <th>myVars</th>\n",
       "      <th>iSubj</th>\n",
       "      <th>trial</th>\n",
       "      <th>Age</th>\n",
       "      <th>Decade</th>\n",
       "      <th>meanK</th>\n",
       "      <th>medK</th>\n",
       "      <th>medLcov51</th>\n",
       "      <th>medLcovD51</th>\n",
       "      <th>medLrms51</th>\n",
       "      <th>medLrmslD51</th>\n",
       "      <th>medLsd51</th>\n",
       "      <th>medLsdD51</th>\n",
       "      <th>medSpeed</th>\n",
       "      <th>medTI51</th>\n",
       "      <th>medTIms51</th>\n",
       "    </tr>\n",
       "  </thead>\n",
       "  <tbody>\n",
       "    <tr>\n",
       "      <th>0</th>\n",
       "      <td>1</td>\n",
       "      <td>1</td>\n",
       "      <td>76</td>\n",
       "      <td>7</td>\n",
       "      <td>333.861515</td>\n",
       "      <td>207.800939</td>\n",
       "      <td>-0.178508</td>\n",
       "      <td>0.332978</td>\n",
       "      <td>-0.406276</td>\n",
       "      <td>0.045147</td>\n",
       "      <td>-0.194534</td>\n",
       "      <td>0.614619</td>\n",
       "      <td>-0.206204</td>\n",
       "      <td>-1.179195</td>\n",
       "      <td>0.095150</td>\n",
       "    </tr>\n",
       "    <tr>\n",
       "      <th>1</th>\n",
       "      <td>1</td>\n",
       "      <td>2</td>\n",
       "      <td>76</td>\n",
       "      <td>7</td>\n",
       "      <td>319.601546</td>\n",
       "      <td>223.294322</td>\n",
       "      <td>-0.544866</td>\n",
       "      <td>-0.389216</td>\n",
       "      <td>-0.168225</td>\n",
       "      <td>0.054335</td>\n",
       "      <td>-0.465559</td>\n",
       "      <td>-0.174366</td>\n",
       "      <td>0.155747</td>\n",
       "      <td>-0.344193</td>\n",
       "      <td>-0.062731</td>\n",
       "    </tr>\n",
       "    <tr>\n",
       "      <th>2</th>\n",
       "      <td>1</td>\n",
       "      <td>3</td>\n",
       "      <td>76</td>\n",
       "      <td>7</td>\n",
       "      <td>272.460861</td>\n",
       "      <td>136.400753</td>\n",
       "      <td>1.353981</td>\n",
       "      <td>0.215643</td>\n",
       "      <td>0.046049</td>\n",
       "      <td>-0.998491</td>\n",
       "      <td>1.551026</td>\n",
       "      <td>0.779784</td>\n",
       "      <td>0.962942</td>\n",
       "      <td>0.343531</td>\n",
       "      <td>-1.409570</td>\n",
       "    </tr>\n",
       "    <tr>\n",
       "      <th>3</th>\n",
       "      <td>1</td>\n",
       "      <td>4</td>\n",
       "      <td>76</td>\n",
       "      <td>7</td>\n",
       "      <td>289.927862</td>\n",
       "      <td>162.034626</td>\n",
       "      <td>1.700509</td>\n",
       "      <td>0.202514</td>\n",
       "      <td>-0.729817</td>\n",
       "      <td>-1.645271</td>\n",
       "      <td>1.006211</td>\n",
       "      <td>-0.081213</td>\n",
       "      <td>1.035904</td>\n",
       "      <td>2.160290</td>\n",
       "      <td>-1.897633</td>\n",
       "    </tr>\n",
       "    <tr>\n",
       "      <th>4</th>\n",
       "      <td>1</td>\n",
       "      <td>5</td>\n",
       "      <td>76</td>\n",
       "      <td>7</td>\n",
       "      <td>300.625818</td>\n",
       "      <td>141.767674</td>\n",
       "      <td>1.347267</td>\n",
       "      <td>0.358471</td>\n",
       "      <td>-0.710069</td>\n",
       "      <td>-1.297759</td>\n",
       "      <td>0.861507</td>\n",
       "      <td>0.292489</td>\n",
       "      <td>0.565108</td>\n",
       "      <td>0.216632</td>\n",
       "      <td>-1.214724</td>\n",
       "    </tr>\n",
       "    <tr>\n",
       "      <th>...</th>\n",
       "      <td>...</td>\n",
       "      <td>...</td>\n",
       "      <td>...</td>\n",
       "      <td>...</td>\n",
       "      <td>...</td>\n",
       "      <td>...</td>\n",
       "      <td>...</td>\n",
       "      <td>...</td>\n",
       "      <td>...</td>\n",
       "      <td>...</td>\n",
       "      <td>...</td>\n",
       "      <td>...</td>\n",
       "      <td>...</td>\n",
       "      <td>...</td>\n",
       "      <td>...</td>\n",
       "    </tr>\n",
       "    <tr>\n",
       "      <th>395</th>\n",
       "      <td>40</td>\n",
       "      <td>6</td>\n",
       "      <td>58</td>\n",
       "      <td>5</td>\n",
       "      <td>393.654382</td>\n",
       "      <td>263.249490</td>\n",
       "      <td>-1.102122</td>\n",
       "      <td>-1.175201</td>\n",
       "      <td>1.468353</td>\n",
       "      <td>2.267786</td>\n",
       "      <td>-0.899767</td>\n",
       "      <td>-1.090094</td>\n",
       "      <td>-1.052715</td>\n",
       "      <td>-0.204683</td>\n",
       "      <td>1.032779</td>\n",
       "    </tr>\n",
       "    <tr>\n",
       "      <th>396</th>\n",
       "      <td>40</td>\n",
       "      <td>7</td>\n",
       "      <td>58</td>\n",
       "      <td>5</td>\n",
       "      <td>436.866203</td>\n",
       "      <td>285.346624</td>\n",
       "      <td>-1.267848</td>\n",
       "      <td>-1.434162</td>\n",
       "      <td>1.365997</td>\n",
       "      <td>3.023135</td>\n",
       "      <td>-1.181429</td>\n",
       "      <td>-2.066097</td>\n",
       "      <td>-1.725497</td>\n",
       "      <td>0.126370</td>\n",
       "      <td>1.873299</td>\n",
       "    </tr>\n",
       "    <tr>\n",
       "      <th>397</th>\n",
       "      <td>40</td>\n",
       "      <td>8</td>\n",
       "      <td>58</td>\n",
       "      <td>5</td>\n",
       "      <td>422.242295</td>\n",
       "      <td>292.177991</td>\n",
       "      <td>-1.108473</td>\n",
       "      <td>-1.120321</td>\n",
       "      <td>1.307570</td>\n",
       "      <td>2.709477</td>\n",
       "      <td>-0.927597</td>\n",
       "      <td>-1.074982</td>\n",
       "      <td>-1.315347</td>\n",
       "      <td>-0.207280</td>\n",
       "      <td>1.482941</td>\n",
       "    </tr>\n",
       "    <tr>\n",
       "      <th>398</th>\n",
       "      <td>40</td>\n",
       "      <td>9</td>\n",
       "      <td>58</td>\n",
       "      <td>5</td>\n",
       "      <td>392.841818</td>\n",
       "      <td>255.888346</td>\n",
       "      <td>-1.135941</td>\n",
       "      <td>-1.191309</td>\n",
       "      <td>1.555134</td>\n",
       "      <td>2.410816</td>\n",
       "      <td>-0.946214</td>\n",
       "      <td>-1.204796</td>\n",
       "      <td>-1.126462</td>\n",
       "      <td>-0.241420</td>\n",
       "      <td>1.203738</td>\n",
       "    </tr>\n",
       "    <tr>\n",
       "      <th>399</th>\n",
       "      <td>40</td>\n",
       "      <td>10</td>\n",
       "      <td>58</td>\n",
       "      <td>5</td>\n",
       "      <td>367.536358</td>\n",
       "      <td>225.649255</td>\n",
       "      <td>-0.977967</td>\n",
       "      <td>-0.958482</td>\n",
       "      <td>1.669779</td>\n",
       "      <td>2.284577</td>\n",
       "      <td>-0.693999</td>\n",
       "      <td>-0.402274</td>\n",
       "      <td>-1.008167</td>\n",
       "      <td>0.079243</td>\n",
       "      <td>1.099630</td>\n",
       "    </tr>\n",
       "  </tbody>\n",
       "</table>\n",
       "<p>400 rows × 15 columns</p>\n",
       "</div>"
      ],
      "text/plain": [
       "myVars  iSubj  trial  Age  Decade       meanK        medK  medLcov51  \\\n",
       "0           1      1   76       7  333.861515  207.800939  -0.178508   \n",
       "1           1      2   76       7  319.601546  223.294322  -0.544866   \n",
       "2           1      3   76       7  272.460861  136.400753   1.353981   \n",
       "3           1      4   76       7  289.927862  162.034626   1.700509   \n",
       "4           1      5   76       7  300.625818  141.767674   1.347267   \n",
       "..        ...    ...  ...     ...         ...         ...        ...   \n",
       "395        40      6   58       5  393.654382  263.249490  -1.102122   \n",
       "396        40      7   58       5  436.866203  285.346624  -1.267848   \n",
       "397        40      8   58       5  422.242295  292.177991  -1.108473   \n",
       "398        40      9   58       5  392.841818  255.888346  -1.135941   \n",
       "399        40     10   58       5  367.536358  225.649255  -0.977967   \n",
       "\n",
       "myVars  medLcovD51  medLrms51  medLrmslD51  medLsd51  medLsdD51  medSpeed  \\\n",
       "0         0.332978  -0.406276     0.045147 -0.194534   0.614619 -0.206204   \n",
       "1        -0.389216  -0.168225     0.054335 -0.465559  -0.174366  0.155747   \n",
       "2         0.215643   0.046049    -0.998491  1.551026   0.779784  0.962942   \n",
       "3         0.202514  -0.729817    -1.645271  1.006211  -0.081213  1.035904   \n",
       "4         0.358471  -0.710069    -1.297759  0.861507   0.292489  0.565108   \n",
       "..             ...        ...          ...       ...        ...       ...   \n",
       "395      -1.175201   1.468353     2.267786 -0.899767  -1.090094 -1.052715   \n",
       "396      -1.434162   1.365997     3.023135 -1.181429  -2.066097 -1.725497   \n",
       "397      -1.120321   1.307570     2.709477 -0.927597  -1.074982 -1.315347   \n",
       "398      -1.191309   1.555134     2.410816 -0.946214  -1.204796 -1.126462   \n",
       "399      -0.958482   1.669779     2.284577 -0.693999  -0.402274 -1.008167   \n",
       "\n",
       "myVars   medTI51  medTIms51  \n",
       "0      -1.179195   0.095150  \n",
       "1      -0.344193  -0.062731  \n",
       "2       0.343531  -1.409570  \n",
       "3       2.160290  -1.897633  \n",
       "4       0.216632  -1.214724  \n",
       "..           ...        ...  \n",
       "395    -0.204683   1.032779  \n",
       "396     0.126370   1.873299  \n",
       "397    -0.207280   1.482941  \n",
       "398    -0.241420   1.203738  \n",
       "399     0.079243   1.099630  \n",
       "\n",
       "[400 rows x 15 columns]"
      ]
     },
     "execution_count": 45,
     "metadata": {},
     "output_type": "execute_result"
    }
   ],
   "source": [
    "w_df.reset_index(inplace=True)\n",
    "\n",
    "#Select columns to normalize\n",
    "cols_to_norm = w_df.columns[6:17]\n",
    "cols_to_norm\n",
    "\n",
    "w_df[cols_to_norm] = w_df[cols_to_norm].transform(lambda value: (value - value.mean()) / value.std())\n",
    "w_df"
   ]
  },
  {
   "cell_type": "markdown",
   "metadata": {
    "slideshow": {
     "slide_type": "slide"
    }
   },
   "source": [
    "#### Exercise: apply min max normalization to the wide and long dataframes"
   ]
  },
  {
   "cell_type": "code",
   "execution_count": null,
   "metadata": {},
   "outputs": [],
   "source": []
  },
  {
   "cell_type": "markdown",
   "metadata": {
    "slideshow": {
     "slide_type": "slide"
    }
   },
   "source": [
    "### Histogram (1D)\n",
    "Let's create a histogram using the `medSpeed` column"
   ]
  },
  {
   "cell_type": "code",
   "execution_count": 3,
   "metadata": {},
   "outputs": [
    {
     "data": {
      "text/plain": [
       "1      0.488721\n",
       "2      0.518278\n",
       "3      0.584193\n",
       "4      0.590151\n",
       "5      0.551706\n",
       "         ...   \n",
       "396    0.419596\n",
       "397    0.364656\n",
       "398    0.398149\n",
       "399    0.413573\n",
       "400    0.423233\n",
       "Name: medSpeed, Length: 400, dtype: float64"
      ]
     },
     "execution_count": 3,
     "metadata": {},
     "output_type": "execute_result"
    }
   ],
   "source": [
    "tableRes[\"medSpeed\"]"
   ]
  },
  {
   "cell_type": "markdown",
   "metadata": {
    "slideshow": {
     "slide_type": "slide"
    }
   },
   "source": [
    "### Python packages\n",
    "Plotly + Cufflinks\n",
    "\n",
    "https://plotly.com/python/getting-started/\n",
    "\n",
    "The plotly Python library (plotly.py) is an interactive, open-source plotting library.\n",
    "\n",
    "https://github.com/santosjorge/cufflinks\n",
    "\n",
    "This library binds the power of plotly with the flexibility of pandas for easy plotting.\n",
    "\n"
   ]
  },
  {
   "cell_type": "markdown",
   "metadata": {
    "slideshow": {
     "slide_type": "slide"
    }
   },
   "source": [
    "### If `cufflinks` is missing\n",
    "```\n",
    "import cufflinks as cf\n",
    "--------------------------------------------------------------------------\n",
    "ModuleNotFoundError                       Traceback (most recent call last)\n",
    "<ipython-input-6-3178e833bc72> in <module>\n",
    "----> 1 import cufflinks as cf\n",
    "ModuleNotFoundError: No module named 'cufflinks'\n",
    "```\n",
    "Temporal solution, remove the `#` in the following cell and run the cell"
   ]
  },
  {
   "cell_type": "code",
   "execution_count": 4,
   "metadata": {},
   "outputs": [],
   "source": [
    "#!conda install -y -c conda-forge cufflinks-py"
   ]
  },
  {
   "cell_type": "markdown",
   "metadata": {
    "slideshow": {
     "slide_type": "slide"
    }
   },
   "source": [
    "### Persistent solution \n",
    "Create Dockerfile.datavis01\n",
    "```\n",
    "FROM jupyter/datascience-notebook:8b4d6f6ac0d7\n",
    "\n",
    "RUN conda install -y -c conda-forge cufflinks-py\n",
    "```\n",
    "Building the image\n",
    "```\n",
    "$ docker build -t jupyter/datascience-notebook:vis \\\n",
    "        -f docker/Dockerfile.datavis01 docker/\n",
    "```\n",
    "\n",
    "Running the container\n",
    "```\n",
    "$ docker run --rm -p 8888:8888 -e JUPYTER_ENABLE_LAB=yes \\\n",
    "    -v \"$PWD\":/home/jovyan/work jupyter/datascience-notebook:vis\n",
    "```"
   ]
  },
  {
   "cell_type": "code",
   "execution_count": 5,
   "metadata": {
    "slideshow": {
     "slide_type": "slide"
    }
   },
   "outputs": [],
   "source": [
    "# https://github.com/plotly/plotly.py/issues/1664#issuecomment-511773518\n",
    "import plotly.graph_objects as go\n",
    "import plotly.io as pio\n",
    "\n",
    "# Set default renderer\n",
    "pio.renderers.default = 'notebook+jupyterlab'  #  See [1]\n",
    "# Set default template\n",
    "pio.templates['slides'] = go.layout.Template(layout=dict(width=800, height=600))\n",
    "pio.templates.default = 'plotly+slides'  # See [2]"
   ]
  },
  {
   "cell_type": "code",
   "execution_count": 6,
   "metadata": {
    "slideshow": {
     "slide_type": "slide"
    }
   },
   "outputs": [
    {
     "data": {
      "text/html": [
       "        <script type=\"text/javascript\">\n",
       "        window.PlotlyConfig = {MathJaxConfig: 'local'};\n",
       "        if (window.MathJax) {MathJax.Hub.Config({SVG: {font: \"STIX-Web\"}});}\n",
       "        if (typeof require !== 'undefined') {\n",
       "        require.undef(\"plotly\");\n",
       "        requirejs.config({\n",
       "            paths: {\n",
       "                'plotly': ['https://cdn.plot.ly/plotly-latest.min']\n",
       "            }\n",
       "        });\n",
       "        require(['plotly'], function(Plotly) {\n",
       "            window._Plotly = Plotly;\n",
       "        });\n",
       "        }\n",
       "        </script>\n",
       "        "
      ]
     },
     "metadata": {},
     "output_type": "display_data"
    },
    {
     "name": "stdout",
     "output_type": "stream",
     "text": [
      "Use 'cufflinks.help(figure)' to see the list of available parameters for the given figure.\n",
      "Use 'DataFrame.iplot(kind=figure)' to plot the respective figure\n",
      "Figures:\n",
      "\tbar\n",
      "\tbox\n",
      "\tbubble\n",
      "\tbubble3d\n",
      "\tcandle\n",
      "\tchoroplet\n",
      "\tdistplot\n",
      "\theatmap\n",
      "\thistogram\n",
      "\tohlc\n",
      "\tpie\n",
      "\tratio\n",
      "\tscatter\n",
      "\tscatter3d\n",
      "\tscattergeo\n",
      "\tspread\n",
      "\tsurface\n",
      "\tviolin\n"
     ]
    }
   ],
   "source": [
    "# Importing the packages\n",
    "from plotly.offline import iplot\n",
    "import cufflinks as cf\n",
    "cf.go_offline()\n",
    "\n",
    "# some help\n",
    "cf.help()"
   ]
  },
  {
   "cell_type": "code",
   "execution_count": 7,
   "metadata": {
    "scrolled": true,
    "slideshow": {
     "slide_type": "slide"
    }
   },
   "outputs": [
    {
     "data": {
      "application/vnd.plotly.v1+json": {
       "config": {
        "linkText": "Export to plot.ly",
        "plotlyServerURL": "https://plot.ly",
        "showLink": true
       },
       "data": [
        {
         "histfunc": "count",
         "histnorm": "",
         "marker": {
          "color": "rgba(255, 153, 51, 1.0)",
          "line": {
           "color": "#000000",
           "width": 1.3
          }
         },
         "name": "medSpeed",
         "nbinsx": 50,
         "opacity": 0.8,
         "orientation": "v",
         "type": "histogram",
         "x": [
          0.48872130744387204,
          0.51827812584294,
          0.584193391386097,
          0.59015141620192,
          0.5517063546132359,
          0.587282114595014,
          0.55308032689175,
          0.52254341164223,
          0.530063344327168,
          0.540263423874597,
          0.387222605437495,
          0.450768522534609,
          0.39128963461388,
          0.43805838740843495,
          0.41549286289668,
          0.453501019506199,
          0.43801521325494497,
          0.45112228888601297,
          0.462803884156875,
          0.42914913903181395,
          0.35235844855314,
          0.359246905734974,
          0.36676533200320793,
          0.378454985407938,
          0.4350529010751121,
          0.426273667063716,
          0.40401715206089295,
          0.38192646138445296,
          0.38389892923259294,
          0.377033359833349,
          0.34582405332153804,
          0.35656771834007206,
          0.381679228952711,
          0.36080691685772703,
          0.39957652775197794,
          0.37721201082904493,
          0.35380860734273,
          0.376391270589379,
          0.36071953155564296,
          0.34928274553362704,
          0.45690407304686703,
          0.420646266893724,
          0.399110795553581,
          0.421845768764375,
          0.534969826630471,
          0.573122100067188,
          0.433418195442475,
          0.437167684248153,
          0.48458436942358,
          0.47955543153647207,
          0.47064402648114895,
          0.44533086400892496,
          0.42273304867358796,
          0.508558179021927,
          0.55054691189201,
          0.5040907702796121,
          0.44007176511767104,
          0.44557854669850605,
          0.475221374392346,
          0.461249294595346,
          0.489169994785536,
          0.482388882980609,
          0.466529768923947,
          0.48440363884253496,
          0.544894293740855,
          0.510549945138572,
          0.593681960202378,
          0.590281987666764,
          0.52075543249156,
          0.5185040055910829,
          0.426309029715918,
          0.44015052471000204,
          0.443690389537745,
          0.432588701823142,
          0.47894744256860294,
          0.517292927464876,
          0.46397408204288104,
          0.471594678139311,
          0.453718031595967,
          0.458362594604925,
          0.39455598487612703,
          0.49562226406570203,
          0.487813234244497,
          0.496375247037302,
          0.522360705577424,
          0.436847036655513,
          0.456214649267651,
          0.44003497281446,
          0.49967511224046,
          0.5237857980249551,
          0.575159912777042,
          0.570246661355611,
          0.5034581021524299,
          0.49458066813876705,
          0.46468045151111,
          0.473020692560364,
          0.548730303110981,
          0.548553606042092,
          0.526125565860168,
          0.520071567731713,
          0.539152094968576,
          0.5996167609646421,
          0.558288225231337,
          0.531914135968739,
          0.623791299717078,
          0.660376465086469,
          0.532883301315341,
          0.523831452005289,
          0.5254552822038929,
          0.548256769362627,
          0.4429658477037921,
          0.46856891153944397,
          0.46455540228403397,
          0.468132055659101,
          0.5466786923120399,
          0.555413469419979,
          0.46751349471895703,
          0.46413229245113896,
          0.45790903986426,
          0.431995422738489,
          0.388406076956004,
          0.439791905871548,
          0.430379116517372,
          0.426564320166628,
          0.51140875863192,
          0.47570715927489704,
          0.43422092157240794,
          0.405333321865616,
          0.44441008287051204,
          0.42151781283229,
          0.44276786312502503,
          0.48811504654473903,
          0.508098075885185,
          0.5072792964503039,
          0.5266702475640871,
          0.472111040244817,
          0.583945357263438,
          0.599943176902903,
          0.49962732660491704,
          0.523700499492325,
          0.491015879674169,
          0.46616217387973397,
          0.48559845414248104,
          0.48826890775468895,
          0.518626747296309,
          0.60078462122842,
          0.500646598394576,
          0.515436236186739,
          0.493025055830165,
          0.492100939527416,
          0.397860453734464,
          0.430015607241388,
          0.40327848297478003,
          0.44294516847284704,
          0.442263717480213,
          0.4560473124225179,
          0.362440812247397,
          0.3933830995935129,
          0.427458020831889,
          0.399237974885245,
          0.3666267429888371,
          0.437406017557081,
          0.433251731015601,
          0.47193738793689793,
          0.479609417468229,
          0.47095413095590993,
          0.43181463261065295,
          0.432211477602137,
          0.440431800037406,
          0.41693091786510705,
          0.475428472211171,
          0.484943281554252,
          0.5157738921111881,
          0.496881101602569,
          0.5521783669104471,
          0.4915655736296529,
          0.47840969179631504,
          0.47332508435364,
          0.528027651391982,
          0.471196865199427,
          0.35026850175736607,
          0.34998473222184895,
          0.393138682493284,
          0.344890657873431,
          0.422152915082303,
          0.418096936328918,
          0.3613377661662271,
          0.34347706900279806,
          0.36987482548496703,
          0.36409914964561796,
          0.590908333220783,
          0.48306684817924395,
          0.476504239787414,
          0.49851789796912394,
          0.5395930541252411,
          0.5249266227019861,
          0.4996873326526479,
          0.48859470440272995,
          0.5134014524119871,
          0.486393001420854,
          0.632254100653736,
          0.636928260549419,
          0.6090885104465911,
          0.603193641880494,
          0.627226532717168,
          0.674225330788642,
          0.6195306601376589,
          0.764886824377155,
          0.5977104875159399,
          0.652335574311658,
          0.481042994800056,
          0.541741511858877,
          0.502431667953716,
          0.5392499187417571,
          0.589989558640965,
          0.534680076820479,
          0.485789716866979,
          0.5018577597009249,
          0.52271419436449,
          0.528875772671891,
          0.55906167463856,
          0.546815866049208,
          0.516372299589718,
          0.49391692542214705,
          0.57272150355998,
          0.503117020790448,
          0.482321009174152,
          0.510498245818408,
          0.528576673391024,
          0.518682900590137,
          0.59253135731198,
          0.591115154291822,
          0.637082108451129,
          0.631023365765522,
          0.709162149139618,
          0.623263049400905,
          0.504009825846674,
          0.549153204183877,
          0.574593385941922,
          0.631345623266547,
          0.530200576398201,
          0.579979390435776,
          0.556717323980801,
          0.599103092994557,
          0.579359804298678,
          0.5838691616877829,
          0.630570354868278,
          0.595931934071379,
          0.526068121342661,
          0.584716657264441,
          0.530074206725177,
          0.553095354808501,
          0.533529722132763,
          0.496946177590387,
          0.504922842873623,
          0.565077351414915,
          0.537584334656783,
          0.4870397868686911,
          0.5738148235575711,
          0.5569938013264351,
          0.72392426820288,
          0.6727290109499221,
          0.5927347473088079,
          0.62352495269885,
          0.6928839854833571,
          0.901496899397403,
          0.463006222930296,
          0.44829576255303005,
          0.575663851487602,
          0.5307903057295539,
          0.6448219173878349,
          0.6208657388274439,
          0.613969401781273,
          0.5777234927622039,
          0.6256919003917839,
          0.6557164091488139,
          0.507392767678301,
          0.567218376512848,
          0.5728559556957591,
          0.5512505027705339,
          0.5276790330254411,
          0.6288322323234941,
          0.6292419737868671,
          0.5666003443687261,
          0.652057431372869,
          0.6914714920648399,
          0.526564693839538,
          0.607067207678611,
          0.636497547305548,
          0.582759459533312,
          0.457970842253387,
          0.44580556508347496,
          0.446633804456295,
          0.45988791124511297,
          0.482452506084012,
          0.5054077571444571,
          0.46718980648241704,
          0.425893148282501,
          0.4122128422994679,
          0.411167420162372,
          0.47979658763263205,
          0.48889493046359894,
          0.470427754014329,
          0.462325397723075,
          0.544586567070917,
          0.530089195423178,
          0.5189139648464071,
          0.49094759583891495,
          0.449111305113235,
          0.478095018099383,
          0.456897988736458,
          0.525866341625154,
          0.5872979982006021,
          0.578849714541203,
          0.539471746404678,
          0.5669188203367049,
          0.44518933705497704,
          0.48670937123891794,
          0.485549913802835,
          0.555097061317527,
          0.603695860090528,
          0.7268027586008109,
          0.619007769880374,
          0.6213125234568271,
          0.6795857455827979,
          0.711522580765411,
          0.5251248538189229,
          0.563202786563106,
          0.579492628702818,
          0.586473205900828,
          0.5651616911406679,
          0.551715777051501,
          0.540969384338816,
          0.515857818054797,
          0.537190515832617,
          0.596506879477871,
          0.49743048471254603,
          0.483120644929747,
          0.584583941528123,
          0.53544328931702,
          0.48025848610114397,
          0.48831369307493394,
          0.480721478106469,
          0.465312169763147,
          0.503595723350414,
          0.519130041190101,
          0.444244929056113,
          0.470859056206855,
          0.47460930907128795,
          0.493318265076323,
          0.527069409621558,
          0.579524002367882,
          0.5604315601421911,
          0.599344799553043,
          0.6039562793978039,
          0.6279272946771101,
          0.522622656555611,
          0.516380167609349,
          0.650700649711852,
          0.5663037609840389,
          0.595574124698411,
          0.49218945538302705,
          0.5489912845437079,
          0.5645543257829979,
          0.5568427879860379,
          0.5616822888643579,
          0.574178104461735,
          0.594545859667444,
          0.557225048324841,
          0.544527896748546,
          0.522684098789013,
          0.535445055966808,
          0.609645534100781,
          0.526557988422357,
          0.573438043057163,
          0.5687989396324661,
          0.42785472456757107,
          0.424329122071364,
          0.595245920820467,
          0.573247010019535,
          0.43348606258759104,
          0.400308194852976,
          0.43180612173626703,
          0.449361974753771,
          0.46661842442137896,
          0.50809564659121,
          0.40768872857498706,
          0.479586428957308,
          0.43624633496465004,
          0.46093069795059993,
          0.400463229697722,
          0.38073345599782504,
          0.371483802781656,
          0.3950776329685611,
          0.385270754550005,
          0.419595532447548,
          0.364656379055731,
          0.398149046019948,
          0.4135733399936671,
          0.42323324208051205
         ]
        }
       ],
       "layout": {
        "barmode": "overlay",
        "legend": {
         "bgcolor": "#F5F6F9",
         "font": {
          "color": "#4D5663"
         }
        },
        "paper_bgcolor": "#F5F6F9",
        "plot_bgcolor": "#F5F6F9",
        "template": {
         "data": {
          "bar": [
           {
            "error_x": {
             "color": "#2a3f5f"
            },
            "error_y": {
             "color": "#2a3f5f"
            },
            "marker": {
             "line": {
              "color": "#E5ECF6",
              "width": 0.5
             }
            },
            "type": "bar"
           }
          ],
          "barpolar": [
           {
            "marker": {
             "line": {
              "color": "#E5ECF6",
              "width": 0.5
             }
            },
            "type": "barpolar"
           }
          ],
          "carpet": [
           {
            "aaxis": {
             "endlinecolor": "#2a3f5f",
             "gridcolor": "white",
             "linecolor": "white",
             "minorgridcolor": "white",
             "startlinecolor": "#2a3f5f"
            },
            "baxis": {
             "endlinecolor": "#2a3f5f",
             "gridcolor": "white",
             "linecolor": "white",
             "minorgridcolor": "white",
             "startlinecolor": "#2a3f5f"
            },
            "type": "carpet"
           }
          ],
          "choropleth": [
           {
            "colorbar": {
             "outlinewidth": 0,
             "ticks": ""
            },
            "type": "choropleth"
           }
          ],
          "contour": [
           {
            "colorbar": {
             "outlinewidth": 0,
             "ticks": ""
            },
            "colorscale": [
             [
              0,
              "#0d0887"
             ],
             [
              0.1111111111111111,
              "#46039f"
             ],
             [
              0.2222222222222222,
              "#7201a8"
             ],
             [
              0.3333333333333333,
              "#9c179e"
             ],
             [
              0.4444444444444444,
              "#bd3786"
             ],
             [
              0.5555555555555556,
              "#d8576b"
             ],
             [
              0.6666666666666666,
              "#ed7953"
             ],
             [
              0.7777777777777778,
              "#fb9f3a"
             ],
             [
              0.8888888888888888,
              "#fdca26"
             ],
             [
              1,
              "#f0f921"
             ]
            ],
            "type": "contour"
           }
          ],
          "contourcarpet": [
           {
            "colorbar": {
             "outlinewidth": 0,
             "ticks": ""
            },
            "type": "contourcarpet"
           }
          ],
          "heatmap": [
           {
            "colorbar": {
             "outlinewidth": 0,
             "ticks": ""
            },
            "colorscale": [
             [
              0,
              "#0d0887"
             ],
             [
              0.1111111111111111,
              "#46039f"
             ],
             [
              0.2222222222222222,
              "#7201a8"
             ],
             [
              0.3333333333333333,
              "#9c179e"
             ],
             [
              0.4444444444444444,
              "#bd3786"
             ],
             [
              0.5555555555555556,
              "#d8576b"
             ],
             [
              0.6666666666666666,
              "#ed7953"
             ],
             [
              0.7777777777777778,
              "#fb9f3a"
             ],
             [
              0.8888888888888888,
              "#fdca26"
             ],
             [
              1,
              "#f0f921"
             ]
            ],
            "type": "heatmap"
           }
          ],
          "heatmapgl": [
           {
            "colorbar": {
             "outlinewidth": 0,
             "ticks": ""
            },
            "colorscale": [
             [
              0,
              "#0d0887"
             ],
             [
              0.1111111111111111,
              "#46039f"
             ],
             [
              0.2222222222222222,
              "#7201a8"
             ],
             [
              0.3333333333333333,
              "#9c179e"
             ],
             [
              0.4444444444444444,
              "#bd3786"
             ],
             [
              0.5555555555555556,
              "#d8576b"
             ],
             [
              0.6666666666666666,
              "#ed7953"
             ],
             [
              0.7777777777777778,
              "#fb9f3a"
             ],
             [
              0.8888888888888888,
              "#fdca26"
             ],
             [
              1,
              "#f0f921"
             ]
            ],
            "type": "heatmapgl"
           }
          ],
          "histogram": [
           {
            "marker": {
             "colorbar": {
              "outlinewidth": 0,
              "ticks": ""
             }
            },
            "type": "histogram"
           }
          ],
          "histogram2d": [
           {
            "colorbar": {
             "outlinewidth": 0,
             "ticks": ""
            },
            "colorscale": [
             [
              0,
              "#0d0887"
             ],
             [
              0.1111111111111111,
              "#46039f"
             ],
             [
              0.2222222222222222,
              "#7201a8"
             ],
             [
              0.3333333333333333,
              "#9c179e"
             ],
             [
              0.4444444444444444,
              "#bd3786"
             ],
             [
              0.5555555555555556,
              "#d8576b"
             ],
             [
              0.6666666666666666,
              "#ed7953"
             ],
             [
              0.7777777777777778,
              "#fb9f3a"
             ],
             [
              0.8888888888888888,
              "#fdca26"
             ],
             [
              1,
              "#f0f921"
             ]
            ],
            "type": "histogram2d"
           }
          ],
          "histogram2dcontour": [
           {
            "colorbar": {
             "outlinewidth": 0,
             "ticks": ""
            },
            "colorscale": [
             [
              0,
              "#0d0887"
             ],
             [
              0.1111111111111111,
              "#46039f"
             ],
             [
              0.2222222222222222,
              "#7201a8"
             ],
             [
              0.3333333333333333,
              "#9c179e"
             ],
             [
              0.4444444444444444,
              "#bd3786"
             ],
             [
              0.5555555555555556,
              "#d8576b"
             ],
             [
              0.6666666666666666,
              "#ed7953"
             ],
             [
              0.7777777777777778,
              "#fb9f3a"
             ],
             [
              0.8888888888888888,
              "#fdca26"
             ],
             [
              1,
              "#f0f921"
             ]
            ],
            "type": "histogram2dcontour"
           }
          ],
          "mesh3d": [
           {
            "colorbar": {
             "outlinewidth": 0,
             "ticks": ""
            },
            "type": "mesh3d"
           }
          ],
          "parcoords": [
           {
            "line": {
             "colorbar": {
              "outlinewidth": 0,
              "ticks": ""
             }
            },
            "type": "parcoords"
           }
          ],
          "pie": [
           {
            "automargin": true,
            "type": "pie"
           }
          ],
          "scatter": [
           {
            "marker": {
             "colorbar": {
              "outlinewidth": 0,
              "ticks": ""
             }
            },
            "type": "scatter"
           }
          ],
          "scatter3d": [
           {
            "line": {
             "colorbar": {
              "outlinewidth": 0,
              "ticks": ""
             }
            },
            "marker": {
             "colorbar": {
              "outlinewidth": 0,
              "ticks": ""
             }
            },
            "type": "scatter3d"
           }
          ],
          "scattercarpet": [
           {
            "marker": {
             "colorbar": {
              "outlinewidth": 0,
              "ticks": ""
             }
            },
            "type": "scattercarpet"
           }
          ],
          "scattergeo": [
           {
            "marker": {
             "colorbar": {
              "outlinewidth": 0,
              "ticks": ""
             }
            },
            "type": "scattergeo"
           }
          ],
          "scattergl": [
           {
            "marker": {
             "colorbar": {
              "outlinewidth": 0,
              "ticks": ""
             }
            },
            "type": "scattergl"
           }
          ],
          "scattermapbox": [
           {
            "marker": {
             "colorbar": {
              "outlinewidth": 0,
              "ticks": ""
             }
            },
            "type": "scattermapbox"
           }
          ],
          "scatterpolar": [
           {
            "marker": {
             "colorbar": {
              "outlinewidth": 0,
              "ticks": ""
             }
            },
            "type": "scatterpolar"
           }
          ],
          "scatterpolargl": [
           {
            "marker": {
             "colorbar": {
              "outlinewidth": 0,
              "ticks": ""
             }
            },
            "type": "scatterpolargl"
           }
          ],
          "scatterternary": [
           {
            "marker": {
             "colorbar": {
              "outlinewidth": 0,
              "ticks": ""
             }
            },
            "type": "scatterternary"
           }
          ],
          "surface": [
           {
            "colorbar": {
             "outlinewidth": 0,
             "ticks": ""
            },
            "colorscale": [
             [
              0,
              "#0d0887"
             ],
             [
              0.1111111111111111,
              "#46039f"
             ],
             [
              0.2222222222222222,
              "#7201a8"
             ],
             [
              0.3333333333333333,
              "#9c179e"
             ],
             [
              0.4444444444444444,
              "#bd3786"
             ],
             [
              0.5555555555555556,
              "#d8576b"
             ],
             [
              0.6666666666666666,
              "#ed7953"
             ],
             [
              0.7777777777777778,
              "#fb9f3a"
             ],
             [
              0.8888888888888888,
              "#fdca26"
             ],
             [
              1,
              "#f0f921"
             ]
            ],
            "type": "surface"
           }
          ],
          "table": [
           {
            "cells": {
             "fill": {
              "color": "#EBF0F8"
             },
             "line": {
              "color": "white"
             }
            },
            "header": {
             "fill": {
              "color": "#C8D4E3"
             },
             "line": {
              "color": "white"
             }
            },
            "type": "table"
           }
          ]
         },
         "layout": {
          "annotationdefaults": {
           "arrowcolor": "#2a3f5f",
           "arrowhead": 0,
           "arrowwidth": 1
          },
          "coloraxis": {
           "colorbar": {
            "outlinewidth": 0,
            "ticks": ""
           }
          },
          "colorscale": {
           "diverging": [
            [
             0,
             "#8e0152"
            ],
            [
             0.1,
             "#c51b7d"
            ],
            [
             0.2,
             "#de77ae"
            ],
            [
             0.3,
             "#f1b6da"
            ],
            [
             0.4,
             "#fde0ef"
            ],
            [
             0.5,
             "#f7f7f7"
            ],
            [
             0.6,
             "#e6f5d0"
            ],
            [
             0.7,
             "#b8e186"
            ],
            [
             0.8,
             "#7fbc41"
            ],
            [
             0.9,
             "#4d9221"
            ],
            [
             1,
             "#276419"
            ]
           ],
           "sequential": [
            [
             0,
             "#0d0887"
            ],
            [
             0.1111111111111111,
             "#46039f"
            ],
            [
             0.2222222222222222,
             "#7201a8"
            ],
            [
             0.3333333333333333,
             "#9c179e"
            ],
            [
             0.4444444444444444,
             "#bd3786"
            ],
            [
             0.5555555555555556,
             "#d8576b"
            ],
            [
             0.6666666666666666,
             "#ed7953"
            ],
            [
             0.7777777777777778,
             "#fb9f3a"
            ],
            [
             0.8888888888888888,
             "#fdca26"
            ],
            [
             1,
             "#f0f921"
            ]
           ],
           "sequentialminus": [
            [
             0,
             "#0d0887"
            ],
            [
             0.1111111111111111,
             "#46039f"
            ],
            [
             0.2222222222222222,
             "#7201a8"
            ],
            [
             0.3333333333333333,
             "#9c179e"
            ],
            [
             0.4444444444444444,
             "#bd3786"
            ],
            [
             0.5555555555555556,
             "#d8576b"
            ],
            [
             0.6666666666666666,
             "#ed7953"
            ],
            [
             0.7777777777777778,
             "#fb9f3a"
            ],
            [
             0.8888888888888888,
             "#fdca26"
            ],
            [
             1,
             "#f0f921"
            ]
           ]
          },
          "colorway": [
           "#636efa",
           "#EF553B",
           "#00cc96",
           "#ab63fa",
           "#FFA15A",
           "#19d3f3",
           "#FF6692",
           "#B6E880",
           "#FF97FF",
           "#FECB52"
          ],
          "font": {
           "color": "#2a3f5f"
          },
          "geo": {
           "bgcolor": "white",
           "lakecolor": "white",
           "landcolor": "#E5ECF6",
           "showlakes": true,
           "showland": true,
           "subunitcolor": "white"
          },
          "height": 600,
          "hoverlabel": {
           "align": "left"
          },
          "hovermode": "closest",
          "mapbox": {
           "style": "light"
          },
          "paper_bgcolor": "white",
          "plot_bgcolor": "#E5ECF6",
          "polar": {
           "angularaxis": {
            "gridcolor": "white",
            "linecolor": "white",
            "ticks": ""
           },
           "bgcolor": "#E5ECF6",
           "radialaxis": {
            "gridcolor": "white",
            "linecolor": "white",
            "ticks": ""
           }
          },
          "scene": {
           "xaxis": {
            "backgroundcolor": "#E5ECF6",
            "gridcolor": "white",
            "gridwidth": 2,
            "linecolor": "white",
            "showbackground": true,
            "ticks": "",
            "zerolinecolor": "white"
           },
           "yaxis": {
            "backgroundcolor": "#E5ECF6",
            "gridcolor": "white",
            "gridwidth": 2,
            "linecolor": "white",
            "showbackground": true,
            "ticks": "",
            "zerolinecolor": "white"
           },
           "zaxis": {
            "backgroundcolor": "#E5ECF6",
            "gridcolor": "white",
            "gridwidth": 2,
            "linecolor": "white",
            "showbackground": true,
            "ticks": "",
            "zerolinecolor": "white"
           }
          },
          "shapedefaults": {
           "line": {
            "color": "#2a3f5f"
           }
          },
          "ternary": {
           "aaxis": {
            "gridcolor": "white",
            "linecolor": "white",
            "ticks": ""
           },
           "baxis": {
            "gridcolor": "white",
            "linecolor": "white",
            "ticks": ""
           },
           "bgcolor": "#E5ECF6",
           "caxis": {
            "gridcolor": "white",
            "linecolor": "white",
            "ticks": ""
           }
          },
          "title": {
           "x": 0.05
          },
          "width": 800,
          "xaxis": {
           "automargin": true,
           "gridcolor": "white",
           "linecolor": "white",
           "ticks": "",
           "title": {
            "standoff": 15
           },
           "zerolinecolor": "white",
           "zerolinewidth": 2
          },
          "yaxis": {
           "automargin": true,
           "gridcolor": "white",
           "linecolor": "white",
           "ticks": "",
           "title": {
            "standoff": 15
           },
           "zerolinecolor": "white",
           "zerolinewidth": 2
          }
         }
        },
        "title": {
         "font": {
          "color": "#4D5663"
         },
         "text": "Speed Distribution"
        },
        "xaxis": {
         "gridcolor": "#E1E5ED",
         "linecolor": "black",
         "showgrid": true,
         "tickfont": {
          "color": "#4D5663"
         },
         "title": {
          "font": {
           "color": "#4D5663"
          },
          "text": "Speed"
         },
         "zerolinecolor": "#E1E5ED"
        },
        "yaxis": {
         "gridcolor": "#E1E5ED",
         "linecolor": "black",
         "showgrid": true,
         "tickfont": {
          "color": "#4D5663"
         },
         "title": {
          "font": {
           "color": "#4D5663"
          },
          "text": "count"
         },
         "zerolinecolor": "#E1E5ED"
        }
       }
      },
      "text/html": [
       "<div>\n",
       "        \n",
       "        \n",
       "            <div id=\"1227de0f-55e1-4d85-8e00-4a100bbe5a64\" class=\"plotly-graph-div\" style=\"height:600px; width:800px;\"></div>\n",
       "            <script type=\"text/javascript\">\n",
       "                require([\"plotly\"], function(Plotly) {\n",
       "                    window.PLOTLYENV=window.PLOTLYENV || {};\n",
       "                    window.PLOTLYENV.BASE_URL='https://plot.ly';\n",
       "                    \n",
       "                if (document.getElementById(\"1227de0f-55e1-4d85-8e00-4a100bbe5a64\")) {\n",
       "                    Plotly.newPlot(\n",
       "                        '1227de0f-55e1-4d85-8e00-4a100bbe5a64',\n",
       "                        [{\"histfunc\": \"count\", \"histnorm\": \"\", \"marker\": {\"color\": \"rgba(255, 153, 51, 1.0)\", \"line\": {\"color\": \"#000000\", \"width\": 1.3}}, \"name\": \"medSpeed\", \"nbinsx\": 50, \"opacity\": 0.8, \"orientation\": \"v\", \"type\": \"histogram\", \"x\": [0.48872130744387204, 0.51827812584294, 0.584193391386097, 0.59015141620192, 0.5517063546132359, 0.587282114595014, 0.55308032689175, 0.52254341164223, 0.530063344327168, 0.540263423874597, 0.387222605437495, 0.450768522534609, 0.39128963461388, 0.43805838740843495, 0.41549286289668, 0.453501019506199, 0.43801521325494497, 0.45112228888601297, 0.462803884156875, 0.42914913903181395, 0.35235844855314, 0.359246905734974, 0.36676533200320793, 0.378454985407938, 0.4350529010751121, 0.426273667063716, 0.40401715206089295, 0.38192646138445296, 0.38389892923259294, 0.377033359833349, 0.34582405332153804, 0.35656771834007206, 0.381679228952711, 0.36080691685772703, 0.39957652775197794, 0.37721201082904493, 0.35380860734273, 0.376391270589379, 0.36071953155564296, 0.34928274553362704, 0.45690407304686703, 0.420646266893724, 0.399110795553581, 0.421845768764375, 0.534969826630471, 0.573122100067188, 0.433418195442475, 0.437167684248153, 0.48458436942358, 0.47955543153647207, 0.47064402648114895, 0.44533086400892496, 0.42273304867358796, 0.508558179021927, 0.55054691189201, 0.5040907702796121, 0.44007176511767104, 0.44557854669850605, 0.475221374392346, 0.461249294595346, 0.489169994785536, 0.482388882980609, 0.466529768923947, 0.48440363884253496, 0.544894293740855, 0.510549945138572, 0.593681960202378, 0.590281987666764, 0.52075543249156, 0.5185040055910829, 0.426309029715918, 0.44015052471000204, 0.443690389537745, 0.432588701823142, 0.47894744256860294, 0.517292927464876, 0.46397408204288104, 0.471594678139311, 0.453718031595967, 0.458362594604925, 0.39455598487612703, 0.49562226406570203, 0.487813234244497, 0.496375247037302, 0.522360705577424, 0.436847036655513, 0.456214649267651, 0.44003497281446, 0.49967511224046, 0.5237857980249551, 0.575159912777042, 0.570246661355611, 0.5034581021524299, 0.49458066813876705, 0.46468045151111, 0.473020692560364, 0.548730303110981, 0.548553606042092, 0.526125565860168, 0.520071567731713, 0.539152094968576, 0.5996167609646421, 0.558288225231337, 0.531914135968739, 0.623791299717078, 0.660376465086469, 0.532883301315341, 0.523831452005289, 0.5254552822038929, 0.548256769362627, 0.4429658477037921, 0.46856891153944397, 0.46455540228403397, 0.468132055659101, 0.5466786923120399, 0.555413469419979, 0.46751349471895703, 0.46413229245113896, 0.45790903986426, 0.431995422738489, 0.388406076956004, 0.439791905871548, 0.430379116517372, 0.426564320166628, 0.51140875863192, 0.47570715927489704, 0.43422092157240794, 0.405333321865616, 0.44441008287051204, 0.42151781283229, 0.44276786312502503, 0.48811504654473903, 0.508098075885185, 0.5072792964503039, 0.5266702475640871, 0.472111040244817, 0.583945357263438, 0.599943176902903, 0.49962732660491704, 0.523700499492325, 0.491015879674169, 0.46616217387973397, 0.48559845414248104, 0.48826890775468895, 0.518626747296309, 0.60078462122842, 0.500646598394576, 0.515436236186739, 0.493025055830165, 0.492100939527416, 0.397860453734464, 0.430015607241388, 0.40327848297478003, 0.44294516847284704, 0.442263717480213, 0.4560473124225179, 0.362440812247397, 0.3933830995935129, 0.427458020831889, 0.399237974885245, 0.3666267429888371, 0.437406017557081, 0.433251731015601, 0.47193738793689793, 0.479609417468229, 0.47095413095590993, 0.43181463261065295, 0.432211477602137, 0.440431800037406, 0.41693091786510705, 0.475428472211171, 0.484943281554252, 0.5157738921111881, 0.496881101602569, 0.5521783669104471, 0.4915655736296529, 0.47840969179631504, 0.47332508435364, 0.528027651391982, 0.471196865199427, 0.35026850175736607, 0.34998473222184895, 0.393138682493284, 0.344890657873431, 0.422152915082303, 0.418096936328918, 0.3613377661662271, 0.34347706900279806, 0.36987482548496703, 0.36409914964561796, 0.590908333220783, 0.48306684817924395, 0.476504239787414, 0.49851789796912394, 0.5395930541252411, 0.5249266227019861, 0.4996873326526479, 0.48859470440272995, 0.5134014524119871, 0.486393001420854, 0.632254100653736, 0.636928260549419, 0.6090885104465911, 0.603193641880494, 0.627226532717168, 0.674225330788642, 0.6195306601376589, 0.764886824377155, 0.5977104875159399, 0.652335574311658, 0.481042994800056, 0.541741511858877, 0.502431667953716, 0.5392499187417571, 0.589989558640965, 0.534680076820479, 0.485789716866979, 0.5018577597009249, 0.52271419436449, 0.528875772671891, 0.55906167463856, 0.546815866049208, 0.516372299589718, 0.49391692542214705, 0.57272150355998, 0.503117020790448, 0.482321009174152, 0.510498245818408, 0.528576673391024, 0.518682900590137, 0.59253135731198, 0.591115154291822, 0.637082108451129, 0.631023365765522, 0.709162149139618, 0.623263049400905, 0.504009825846674, 0.549153204183877, 0.574593385941922, 0.631345623266547, 0.530200576398201, 0.579979390435776, 0.556717323980801, 0.599103092994557, 0.579359804298678, 0.5838691616877829, 0.630570354868278, 0.595931934071379, 0.526068121342661, 0.584716657264441, 0.530074206725177, 0.553095354808501, 0.533529722132763, 0.496946177590387, 0.504922842873623, 0.565077351414915, 0.537584334656783, 0.4870397868686911, 0.5738148235575711, 0.5569938013264351, 0.72392426820288, 0.6727290109499221, 0.5927347473088079, 0.62352495269885, 0.6928839854833571, 0.901496899397403, 0.463006222930296, 0.44829576255303005, 0.575663851487602, 0.5307903057295539, 0.6448219173878349, 0.6208657388274439, 0.613969401781273, 0.5777234927622039, 0.6256919003917839, 0.6557164091488139, 0.507392767678301, 0.567218376512848, 0.5728559556957591, 0.5512505027705339, 0.5276790330254411, 0.6288322323234941, 0.6292419737868671, 0.5666003443687261, 0.652057431372869, 0.6914714920648399, 0.526564693839538, 0.607067207678611, 0.636497547305548, 0.582759459533312, 0.457970842253387, 0.44580556508347496, 0.446633804456295, 0.45988791124511297, 0.482452506084012, 0.5054077571444571, 0.46718980648241704, 0.425893148282501, 0.4122128422994679, 0.411167420162372, 0.47979658763263205, 0.48889493046359894, 0.470427754014329, 0.462325397723075, 0.544586567070917, 0.530089195423178, 0.5189139648464071, 0.49094759583891495, 0.449111305113235, 0.478095018099383, 0.456897988736458, 0.525866341625154, 0.5872979982006021, 0.578849714541203, 0.539471746404678, 0.5669188203367049, 0.44518933705497704, 0.48670937123891794, 0.485549913802835, 0.555097061317527, 0.603695860090528, 0.7268027586008109, 0.619007769880374, 0.6213125234568271, 0.6795857455827979, 0.711522580765411, 0.5251248538189229, 0.563202786563106, 0.579492628702818, 0.586473205900828, 0.5651616911406679, 0.551715777051501, 0.540969384338816, 0.515857818054797, 0.537190515832617, 0.596506879477871, 0.49743048471254603, 0.483120644929747, 0.584583941528123, 0.53544328931702, 0.48025848610114397, 0.48831369307493394, 0.480721478106469, 0.465312169763147, 0.503595723350414, 0.519130041190101, 0.444244929056113, 0.470859056206855, 0.47460930907128795, 0.493318265076323, 0.527069409621558, 0.579524002367882, 0.5604315601421911, 0.599344799553043, 0.6039562793978039, 0.6279272946771101, 0.522622656555611, 0.516380167609349, 0.650700649711852, 0.5663037609840389, 0.595574124698411, 0.49218945538302705, 0.5489912845437079, 0.5645543257829979, 0.5568427879860379, 0.5616822888643579, 0.574178104461735, 0.594545859667444, 0.557225048324841, 0.544527896748546, 0.522684098789013, 0.535445055966808, 0.609645534100781, 0.526557988422357, 0.573438043057163, 0.5687989396324661, 0.42785472456757107, 0.424329122071364, 0.595245920820467, 0.573247010019535, 0.43348606258759104, 0.400308194852976, 0.43180612173626703, 0.449361974753771, 0.46661842442137896, 0.50809564659121, 0.40768872857498706, 0.479586428957308, 0.43624633496465004, 0.46093069795059993, 0.400463229697722, 0.38073345599782504, 0.371483802781656, 0.3950776329685611, 0.385270754550005, 0.419595532447548, 0.364656379055731, 0.398149046019948, 0.4135733399936671, 0.42323324208051205]}],\n",
       "                        {\"barmode\": \"overlay\", \"legend\": {\"bgcolor\": \"#F5F6F9\", \"font\": {\"color\": \"#4D5663\"}}, \"paper_bgcolor\": \"#F5F6F9\", \"plot_bgcolor\": \"#F5F6F9\", \"template\": {\"data\": {\"bar\": [{\"error_x\": {\"color\": \"#2a3f5f\"}, \"error_y\": {\"color\": \"#2a3f5f\"}, \"marker\": {\"line\": {\"color\": \"#E5ECF6\", \"width\": 0.5}}, \"type\": \"bar\"}], \"barpolar\": [{\"marker\": {\"line\": {\"color\": \"#E5ECF6\", \"width\": 0.5}}, \"type\": \"barpolar\"}], \"carpet\": [{\"aaxis\": {\"endlinecolor\": \"#2a3f5f\", \"gridcolor\": \"white\", \"linecolor\": \"white\", \"minorgridcolor\": \"white\", \"startlinecolor\": \"#2a3f5f\"}, \"baxis\": {\"endlinecolor\": \"#2a3f5f\", \"gridcolor\": \"white\", \"linecolor\": \"white\", \"minorgridcolor\": \"white\", \"startlinecolor\": \"#2a3f5f\"}, \"type\": \"carpet\"}], \"choropleth\": [{\"colorbar\": {\"outlinewidth\": 0, \"ticks\": \"\"}, \"type\": \"choropleth\"}], \"contour\": [{\"colorbar\": {\"outlinewidth\": 0, \"ticks\": \"\"}, \"colorscale\": [[0.0, \"#0d0887\"], [0.1111111111111111, \"#46039f\"], [0.2222222222222222, \"#7201a8\"], [0.3333333333333333, \"#9c179e\"], [0.4444444444444444, \"#bd3786\"], [0.5555555555555556, \"#d8576b\"], [0.6666666666666666, \"#ed7953\"], [0.7777777777777778, \"#fb9f3a\"], [0.8888888888888888, \"#fdca26\"], [1.0, \"#f0f921\"]], \"type\": \"contour\"}], \"contourcarpet\": [{\"colorbar\": {\"outlinewidth\": 0, \"ticks\": \"\"}, \"type\": \"contourcarpet\"}], \"heatmap\": [{\"colorbar\": {\"outlinewidth\": 0, \"ticks\": \"\"}, \"colorscale\": [[0.0, \"#0d0887\"], [0.1111111111111111, \"#46039f\"], [0.2222222222222222, \"#7201a8\"], [0.3333333333333333, \"#9c179e\"], [0.4444444444444444, \"#bd3786\"], [0.5555555555555556, \"#d8576b\"], [0.6666666666666666, \"#ed7953\"], [0.7777777777777778, \"#fb9f3a\"], [0.8888888888888888, \"#fdca26\"], [1.0, \"#f0f921\"]], \"type\": \"heatmap\"}], \"heatmapgl\": [{\"colorbar\": {\"outlinewidth\": 0, \"ticks\": \"\"}, \"colorscale\": [[0.0, \"#0d0887\"], [0.1111111111111111, \"#46039f\"], [0.2222222222222222, \"#7201a8\"], [0.3333333333333333, \"#9c179e\"], [0.4444444444444444, \"#bd3786\"], [0.5555555555555556, \"#d8576b\"], [0.6666666666666666, \"#ed7953\"], [0.7777777777777778, \"#fb9f3a\"], [0.8888888888888888, \"#fdca26\"], [1.0, \"#f0f921\"]], \"type\": \"heatmapgl\"}], \"histogram\": [{\"marker\": {\"colorbar\": {\"outlinewidth\": 0, \"ticks\": \"\"}}, \"type\": \"histogram\"}], \"histogram2d\": [{\"colorbar\": {\"outlinewidth\": 0, \"ticks\": \"\"}, \"colorscale\": [[0.0, \"#0d0887\"], [0.1111111111111111, \"#46039f\"], [0.2222222222222222, \"#7201a8\"], [0.3333333333333333, \"#9c179e\"], [0.4444444444444444, \"#bd3786\"], [0.5555555555555556, \"#d8576b\"], [0.6666666666666666, \"#ed7953\"], [0.7777777777777778, \"#fb9f3a\"], [0.8888888888888888, \"#fdca26\"], [1.0, \"#f0f921\"]], \"type\": \"histogram2d\"}], \"histogram2dcontour\": [{\"colorbar\": {\"outlinewidth\": 0, \"ticks\": \"\"}, \"colorscale\": [[0.0, \"#0d0887\"], [0.1111111111111111, \"#46039f\"], [0.2222222222222222, \"#7201a8\"], [0.3333333333333333, \"#9c179e\"], [0.4444444444444444, \"#bd3786\"], [0.5555555555555556, \"#d8576b\"], [0.6666666666666666, \"#ed7953\"], [0.7777777777777778, \"#fb9f3a\"], [0.8888888888888888, \"#fdca26\"], [1.0, \"#f0f921\"]], \"type\": \"histogram2dcontour\"}], \"mesh3d\": [{\"colorbar\": {\"outlinewidth\": 0, \"ticks\": \"\"}, \"type\": \"mesh3d\"}], \"parcoords\": [{\"line\": {\"colorbar\": {\"outlinewidth\": 0, \"ticks\": \"\"}}, \"type\": \"parcoords\"}], \"pie\": [{\"automargin\": true, \"type\": \"pie\"}], \"scatter\": [{\"marker\": {\"colorbar\": {\"outlinewidth\": 0, \"ticks\": \"\"}}, \"type\": \"scatter\"}], \"scatter3d\": [{\"line\": {\"colorbar\": {\"outlinewidth\": 0, \"ticks\": \"\"}}, \"marker\": {\"colorbar\": {\"outlinewidth\": 0, \"ticks\": \"\"}}, \"type\": \"scatter3d\"}], \"scattercarpet\": [{\"marker\": {\"colorbar\": {\"outlinewidth\": 0, \"ticks\": \"\"}}, \"type\": \"scattercarpet\"}], \"scattergeo\": [{\"marker\": {\"colorbar\": {\"outlinewidth\": 0, \"ticks\": \"\"}}, \"type\": \"scattergeo\"}], \"scattergl\": [{\"marker\": {\"colorbar\": {\"outlinewidth\": 0, \"ticks\": \"\"}}, \"type\": \"scattergl\"}], \"scattermapbox\": [{\"marker\": {\"colorbar\": {\"outlinewidth\": 0, \"ticks\": \"\"}}, \"type\": \"scattermapbox\"}], \"scatterpolar\": [{\"marker\": {\"colorbar\": {\"outlinewidth\": 0, \"ticks\": \"\"}}, \"type\": \"scatterpolar\"}], \"scatterpolargl\": [{\"marker\": {\"colorbar\": {\"outlinewidth\": 0, \"ticks\": \"\"}}, \"type\": \"scatterpolargl\"}], \"scatterternary\": [{\"marker\": {\"colorbar\": {\"outlinewidth\": 0, \"ticks\": \"\"}}, \"type\": \"scatterternary\"}], \"surface\": [{\"colorbar\": {\"outlinewidth\": 0, \"ticks\": \"\"}, \"colorscale\": [[0.0, \"#0d0887\"], [0.1111111111111111, \"#46039f\"], [0.2222222222222222, \"#7201a8\"], [0.3333333333333333, \"#9c179e\"], [0.4444444444444444, \"#bd3786\"], [0.5555555555555556, \"#d8576b\"], [0.6666666666666666, \"#ed7953\"], [0.7777777777777778, \"#fb9f3a\"], [0.8888888888888888, \"#fdca26\"], [1.0, \"#f0f921\"]], \"type\": \"surface\"}], \"table\": [{\"cells\": {\"fill\": {\"color\": \"#EBF0F8\"}, \"line\": {\"color\": \"white\"}}, \"header\": {\"fill\": {\"color\": \"#C8D4E3\"}, \"line\": {\"color\": \"white\"}}, \"type\": \"table\"}]}, \"layout\": {\"annotationdefaults\": {\"arrowcolor\": \"#2a3f5f\", \"arrowhead\": 0, \"arrowwidth\": 1}, \"coloraxis\": {\"colorbar\": {\"outlinewidth\": 0, \"ticks\": \"\"}}, \"colorscale\": {\"diverging\": [[0, \"#8e0152\"], [0.1, \"#c51b7d\"], [0.2, \"#de77ae\"], [0.3, \"#f1b6da\"], [0.4, \"#fde0ef\"], [0.5, \"#f7f7f7\"], [0.6, \"#e6f5d0\"], [0.7, \"#b8e186\"], [0.8, \"#7fbc41\"], [0.9, \"#4d9221\"], [1, \"#276419\"]], \"sequential\": [[0.0, \"#0d0887\"], [0.1111111111111111, \"#46039f\"], [0.2222222222222222, \"#7201a8\"], [0.3333333333333333, \"#9c179e\"], [0.4444444444444444, \"#bd3786\"], [0.5555555555555556, \"#d8576b\"], [0.6666666666666666, \"#ed7953\"], [0.7777777777777778, \"#fb9f3a\"], [0.8888888888888888, \"#fdca26\"], [1.0, \"#f0f921\"]], \"sequentialminus\": [[0.0, \"#0d0887\"], [0.1111111111111111, \"#46039f\"], [0.2222222222222222, \"#7201a8\"], [0.3333333333333333, \"#9c179e\"], [0.4444444444444444, \"#bd3786\"], [0.5555555555555556, \"#d8576b\"], [0.6666666666666666, \"#ed7953\"], [0.7777777777777778, \"#fb9f3a\"], [0.8888888888888888, \"#fdca26\"], [1.0, \"#f0f921\"]]}, \"colorway\": [\"#636efa\", \"#EF553B\", \"#00cc96\", \"#ab63fa\", \"#FFA15A\", \"#19d3f3\", \"#FF6692\", \"#B6E880\", \"#FF97FF\", \"#FECB52\"], \"font\": {\"color\": \"#2a3f5f\"}, \"geo\": {\"bgcolor\": \"white\", \"lakecolor\": \"white\", \"landcolor\": \"#E5ECF6\", \"showlakes\": true, \"showland\": true, \"subunitcolor\": \"white\"}, \"height\": 600, \"hoverlabel\": {\"align\": \"left\"}, \"hovermode\": \"closest\", \"mapbox\": {\"style\": \"light\"}, \"paper_bgcolor\": \"white\", \"plot_bgcolor\": \"#E5ECF6\", \"polar\": {\"angularaxis\": {\"gridcolor\": \"white\", \"linecolor\": \"white\", \"ticks\": \"\"}, \"bgcolor\": \"#E5ECF6\", \"radialaxis\": {\"gridcolor\": \"white\", \"linecolor\": \"white\", \"ticks\": \"\"}}, \"scene\": {\"xaxis\": {\"backgroundcolor\": \"#E5ECF6\", \"gridcolor\": \"white\", \"gridwidth\": 2, \"linecolor\": \"white\", \"showbackground\": true, \"ticks\": \"\", \"zerolinecolor\": \"white\"}, \"yaxis\": {\"backgroundcolor\": \"#E5ECF6\", \"gridcolor\": \"white\", \"gridwidth\": 2, \"linecolor\": \"white\", \"showbackground\": true, \"ticks\": \"\", \"zerolinecolor\": \"white\"}, \"zaxis\": {\"backgroundcolor\": \"#E5ECF6\", \"gridcolor\": \"white\", \"gridwidth\": 2, \"linecolor\": \"white\", \"showbackground\": true, \"ticks\": \"\", \"zerolinecolor\": \"white\"}}, \"shapedefaults\": {\"line\": {\"color\": \"#2a3f5f\"}}, \"ternary\": {\"aaxis\": {\"gridcolor\": \"white\", \"linecolor\": \"white\", \"ticks\": \"\"}, \"baxis\": {\"gridcolor\": \"white\", \"linecolor\": \"white\", \"ticks\": \"\"}, \"bgcolor\": \"#E5ECF6\", \"caxis\": {\"gridcolor\": \"white\", \"linecolor\": \"white\", \"ticks\": \"\"}}, \"title\": {\"x\": 0.05}, \"width\": 800, \"xaxis\": {\"automargin\": true, \"gridcolor\": \"white\", \"linecolor\": \"white\", \"ticks\": \"\", \"title\": {\"standoff\": 15}, \"zerolinecolor\": \"white\", \"zerolinewidth\": 2}, \"yaxis\": {\"automargin\": true, \"gridcolor\": \"white\", \"linecolor\": \"white\", \"ticks\": \"\", \"title\": {\"standoff\": 15}, \"zerolinecolor\": \"white\", \"zerolinewidth\": 2}}}, \"title\": {\"font\": {\"color\": \"#4D5663\"}, \"text\": \"Speed Distribution\"}, \"xaxis\": {\"gridcolor\": \"#E1E5ED\", \"linecolor\": \"black\", \"showgrid\": true, \"tickfont\": {\"color\": \"#4D5663\"}, \"title\": {\"font\": {\"color\": \"#4D5663\"}, \"text\": \"Speed\"}, \"zerolinecolor\": \"#E1E5ED\"}, \"yaxis\": {\"gridcolor\": \"#E1E5ED\", \"linecolor\": \"black\", \"showgrid\": true, \"tickfont\": {\"color\": \"#4D5663\"}, \"title\": {\"font\": {\"color\": \"#4D5663\"}, \"text\": \"count\"}, \"zerolinecolor\": \"#E1E5ED\"}},\n",
       "                        {\"showLink\": true, \"linkText\": \"Export to plot.ly\", \"plotlyServerURL\": \"https://plot.ly\", \"responsive\": true}\n",
       "                    ).then(function(){\n",
       "                            \n",
       "var gd = document.getElementById('1227de0f-55e1-4d85-8e00-4a100bbe5a64');\n",
       "var x = new MutationObserver(function (mutations, observer) {{\n",
       "        var display = window.getComputedStyle(gd).display;\n",
       "        if (!display || display === 'none') {{\n",
       "            console.log([gd, 'removed!']);\n",
       "            Plotly.purge(gd);\n",
       "            observer.disconnect();\n",
       "        }}\n",
       "}});\n",
       "\n",
       "// Listen for the removal of the full notebook cells\n",
       "var notebookContainer = gd.closest('#notebook-container');\n",
       "if (notebookContainer) {{\n",
       "    x.observe(notebookContainer, {childList: true});\n",
       "}}\n",
       "\n",
       "// Listen for the clearing of the current output cell\n",
       "var outputEl = gd.closest('.output');\n",
       "if (outputEl) {{\n",
       "    x.observe(outputEl, {childList: true});\n",
       "}}\n",
       "\n",
       "                        })\n",
       "                };\n",
       "                });\n",
       "            </script>\n",
       "        </div>"
      ]
     },
     "metadata": {},
     "output_type": "display_data"
    }
   ],
   "source": [
    "# First plot\n",
    "tableRes['medSpeed'].iplot(kind='hist', bins=50, xTitle='Speed',\n",
    "    linecolor='black', yTitle='count', title='Speed Distribution')"
   ]
  },
  {
   "cell_type": "code",
   "execution_count": 8,
   "metadata": {
    "scrolled": true,
    "slideshow": {
     "slide_type": "slide"
    }
   },
   "outputs": [
    {
     "ename": "AttributeError",
     "evalue": "'Layout' object has no attribute 'get'",
     "output_type": "error",
     "traceback": [
      "\u001b[0;31m---------------------------------------------------------------------------\u001b[0m",
      "\u001b[0;31mAttributeError\u001b[0m                            Traceback (most recent call last)",
      "\u001b[0;32m<ipython-input-8-a5a7f1e9bcfc>\u001b[0m in \u001b[0;36m<module>\u001b[0;34m\u001b[0m\n\u001b[1;32m      3\u001b[0m pd.DataFrame(tableRes['medSpeed']).iplot(\n\u001b[1;32m      4\u001b[0m     \u001b[0mkind\u001b[0m\u001b[0;34m=\u001b[0m\u001b[0;34m'distplot'\u001b[0m\u001b[0;34m,\u001b[0m\u001b[0;34m\u001b[0m\u001b[0;34m\u001b[0m\u001b[0m\n\u001b[0;32m----> 5\u001b[0;31m     bin_size=0.1,)\n\u001b[0m",
      "\u001b[0;32m/opt/conda/lib/python3.7/site-packages/cufflinks/plotlytools.py\u001b[0m in \u001b[0;36m_iplot\u001b[0;34m(self, kind, data, layout, filename, sharing, title, xTitle, yTitle, zTitle, theme, colors, colorscale, fill, width, dash, mode, interpolation, symbol, size, barmode, sortbars, bargap, bargroupgap, bins, histnorm, histfunc, orientation, boxpoints, annotations, keys, bestfit, bestfit_colors, mean, mean_colors, categories, x, y, z, text, gridcolor, zerolinecolor, margin, labels, values, secondary_y, secondary_y_title, subplots, shape, error_x, error_y, error_type, locations, lon, lat, asFrame, asDates, asFigure, asImage, dimensions, asPlot, asUrl, online, **kwargs)\u001b[0m\n\u001b[1;32m   1216\u001b[0m \t\treturn iplot(figure,validate=validate,sharing=sharing,filename=filename,\n\u001b[1;32m   1217\u001b[0m                          \u001b[0monline\u001b[0m\u001b[0;34m=\u001b[0m\u001b[0monline\u001b[0m\u001b[0;34m,\u001b[0m\u001b[0masImage\u001b[0m\u001b[0;34m=\u001b[0m\u001b[0masImage\u001b[0m\u001b[0;34m,\u001b[0m\u001b[0masUrl\u001b[0m\u001b[0;34m=\u001b[0m\u001b[0masUrl\u001b[0m\u001b[0;34m,\u001b[0m\u001b[0masPlot\u001b[0m\u001b[0;34m=\u001b[0m\u001b[0masPlot\u001b[0m\u001b[0;34m,\u001b[0m\u001b[0;34m\u001b[0m\u001b[0;34m\u001b[0m\u001b[0m\n\u001b[0;32m-> 1218\u001b[0;31m \t\t\t dimensions=dimensions,display_image=kwargs.get('display_image',True))\n\u001b[0m\u001b[1;32m   1219\u001b[0m \u001b[0;34m\u001b[0m\u001b[0m\n\u001b[1;32m   1220\u001b[0m \u001b[0;34m\u001b[0m\u001b[0m\n",
      "\u001b[0;32m/opt/conda/lib/python3.7/site-packages/cufflinks/plotlytools.py\u001b[0m in \u001b[0;36miplot\u001b[0;34m(figure, validate, sharing, filename, online, asImage, asUrl, asPlot, dimensions, display_image, **kwargs)\u001b[0m\n\u001b[1;32m   1466\u001b[0m         \u001b[0;31m## iplot\u001b[0m\u001b[0;34m\u001b[0m\u001b[0;34m\u001b[0m\u001b[0;34m\u001b[0m\u001b[0m\n\u001b[1;32m   1467\u001b[0m         \u001b[0;32mif\u001b[0m \u001b[0moffline\u001b[0m\u001b[0;34m.\u001b[0m\u001b[0mis_offline\u001b[0m\u001b[0;34m(\u001b[0m\u001b[0;34m)\u001b[0m \u001b[0;32mand\u001b[0m \u001b[0;32mnot\u001b[0m \u001b[0monline\u001b[0m\u001b[0;34m:\u001b[0m\u001b[0;34m\u001b[0m\u001b[0;34m\u001b[0m\u001b[0m\n\u001b[0;32m-> 1468\u001b[0;31m                 \u001b[0;32mreturn\u001b[0m \u001b[0moffline\u001b[0m\u001b[0;34m.\u001b[0m\u001b[0mpy_offline\u001b[0m\u001b[0;34m.\u001b[0m\u001b[0miplot\u001b[0m\u001b[0;34m(\u001b[0m\u001b[0mfigure\u001b[0m\u001b[0;34m,\u001b[0m \u001b[0mvalidate\u001b[0m\u001b[0;34m=\u001b[0m\u001b[0mvalidate\u001b[0m\u001b[0;34m,\u001b[0m \u001b[0mfilename\u001b[0m\u001b[0;34m=\u001b[0m\u001b[0mfilename\u001b[0m\u001b[0;34m,\u001b[0m \u001b[0mshow_link\u001b[0m\u001b[0;34m=\u001b[0m\u001b[0mshow_link\u001b[0m\u001b[0;34m,\u001b[0m \u001b[0mlink_text\u001b[0m\u001b[0;34m=\u001b[0m\u001b[0mlink_text\u001b[0m\u001b[0;34m,\u001b[0m \u001b[0mconfig\u001b[0m\u001b[0;34m=\u001b[0m\u001b[0mconfig\u001b[0m\u001b[0;34m)\u001b[0m\u001b[0;34m\u001b[0m\u001b[0;34m\u001b[0m\u001b[0m\n\u001b[0m\u001b[1;32m   1469\u001b[0m         \u001b[0;32melse\u001b[0m\u001b[0;34m:\u001b[0m\u001b[0;34m\u001b[0m\u001b[0;34m\u001b[0m\u001b[0m\n\u001b[1;32m   1470\u001b[0m \t\treturn py.iplot(figure,validate=validate,sharing=sharing,\n",
      "\u001b[0;32m/opt/conda/lib/python3.7/site-packages/plotly/offline/offline.py\u001b[0m in \u001b[0;36miplot\u001b[0;34m(figure_or_data, show_link, link_text, validate, image, filename, image_width, image_height, config, auto_play, animation_opts)\u001b[0m\n\u001b[1;32m    396\u001b[0m         \u001b[0mauto_play\u001b[0m\u001b[0;34m=\u001b[0m\u001b[0mauto_play\u001b[0m\u001b[0;34m,\u001b[0m\u001b[0;34m\u001b[0m\u001b[0;34m\u001b[0m\u001b[0m\n\u001b[1;32m    397\u001b[0m         \u001b[0mpost_script\u001b[0m\u001b[0;34m=\u001b[0m\u001b[0mpost_script\u001b[0m\u001b[0;34m,\u001b[0m\u001b[0;34m\u001b[0m\u001b[0;34m\u001b[0m\u001b[0m\n\u001b[0;32m--> 398\u001b[0;31m         \u001b[0manimation_opts\u001b[0m\u001b[0;34m=\u001b[0m\u001b[0manimation_opts\u001b[0m\u001b[0;34m,\u001b[0m\u001b[0;34m\u001b[0m\u001b[0;34m\u001b[0m\u001b[0m\n\u001b[0m\u001b[1;32m    399\u001b[0m     )\n\u001b[1;32m    400\u001b[0m \u001b[0;34m\u001b[0m\u001b[0m\n",
      "\u001b[0;32m/opt/conda/lib/python3.7/site-packages/plotly/io/_renderers.py\u001b[0m in \u001b[0;36mshow\u001b[0;34m(fig, renderer, validate, **kwargs)\u001b[0m\n\u001b[1;32m    374\u001b[0m \u001b[0;34m\u001b[0m\u001b[0m\n\u001b[1;32m    375\u001b[0m     \u001b[0;31m# Mimetype renderers\u001b[0m\u001b[0;34m\u001b[0m\u001b[0;34m\u001b[0m\u001b[0;34m\u001b[0m\u001b[0m\n\u001b[0;32m--> 376\u001b[0;31m     \u001b[0mbundle\u001b[0m \u001b[0;34m=\u001b[0m \u001b[0mrenderers\u001b[0m\u001b[0;34m.\u001b[0m\u001b[0m_build_mime_bundle\u001b[0m\u001b[0;34m(\u001b[0m\u001b[0mfig_dict\u001b[0m\u001b[0;34m,\u001b[0m \u001b[0mrenderers_string\u001b[0m\u001b[0;34m=\u001b[0m\u001b[0mrenderer\u001b[0m\u001b[0;34m,\u001b[0m \u001b[0;34m**\u001b[0m\u001b[0mkwargs\u001b[0m\u001b[0;34m)\u001b[0m\u001b[0;34m\u001b[0m\u001b[0;34m\u001b[0m\u001b[0m\n\u001b[0m\u001b[1;32m    377\u001b[0m     \u001b[0;32mif\u001b[0m \u001b[0mbundle\u001b[0m\u001b[0;34m:\u001b[0m\u001b[0;34m\u001b[0m\u001b[0;34m\u001b[0m\u001b[0m\n\u001b[1;32m    378\u001b[0m         \u001b[0;32mif\u001b[0m \u001b[0;32mnot\u001b[0m \u001b[0mipython_display\u001b[0m\u001b[0;34m:\u001b[0m\u001b[0;34m\u001b[0m\u001b[0;34m\u001b[0m\u001b[0m\n",
      "\u001b[0;32m/opt/conda/lib/python3.7/site-packages/plotly/io/_renderers.py\u001b[0m in \u001b[0;36m_build_mime_bundle\u001b[0;34m(self, fig_dict, renderers_string, **kwargs)\u001b[0m\n\u001b[1;32m    294\u001b[0m                         \u001b[0msetattr\u001b[0m\u001b[0;34m(\u001b[0m\u001b[0mrenderer\u001b[0m\u001b[0;34m,\u001b[0m \u001b[0mk\u001b[0m\u001b[0;34m,\u001b[0m \u001b[0mv\u001b[0m\u001b[0;34m)\u001b[0m\u001b[0;34m\u001b[0m\u001b[0;34m\u001b[0m\u001b[0m\n\u001b[1;32m    295\u001b[0m \u001b[0;34m\u001b[0m\u001b[0m\n\u001b[0;32m--> 296\u001b[0;31m                 \u001b[0mbundle\u001b[0m\u001b[0;34m.\u001b[0m\u001b[0mupdate\u001b[0m\u001b[0;34m(\u001b[0m\u001b[0mrenderer\u001b[0m\u001b[0;34m.\u001b[0m\u001b[0mto_mimebundle\u001b[0m\u001b[0;34m(\u001b[0m\u001b[0mfig_dict\u001b[0m\u001b[0;34m)\u001b[0m\u001b[0;34m)\u001b[0m\u001b[0;34m\u001b[0m\u001b[0;34m\u001b[0m\u001b[0m\n\u001b[0m\u001b[1;32m    297\u001b[0m \u001b[0;34m\u001b[0m\u001b[0m\n\u001b[1;32m    298\u001b[0m         \u001b[0;32mreturn\u001b[0m \u001b[0mbundle\u001b[0m\u001b[0;34m\u001b[0m\u001b[0;34m\u001b[0m\u001b[0m\n",
      "\u001b[0;32m/opt/conda/lib/python3.7/site-packages/plotly/io/_base_renderers.py\u001b[0m in \u001b[0;36mto_mimebundle\u001b[0;34m(self, fig_dict)\u001b[0m\n\u001b[1;32m    383\u001b[0m             \u001b[0mdefault_width\u001b[0m\u001b[0;34m=\u001b[0m\u001b[0;34m\"100%\"\u001b[0m\u001b[0;34m,\u001b[0m\u001b[0;34m\u001b[0m\u001b[0;34m\u001b[0m\u001b[0m\n\u001b[1;32m    384\u001b[0m             \u001b[0mdefault_height\u001b[0m\u001b[0;34m=\u001b[0m\u001b[0;36m525\u001b[0m\u001b[0;34m,\u001b[0m\u001b[0;34m\u001b[0m\u001b[0;34m\u001b[0m\u001b[0m\n\u001b[0;32m--> 385\u001b[0;31m             \u001b[0mvalidate\u001b[0m\u001b[0;34m=\u001b[0m\u001b[0;32mFalse\u001b[0m\u001b[0;34m,\u001b[0m\u001b[0;34m\u001b[0m\u001b[0;34m\u001b[0m\u001b[0m\n\u001b[0m\u001b[1;32m    386\u001b[0m         )\n\u001b[1;32m    387\u001b[0m \u001b[0;34m\u001b[0m\u001b[0m\n",
      "\u001b[0;32m/opt/conda/lib/python3.7/site-packages/plotly/io/_html.py\u001b[0m in \u001b[0;36mto_html\u001b[0;34m(fig, config, auto_play, include_plotlyjs, include_mathjax, post_script, full_html, animation_opts, default_width, default_height, validate)\u001b[0m\n\u001b[1;32m    155\u001b[0m     \u001b[0;31m# Get div width/height\u001b[0m\u001b[0;34m\u001b[0m\u001b[0;34m\u001b[0m\u001b[0;34m\u001b[0m\u001b[0m\n\u001b[1;32m    156\u001b[0m     \u001b[0mlayout_dict\u001b[0m \u001b[0;34m=\u001b[0m \u001b[0mfig_dict\u001b[0m\u001b[0;34m.\u001b[0m\u001b[0mget\u001b[0m\u001b[0;34m(\u001b[0m\u001b[0;34m\"layout\"\u001b[0m\u001b[0;34m,\u001b[0m \u001b[0;34m{\u001b[0m\u001b[0;34m}\u001b[0m\u001b[0;34m)\u001b[0m\u001b[0;34m\u001b[0m\u001b[0;34m\u001b[0m\u001b[0m\n\u001b[0;32m--> 157\u001b[0;31m     \u001b[0mtemplate_dict\u001b[0m \u001b[0;34m=\u001b[0m \u001b[0mfig_dict\u001b[0m\u001b[0;34m.\u001b[0m\u001b[0mget\u001b[0m\u001b[0;34m(\u001b[0m\u001b[0;34m\"layout\"\u001b[0m\u001b[0;34m,\u001b[0m \u001b[0;34m{\u001b[0m\u001b[0;34m}\u001b[0m\u001b[0;34m)\u001b[0m\u001b[0;34m.\u001b[0m\u001b[0mget\u001b[0m\u001b[0;34m(\u001b[0m\u001b[0;34m\"template\"\u001b[0m\u001b[0;34m,\u001b[0m \u001b[0;34m{\u001b[0m\u001b[0;34m}\u001b[0m\u001b[0;34m)\u001b[0m\u001b[0;34m.\u001b[0m\u001b[0mget\u001b[0m\u001b[0;34m(\u001b[0m\u001b[0;34m\"layout\"\u001b[0m\u001b[0;34m,\u001b[0m \u001b[0;34m{\u001b[0m\u001b[0;34m}\u001b[0m\u001b[0;34m)\u001b[0m\u001b[0;34m\u001b[0m\u001b[0;34m\u001b[0m\u001b[0m\n\u001b[0m\u001b[1;32m    158\u001b[0m \u001b[0;34m\u001b[0m\u001b[0m\n\u001b[1;32m    159\u001b[0m     \u001b[0mdiv_width\u001b[0m \u001b[0;34m=\u001b[0m \u001b[0mlayout_dict\u001b[0m\u001b[0;34m.\u001b[0m\u001b[0mget\u001b[0m\u001b[0;34m(\u001b[0m\u001b[0;34m\"width\"\u001b[0m\u001b[0;34m,\u001b[0m \u001b[0mtemplate_dict\u001b[0m\u001b[0;34m.\u001b[0m\u001b[0mget\u001b[0m\u001b[0;34m(\u001b[0m\u001b[0;34m\"width\"\u001b[0m\u001b[0;34m,\u001b[0m \u001b[0mdefault_width\u001b[0m\u001b[0;34m)\u001b[0m\u001b[0;34m)\u001b[0m\u001b[0;34m\u001b[0m\u001b[0;34m\u001b[0m\u001b[0m\n",
      "\u001b[0;32m/opt/conda/lib/python3.7/site-packages/plotly/basedatatypes.py\u001b[0m in \u001b[0;36m__getattr__\u001b[0;34m(self, prop)\u001b[0m\n\u001b[1;32m   4399\u001b[0m             \u001b[0;32mreturn\u001b[0m \u001b[0mvalidator\u001b[0m\u001b[0;34m.\u001b[0m\u001b[0mpresent\u001b[0m\u001b[0;34m(\u001b[0m\u001b[0mself\u001b[0m\u001b[0;34m.\u001b[0m\u001b[0m_compound_props\u001b[0m\u001b[0;34m[\u001b[0m\u001b[0mprop\u001b[0m\u001b[0;34m]\u001b[0m\u001b[0;34m)\u001b[0m\u001b[0;34m\u001b[0m\u001b[0;34m\u001b[0m\u001b[0m\n\u001b[1;32m   4400\u001b[0m         \u001b[0;32melse\u001b[0m\u001b[0;34m:\u001b[0m\u001b[0;34m\u001b[0m\u001b[0;34m\u001b[0m\u001b[0m\n\u001b[0;32m-> 4401\u001b[0;31m             \u001b[0;32mreturn\u001b[0m \u001b[0msuper\u001b[0m\u001b[0;34m(\u001b[0m\u001b[0mBaseLayoutHierarchyType\u001b[0m\u001b[0;34m,\u001b[0m \u001b[0mself\u001b[0m\u001b[0;34m)\u001b[0m\u001b[0;34m.\u001b[0m\u001b[0m__getattribute__\u001b[0m\u001b[0;34m(\u001b[0m\u001b[0mprop\u001b[0m\u001b[0;34m)\u001b[0m\u001b[0;34m\u001b[0m\u001b[0;34m\u001b[0m\u001b[0m\n\u001b[0m\u001b[1;32m   4402\u001b[0m \u001b[0;34m\u001b[0m\u001b[0m\n\u001b[1;32m   4403\u001b[0m     \u001b[0;32mdef\u001b[0m \u001b[0m__getitem__\u001b[0m\u001b[0;34m(\u001b[0m\u001b[0mself\u001b[0m\u001b[0;34m,\u001b[0m \u001b[0mprop\u001b[0m\u001b[0;34m)\u001b[0m\u001b[0;34m:\u001b[0m\u001b[0;34m\u001b[0m\u001b[0;34m\u001b[0m\u001b[0m\n",
      "\u001b[0;31mAttributeError\u001b[0m: 'Layout' object has no attribute 'get'"
     ]
    }
   ],
   "source": [
    "# Sometimes, things do not work\n",
    "# Try to add a curve distribution (fails, scroll down to read the error)\n",
    "pd.DataFrame(tableRes['medSpeed']).iplot(\n",
    "    kind='distplot',\n",
    "    bin_size=0.1,)"
   ]
  },
  {
   "cell_type": "markdown",
   "metadata": {
    "slideshow": {
     "slide_type": "slide"
    }
   },
   "source": [
    "### Google the error (hopefully there is a solution)\n",
    "\n",
    "https://github.com/santosjorge/cufflinks/issues/222\n",
    "\n",
    "... solution to this @xoelop.\n",
    "Try \n",
    "```\n",
    "fig = cf.datagen.distplot(3).figure(kind='distplot',bin_size=.1)\n",
    "fig.show()\n",
    "\n",
    "```\n",
    "instead.\n",
    "\n",
    "..."
   ]
  },
  {
   "cell_type": "code",
   "execution_count": null,
   "metadata": {
    "slideshow": {
     "slide_type": "slide"
    }
   },
   "outputs": [],
   "source": [
    "# pd.DataFrame(tableRes['medSpeed']).iplot(kind='distplot',bin_size=.01,show_rug=False)\n",
    "# A violin plot is a vertical distribution curve (reflected)\n",
    "fig = pd.DataFrame(tableRes['medSpeed']).figure(kind='distplot',bin_size=.01,show_rug=False); fig.show()"
   ]
  },
  {
   "cell_type": "code",
   "execution_count": null,
   "metadata": {
    "slideshow": {
     "slide_type": "slide"
    }
   },
   "outputs": [],
   "source": [
    "# The violin plot\n",
    "tableRes['medSpeed'].iplot(kind='violin',show_rug=False)"
   ]
  },
  {
   "cell_type": "code",
   "execution_count": null,
   "metadata": {
    "slideshow": {
     "slide_type": "slide"
    }
   },
   "outputs": [],
   "source": [
    "# Parallel violin plots (a violin plot for each variable)\n",
    "# According to the documentation, we need the data in long format\n",
    "cf.help('violin')"
   ]
  },
  {
   "cell_type": "code",
   "execution_count": null,
   "metadata": {
    "slideshow": {
     "slide_type": "slide"
    }
   },
   "outputs": [],
   "source": [
    "# Reshaping the data (long format)\n",
    "longTable = pd.melt(tableRes, id_vars=['iSubj','trial','Age','Decade'], \n",
    "                    var_name='myVars')\n",
    "longTable  "
   ]
  },
  {
   "cell_type": "markdown",
   "metadata": {},
   "source": [
    "https://pandas.pydata.org/docs/reference/api/pandas.melt.html"
   ]
  },
  {
   "cell_type": "code",
   "execution_count": null,
   "metadata": {
    "slideshow": {
     "slide_type": "slide"
    }
   },
   "outputs": [],
   "source": [
    "# Plotting the data without normalization\n",
    "longTable.iplot(kind='violin',data_header='value',categories='myVars',\n",
    "                show_rug=False)"
   ]
  },
  {
   "cell_type": "code",
   "execution_count": null,
   "metadata": {
    "scrolled": true,
    "slideshow": {
     "slide_type": "slide"
    }
   },
   "outputs": [],
   "source": [
    "# Normalizing the data\n",
    "longTable[\"normVal\"]=longTable.groupby('myVars').transform(\n",
    "    lambda value: (value - value.mean()) / value.std())[\"value\"]\n",
    "longTable"
   ]
  },
  {
   "cell_type": "code",
   "execution_count": null,
   "metadata": {
    "scrolled": true,
    "slideshow": {
     "slide_type": "slide"
    }
   },
   "outputs": [],
   "source": [
    "# Plotting the normalized data\n",
    "longTable.iplot(kind='violin',data_header='normVal',categories='myVars')\n",
    "# all the plots are overlapped"
   ]
  },
  {
   "cell_type": "code",
   "execution_count": null,
   "metadata": {
    "slideshow": {
     "slide_type": "slide"
    }
   },
   "outputs": [],
   "source": [
    "### Let's try a different package (run the cell and go to the next slide)\n",
    "# https://plotly.com/python/violin/\n",
    "import plotly.graph_objects as go\n",
    "fig = go.Figure()\n",
    "\n",
    "vars = tableRes.columns[4:]\n",
    "for var in vars:\n",
    "    fig.add_trace(go.Violin(x=longTable['myVars'][longTable['myVars'] == var],\n",
    "                            y=longTable['normVal'][longTable['myVars'] == var],\n",
    "                            name=var,\n",
    "                            box_visible=True,\n",
    "                            meanline_visible=True))"
   ]
  },
  {
   "cell_type": "code",
   "execution_count": null,
   "metadata": {
    "slideshow": {
     "slide_type": "slide"
    }
   },
   "outputs": [],
   "source": [
    "fig.update_layout(autosize=False,width=800,height=400)\n",
    "fig.show()"
   ]
  },
  {
   "cell_type": "code",
   "execution_count": null,
   "metadata": {
    "slideshow": {
     "slide_type": "slide"
    }
   },
   "outputs": [],
   "source": [
    "# Looking for differences between older and younger people\n",
    "fig = go.Figure()\n",
    "\n",
    "fig.add_trace(go.Violin(x=longTable['myVars'][longTable['Age'] >= 60 ],\n",
    "                        y=longTable['normVal'][longTable['Age'] >= 60 ],\n",
    "                        legendgroup='Older', name='Older',\n",
    "                        #line_color='blue',\n",
    "                        line_color='#1b9e77'),\n",
    "             );\n",
    "fig.add_trace(go.Violin(x=longTable['myVars'][longTable['Age'] < 60 ],\n",
    "                        y=longTable['normVal'][longTable['Age'] < 60 ],\n",
    "                        legendgroup='Younger', name='Younger',\n",
    "                        # line_color='orange',\n",
    "                        line_color='#7570b3')\n",
    "             );\n",
    "\n",
    "#fig.update_traces(box_visible=False, meanline_visible=True)\n"
   ]
  },
  {
   "cell_type": "code",
   "execution_count": null,
   "metadata": {
    "scrolled": false,
    "slideshow": {
     "slide_type": "slide"
    }
   },
   "outputs": [],
   "source": [
    "#fig.update_layout(violinmode='group')\n",
    "fig.update_layout(autosize=False,width=800,height=500)\n",
    "fig.show()"
   ]
  },
  {
   "cell_type": "code",
   "execution_count": null,
   "metadata": {
    "scrolled": false,
    "slideshow": {
     "slide_type": "slide"
    }
   },
   "outputs": [],
   "source": [
    "# Another alternative\n",
    "import plotly.express as px\n",
    "longTable['Old'] = longTable['Age'] < 60\n",
    "fig = px.violin(longTable, y=\"normVal\", x=\"myVars\", color=\"Old\",\n",
    "                violinmode='overlay',hover_data=longTable.columns)\n",
    "fig.update_layout(autosize=False,width=800,height=400)\n",
    "fig.show()"
   ]
  },
  {
   "cell_type": "markdown",
   "metadata": {
    "slideshow": {
     "slide_type": "slide"
    }
   },
   "source": [
    "### Preparing for publication\n",
    "- Remove innecessary elements\n",
    "- Select aproppriate visual variables\n",
    "- Add appropriate labels\n",
    "- Save a high resolution image\n",
    "- Avoid chart junk"
   ]
  },
  {
   "cell_type": "markdown",
   "metadata": {
    "slideshow": {
     "slide_type": "slide"
    }
   },
   "source": [
    "### Transparent background\n",
    "google 'transparent background plotly'\n",
    "\n",
    "[Setting background color to transparent in plotly](https://stackoverflow.com/questions/29968152/python-setting-background-color-to-transparent-in-plotly-plots)\n",
    "\n",
    "[Having a transparent background in plotly](https://community.plotly.com/t/having-a-transparent-background-in-plotly-express/30205/2)\n",
    "\n",
    "```\n",
    "fig.update_layout({\n",
    "‘plot_bgcolor’: ‘rgba(0, 0, 0, 0)’,\n",
    "‘paper_bgcolor’: ‘rgba(0, 0, 0, 0)’,\n",
    "})\n",
    "```\n",
    "\n",
    "In `rgba(0,0,0,0)` the `a` letter stands for the alpha channel, so setting it to `0`, makes the color transparent."
   ]
  },
  {
   "cell_type": "code",
   "execution_count": null,
   "metadata": {
    "slideshow": {
     "slide_type": "slide"
    }
   },
   "outputs": [],
   "source": [
    "# Trying the code to get a transparent background\n",
    "fig.update_layout({\n",
    "'plot_bgcolor': 'rgba(0, 0, 0, 0)',\n",
    "'paper_bgcolor': 'rgba(0, 0, 0, 0)'\n",
    "})\n",
    "fig.update_layout(autosize=False,width=800,height=400)\n",
    "fig.show()"
   ]
  },
  {
   "cell_type": "markdown",
   "metadata": {
    "slideshow": {
     "slide_type": "slide"
    }
   },
   "source": [
    "### Selecting appropriate colors\n",
    "\n",
    "Colorbrewer\n",
    "\n",
    "https://colorbrewer2.org/#type=qualitative&scheme=Dark2&n=3\n",
    "\n",
    "Discrete Colors in Python \n",
    "\n",
    "https://plotly.com/python/discrete-color/"
   ]
  },
  {
   "cell_type": "code",
   "execution_count": null,
   "metadata": {
    "scrolled": false,
    "slideshow": {
     "slide_type": "slide"
    }
   },
   "outputs": [],
   "source": [
    "# Changing default colors\n",
    "fig = px.violin(longTable, y=\"normVal\", x=\"myVars\", color=\"Old\",\n",
    "                violinmode='overlay',\n",
    "                color_discrete_sequence=[\"#1b9e77\", \"#7570b3\"],\n",
    "               )\n",
    "fig.update_layout({\n",
    "    'plot_bgcolor': 'rgba(0, 0, 0, 0)',\n",
    "    'paper_bgcolor': 'rgba(0, 0, 0, 0)',\n",
    "}); fig.update_layout(autosize=False,width=800,height=400); fig.show()"
   ]
  },
  {
   "cell_type": "markdown",
   "metadata": {
    "slideshow": {
     "slide_type": "slide"
    }
   },
   "source": [
    "### Labels\n",
    "Enumerated Ticks with Tickvals and Ticktext\n",
    "\n",
    "https://plotly.com/python/axes/"
   ]
  },
  {
   "cell_type": "code",
   "execution_count": null,
   "metadata": {
    "scrolled": false,
    "slideshow": {
     "slide_type": "slide"
    }
   },
   "outputs": [],
   "source": [
    "# Updating labels\n",
    "fig.update_xaxes(\n",
    "    ticktext=['RMS','TI', 'K', 'meanK','Speed','TIms',\n",
    "              'CoV','SD', 'LCoV', 'Lrms', 'LSD'],\n",
    "    tickvals=list(tableRes.columns[4:]),\n",
    "    title_text='Measures',\n",
    ")\n",
    "fig.update_layout(autosize=False,width=800,height=400)\n",
    "fig.update_yaxes(title_text='Value')\n",
    "fig.show()"
   ]
  },
  {
   "cell_type": "markdown",
   "metadata": {
    "slideshow": {
     "slide_type": "slide"
    }
   },
   "source": [
    "### Saving the image\n",
    "```\n",
    "# https://plotly.com/python/static-image-export/\n",
    "fig.write_image(\"images/overlapping_violin_plots.pdf\")\n",
    "```\n",
    "```\n",
    "--------------------------------------------------------------------------\n",
    "ValueError                                Traceback (most recent call last)\n",
    "<ipython-input-22-d72c8d17468c> in <module>\n",
    "      1 # https://plotly.com/python/static-image-export/\n",
    "----> 2 fig.write_image(\"images/overlapping_violin_plots.pdf\")\n",
    "/opt/conda/lib/python3.7/site-packages/plotly/basedatatypes.py in write_image(self, *args, **kwargs)\n",
    "   2822         import plotly.io as pio\n",
    "   2823 \n",
    "-> 2824         return pio.write_image(self, *args, **kwargs)\n",
    "   2825 \n",
    "   2826     # Static helpers\n",
    "\n",
    "/opt/conda/lib/python3.7/site-packages/plotly/io/_orca.py in write_image(fig, file, format, scale, width, height, validate)\n",
    "   1768     # Do this first so we don't create a file if image conversion fails\n",
    "   1769     img_data = to_image(\n",
    "-> 1770         fig, format=format, scale=scale, width=width, height=height, validate=validate\n",
    "   1771     )\n",
    "   1772 \n",
    "\n",
    "/opt/conda/lib/python3.7/site-packages/plotly/io/_orca.py in to_image(fig, format, width, height, scale, validate)\n",
    "   1533     # Make sure orca sever is running\n",
    "   1534     # -------------------------------\n",
    "-> 1535     ensure_server()\n",
    "   1536 \n",
    "   1537     # Handle defaults\n",
    "\n",
    "/opt/conda/lib/python3.7/site-packages/plotly/io/_orca.py in ensure_server()\n",
    "   1388         # Validate orca executable only if server_url is not provided\n",
    "   1389         if status.state == \"unvalidated\":\n",
    "-> 1390             validate_executable()\n",
    "   1391         # Acquire lock to make sure that we keep the properties of orca_state\n",
    "   1392         # consistent across threads\n",
    "\n",
    "/opt/conda/lib/python3.7/site-packages/plotly/io/_orca.py in validate_executable()\n",
    "   1191     $ {executable} --help\n",
    "   1192 \"\"\".format(\n",
    "-> 1193                 executable=\" \".join(executable_list)\n",
    "   1194             )\n",
    "   1195         )\n",
    "\n",
    "ValueError: \n",
    "The orca executable is required in order to export figures as static images,\n",
    "but the executable that was found at '/opt/conda/bin/orca'\n",
    "does not seem to be a valid plotly orca executable. Please refer to the end of\n",
    "this message for details on what went wrong.\n",
    "\n",
    "If you haven't installed orca yet, you can do so using conda as follows:\n",
    "\n",
    "    $ conda install -c plotly plotly-orca\n",
    "\n",
    "Alternatively, see other installation methods in the orca project README at\n",
    "https://github.com/plotly/orca\n",
    "\n",
    "After installation is complete, no further configuration should be needed.\n",
    "\n",
    "If you have installed orca, then for some reason plotly.py was unable to\n",
    "locate it. In this case, set the `plotly.io.orca.config.executable`\n",
    "property to the full path of your orca executable. For example:\n",
    "\n",
    "    >>> plotly.io.orca.config.executable = '/path/to/orca'\n",
    "\n",
    "After updating this executable property, try the export operation again.\n",
    "If it is successful then you may want to save this configuration so that it\n",
    "will be applied automatically in future sessions. You can do this as follows:\n",
    "\n",
    "    >>> plotly.io.orca.config.save()\n",
    "\n",
    "If you're still having trouble, feel free to ask for help on the forums at\n",
    "https://community.plot.ly/c/api/python\n",
    "\n",
    "The error encountered is that no output was returned by the command\n",
    "    $ /opt/conda/bin/orca --help\n",
    "```"
   ]
  },
  {
   "cell_type": "markdown",
   "metadata": {
    "slideshow": {
     "slide_type": "slide"
    }
   },
   "source": [
    "### Installing orca on docker\n",
    "\n",
    "https://plotly.com/python/static-image-export/\n",
    "\n",
    "Not so easy!!\n",
    "\n",
    "https://github.com/plotly/orca/issues/150\n",
    "\n",
    "https://github.com/plotly/orca/blob/80855093193afba09a4dbebaa7bae776be88e15e/README.md#linux-troubleshooting-headless-server-configuration\n",
    "\n",
    "https://github.com/mathieuboudreau/orca-plotly-dockerfile/blob/master/Dockerfile\n",
    "\n",
    "Luckily, it is already installed in our environment\n"
   ]
  },
  {
   "cell_type": "code",
   "execution_count": null,
   "metadata": {
    "scrolled": true,
    "slideshow": {
     "slide_type": "slide"
    }
   },
   "outputs": [],
   "source": [
    "# Saving our plots\n",
    "# https://plotly.com/python/static-image-export/ \n",
    "# https://plotly.com/python/setting-graph-size/\n",
    "\n",
    "# Saves the file in the current directory\n",
    "fig.write_image(\"overlapping_violin_plots.pdf\")\n",
    "# eps format needs poppler\n",
    "# conda install -y poppler (already in our environment)\n",
    "fig.write_image(\"overlapping_violin_plots.eps\")\n",
    "fig.write_image(\"overlapping_violin_plots.png\",width=600, height=350, scale=3)\n",
    "\n",
    "# Locally, you can save the plots in another folder\n",
    "# fig.write_image(\"images/overlapping_violin_plots.pdf\")\n",
    "\n",
    "# How to generate images with a resolution higher than 300 dpi?"
   ]
  },
  {
   "cell_type": "markdown",
   "metadata": {
    "slideshow": {
     "slide_type": "slide"
    }
   },
   "source": [
    "### High quality plots with latex\n",
    "\n",
    "- tikz\n",
    "- tikzDevice (only in R)\n",
    "- Useful for publications \n",
    "- Match plot and main text fonts\n",
    "- Can include complex mathematical formulae\n",
    "- Unfortunately does not work with plotly\n",
    "- `tikzDevice` works with `r magic` in jupyer notebook"
   ]
  },
  {
   "cell_type": "code",
   "execution_count": null,
   "metadata": {
    "scrolled": true,
    "slideshow": {
     "slide_type": "slide"
    }
   },
   "outputs": [],
   "source": [
    "# activate R magic\n",
    "%load_ext rpy2.ipython"
   ]
  },
  {
   "cell_type": "code",
   "execution_count": null,
   "metadata": {},
   "outputs": [],
   "source": [
    "%%R\n",
    "# r imports …\n",
    "library(ggplot2)"
   ]
  },
  {
   "cell_type": "code",
   "execution_count": null,
   "metadata": {},
   "outputs": [],
   "source": [
    "%%R -i longTable -w 900 -h 480 -u px\n",
    "p <- ggplot(longTable, aes(x= myVars,y=normVal,color=Old)) + \n",
    "  geom_violin(alpha=0.3,position=\"identity\")+\n",
    "    theme_bw()\n"
   ]
  },
  {
   "cell_type": "code",
   "execution_count": null,
   "metadata": {
    "slideshow": {
     "slide_type": "slide"
    }
   },
   "outputs": [],
   "source": [
    "%%R -w 900 -h 480 -u px\n",
    "p"
   ]
  },
  {
   "cell_type": "code",
   "execution_count": null,
   "metadata": {
    "slideshow": {
     "slide_type": "slide"
    }
   },
   "outputs": [],
   "source": [
    "%%R\n",
    "# Installing 'tikzDevice' in the container add the following to the docker file\n",
    "# Dockerfile\n",
    "# RUN R -e \"install.packages('tikzDevice',dependencies=TRUE, repos='http://cran.rstudio.com/')\"\n",
    "\n",
    "library('tikzDevice')"
   ]
  },
  {
   "cell_type": "code",
   "execution_count": null,
   "metadata": {},
   "outputs": [],
   "source": [
    "%%R\n",
    "# saving the tex file\n",
    "tikz(\"overlapping_violin_plots_Rtikz.tex\",standAlone = TRUE, width=8, height=4)\n",
    "   print(p)\n",
    "dev.off()"
   ]
  },
  {
   "cell_type": "code",
   "execution_count": null,
   "metadata": {},
   "outputs": [],
   "source": [
    "# current directory\n",
    "!pwd"
   ]
  },
  {
   "cell_type": "code",
   "execution_count": null,
   "metadata": {
    "slideshow": {
     "slide_type": "slide"
    }
   },
   "outputs": [],
   "source": [
    "# Creating the pdf file\n",
    "!pdflatex overlapping_violin_plots_Rtikz.tex\n",
    "\n",
    "# You can save the output in a different folder\n",
    "# !pdflatex -output-directory=images/ images/overlapping_violin_plots_Rtikz.tex"
   ]
  },
  {
   "cell_type": "code",
   "execution_count": null,
   "metadata": {
    "slideshow": {
     "slide_type": "slide"
    }
   },
   "outputs": [],
   "source": [
    "# https://stackoverflow.com/questions/19470099/view-pdf-image-in-an-ipython-notebook\n",
    "# displaying the result, works in firefox\n",
    "# it seems not to be working on binder and chrome\n",
    "from IPython.display import IFrame\n",
    "IFrame(\"./overlapping_violin_plots_Rtikz.pdf\", width=1000, height=600)"
   ]
  },
  {
   "cell_type": "markdown",
   "metadata": {
    "slideshow": {
     "slide_type": "slide"
    }
   },
   "source": [
    "### Suggested assignment (01)\n",
    "Create a grouped bar chart (see next slide) showing speed `medSpeed` and curvature `medK` average values per participant `iSubj`.\n",
    "1. Create a new normalized variable `normVal2` in `longTable` using the formula `(value - value.min())/(value.max())-value.min())` \n",
    "2. Create a new (subset) dataframe `dfKS` that contains the key, plus curvature and speed variables. Tip: [Subset dataframes](https://pandas.pydata.org/docs/getting_started/intro_tutorials/03_subset_data.html)\n",
    "3. Estimate mean curvature and speed `normVal2` grouped by `['iSubj','myVars','Age']`. Tip: [Dataframe group by](https://pandas.pydata.org/pandas-docs/version/0.23.1/generated/pandas.core.groupby.DataFrameGroupBy.agg.html), covert the result to DataFrame and use `reset_index()`.\n",
    "4. Select colors from https://colorbrewer2.org\n",
    "5. Create the grouped bar chart. Tip: [Bar chart](https://plotly.com/python/bar-charts/) and look at previous slides to change the tick labels."
   ]
  },
  {
   "cell_type": "markdown",
   "metadata": {
    "slideshow": {
     "slide_type": "slide"
    }
   },
   "source": [
    "### Resulting plot.\n",
    "<img src=\"images/grouped_bar_chart.png\" width=\"1000\">\n",
    "Try to create a similar plot using `R`, `ggplot2` and `tikzDevice` (optional)."
   ]
  }
 ],
 "metadata": {
  "celltoolbar": "Slideshow",
  "kernelspec": {
   "display_name": "Python 3",
   "language": "python",
   "name": "python3"
  },
  "language_info": {
   "codemirror_mode": {
    "name": "ipython",
    "version": 3
   },
   "file_extension": ".py",
   "mimetype": "text/x-python",
   "name": "python",
   "nbconvert_exporter": "python",
   "pygments_lexer": "ipython3",
   "version": "3.7.6"
  }
 },
 "nbformat": 4,
 "nbformat_minor": 4
}
