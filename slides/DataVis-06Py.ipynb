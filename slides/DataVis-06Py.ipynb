{
 "cells": [
  {
   "cell_type": "markdown",
   "metadata": {
    "slideshow": {
     "slide_type": "slide"
    }
   },
   "source": [
    "# Visualization Techniques (Projections)\n",
    "\n",
    "## Venustiano Soancatl Aguilar\n",
    "### Center for Information Technology\n",
    "### University of Groningen, the Netherlands"
   ]
  },
  {
   "cell_type": "markdown",
   "metadata": {
    "slideshow": {
     "slide_type": "slide"
    }
   },
   "source": [
    "### Projections, given a table of $m$ rows and $n$ columns,\n",
    "- a row reprents an $n-dimensional$ point,\n",
    "- a row can be represented/mapped as a $2D$ point\n",
    "- point-to-point distance (in $2D$) shows similarity of table rows (in $nD$)\n",
    "- coloring points by one attribute can show groups\n",
    "\n",
    "Principal component analysis (PCA)\n",
    "1. compute $n$ eigenvectors $e_i$ and eigenvalues $w_i$ of the $m$ table rows\n",
    "2. select the two eigenvectors $e_i$ for the two largest eigenvalues $w_i$\n",
    "3. project the $nD$ points on a $2D$ plane spanned by the two largest eigenvectors\n",
    "\n",
    "pro’s: simple to compute, many tools support this (linear) method\n",
    "\n",
    "con’s: 2D distances may not accurately reflect $nD$ distances"
   ]
  },
  {
   "cell_type": "markdown",
   "metadata": {
    "slideshow": {
     "slide_type": "slide"
    }
   },
   "source": [
    "### The data"
   ]
  },
  {
   "cell_type": "code",
   "execution_count": 1,
   "metadata": {
    "slideshow": {
     "slide_type": "-"
    }
   },
   "outputs": [
    {
     "data": {
      "text/html": [
       "<div>\n",
       "<style scoped>\n",
       "    .dataframe tbody tr th:only-of-type {\n",
       "        vertical-align: middle;\n",
       "    }\n",
       "\n",
       "    .dataframe tbody tr th {\n",
       "        vertical-align: top;\n",
       "    }\n",
       "\n",
       "    .dataframe thead th {\n",
       "        text-align: right;\n",
       "    }\n",
       "</style>\n",
       "<table border=\"1\" class=\"dataframe\">\n",
       "  <thead>\n",
       "    <tr style=\"text-align: right;\">\n",
       "      <th></th>\n",
       "      <th>iSubj</th>\n",
       "      <th>trial</th>\n",
       "      <th>Age</th>\n",
       "      <th>Decade</th>\n",
       "      <th>medLrms51</th>\n",
       "      <th>medTI51</th>\n",
       "      <th>medK</th>\n",
       "      <th>meanK</th>\n",
       "      <th>medSpeed</th>\n",
       "      <th>medTIms51</th>\n",
       "      <th>medLcovD51</th>\n",
       "      <th>medLsd51</th>\n",
       "      <th>medLcov51</th>\n",
       "      <th>medLrmslD51</th>\n",
       "      <th>medLsdD51</th>\n",
       "    </tr>\n",
       "  </thead>\n",
       "  <tbody>\n",
       "    <tr>\n",
       "      <th>1</th>\n",
       "      <td>1</td>\n",
       "      <td>1</td>\n",
       "      <td>76</td>\n",
       "      <td>7</td>\n",
       "      <td>0.189493</td>\n",
       "      <td>0.589529</td>\n",
       "      <td>207.800939</td>\n",
       "      <td>333.861515</td>\n",
       "      <td>0.488721</td>\n",
       "      <td>0.806345</td>\n",
       "      <td>0.744766</td>\n",
       "      <td>0.020602</td>\n",
       "      <td>0.108687</td>\n",
       "      <td>1.259172</td>\n",
       "      <td>0.129068</td>\n",
       "    </tr>\n",
       "    <tr>\n",
       "      <th>2</th>\n",
       "      <td>1</td>\n",
       "      <td>2</td>\n",
       "      <td>76</td>\n",
       "      <td>7</td>\n",
       "      <td>0.204152</td>\n",
       "      <td>0.697338</td>\n",
       "      <td>223.294322</td>\n",
       "      <td>319.601546</td>\n",
       "      <td>0.518278</td>\n",
       "      <td>0.775451</td>\n",
       "      <td>0.506944</td>\n",
       "      <td>0.016446</td>\n",
       "      <td>0.078140</td>\n",
       "      <td>1.263366</td>\n",
       "      <td>0.105902</td>\n",
       "    </tr>\n",
       "    <tr>\n",
       "      <th>3</th>\n",
       "      <td>1</td>\n",
       "      <td>3</td>\n",
       "      <td>76</td>\n",
       "      <td>7</td>\n",
       "      <td>0.217347</td>\n",
       "      <td>0.786131</td>\n",
       "      <td>136.400753</td>\n",
       "      <td>272.460861</td>\n",
       "      <td>0.584193</td>\n",
       "      <td>0.511902</td>\n",
       "      <td>0.706127</td>\n",
       "      <td>0.047372</td>\n",
       "      <td>0.236467</td>\n",
       "      <td>0.782796</td>\n",
       "      <td>0.133917</td>\n",
       "    </tr>\n",
       "    <tr>\n",
       "      <th>4</th>\n",
       "      <td>1</td>\n",
       "      <td>4</td>\n",
       "      <td>76</td>\n",
       "      <td>7</td>\n",
       "      <td>0.169569</td>\n",
       "      <td>1.020695</td>\n",
       "      <td>162.034626</td>\n",
       "      <td>289.927862</td>\n",
       "      <td>0.590151</td>\n",
       "      <td>0.416398</td>\n",
       "      <td>0.701803</td>\n",
       "      <td>0.039017</td>\n",
       "      <td>0.265361</td>\n",
       "      <td>0.487570</td>\n",
       "      <td>0.108637</td>\n",
       "    </tr>\n",
       "    <tr>\n",
       "      <th>5</th>\n",
       "      <td>1</td>\n",
       "      <td>5</td>\n",
       "      <td>76</td>\n",
       "      <td>7</td>\n",
       "      <td>0.170786</td>\n",
       "      <td>0.769747</td>\n",
       "      <td>141.767674</td>\n",
       "      <td>300.625818</td>\n",
       "      <td>0.551706</td>\n",
       "      <td>0.550029</td>\n",
       "      <td>0.753161</td>\n",
       "      <td>0.036798</td>\n",
       "      <td>0.235907</td>\n",
       "      <td>0.646194</td>\n",
       "      <td>0.119610</td>\n",
       "    </tr>\n",
       "    <tr>\n",
       "      <th>...</th>\n",
       "      <td>...</td>\n",
       "      <td>...</td>\n",
       "      <td>...</td>\n",
       "      <td>...</td>\n",
       "      <td>...</td>\n",
       "      <td>...</td>\n",
       "      <td>...</td>\n",
       "      <td>...</td>\n",
       "      <td>...</td>\n",
       "      <td>...</td>\n",
       "      <td>...</td>\n",
       "      <td>...</td>\n",
       "      <td>...</td>\n",
       "      <td>...</td>\n",
       "      <td>...</td>\n",
       "    </tr>\n",
       "    <tr>\n",
       "      <th>396</th>\n",
       "      <td>40</td>\n",
       "      <td>6</td>\n",
       "      <td>58</td>\n",
       "      <td>5</td>\n",
       "      <td>0.304933</td>\n",
       "      <td>0.715350</td>\n",
       "      <td>263.249490</td>\n",
       "      <td>393.654382</td>\n",
       "      <td>0.419596</td>\n",
       "      <td>0.989819</td>\n",
       "      <td>0.248116</td>\n",
       "      <td>0.009786</td>\n",
       "      <td>0.031676</td>\n",
       "      <td>2.273710</td>\n",
       "      <td>0.079016</td>\n",
       "    </tr>\n",
       "    <tr>\n",
       "      <th>397</th>\n",
       "      <td>40</td>\n",
       "      <td>7</td>\n",
       "      <td>58</td>\n",
       "      <td>5</td>\n",
       "      <td>0.298630</td>\n",
       "      <td>0.758093</td>\n",
       "      <td>285.346624</td>\n",
       "      <td>436.866203</td>\n",
       "      <td>0.364656</td>\n",
       "      <td>1.154292</td>\n",
       "      <td>0.162838</td>\n",
       "      <td>0.005467</td>\n",
       "      <td>0.017858</td>\n",
       "      <td>2.618494</td>\n",
       "      <td>0.050360</td>\n",
       "    </tr>\n",
       "    <tr>\n",
       "      <th>398</th>\n",
       "      <td>40</td>\n",
       "      <td>8</td>\n",
       "      <td>58</td>\n",
       "      <td>5</td>\n",
       "      <td>0.295032</td>\n",
       "      <td>0.715015</td>\n",
       "      <td>292.177991</td>\n",
       "      <td>422.242295</td>\n",
       "      <td>0.398149</td>\n",
       "      <td>1.077907</td>\n",
       "      <td>0.266188</td>\n",
       "      <td>0.009360</td>\n",
       "      <td>0.031146</td>\n",
       "      <td>2.475323</td>\n",
       "      <td>0.079460</td>\n",
       "    </tr>\n",
       "    <tr>\n",
       "      <th>399</th>\n",
       "      <td>40</td>\n",
       "      <td>9</td>\n",
       "      <td>58</td>\n",
       "      <td>5</td>\n",
       "      <td>0.310277</td>\n",
       "      <td>0.710607</td>\n",
       "      <td>255.888346</td>\n",
       "      <td>392.841818</td>\n",
       "      <td>0.413573</td>\n",
       "      <td>1.023273</td>\n",
       "      <td>0.242811</td>\n",
       "      <td>0.009074</td>\n",
       "      <td>0.028856</td>\n",
       "      <td>2.338997</td>\n",
       "      <td>0.075648</td>\n",
       "    </tr>\n",
       "    <tr>\n",
       "      <th>400</th>\n",
       "      <td>40</td>\n",
       "      <td>10</td>\n",
       "      <td>58</td>\n",
       "      <td>5</td>\n",
       "      <td>0.317337</td>\n",
       "      <td>0.752008</td>\n",
       "      <td>225.649255</td>\n",
       "      <td>367.536358</td>\n",
       "      <td>0.423233</td>\n",
       "      <td>1.002901</td>\n",
       "      <td>0.319482</td>\n",
       "      <td>0.012942</td>\n",
       "      <td>0.042028</td>\n",
       "      <td>2.281374</td>\n",
       "      <td>0.099211</td>\n",
       "    </tr>\n",
       "  </tbody>\n",
       "</table>\n",
       "<p>400 rows × 15 columns</p>\n",
       "</div>"
      ],
      "text/plain": [
       "     iSubj  trial  Age  Decade  medLrms51   medTI51        medK       meanK  \\\n",
       "1        1      1   76       7   0.189493  0.589529  207.800939  333.861515   \n",
       "2        1      2   76       7   0.204152  0.697338  223.294322  319.601546   \n",
       "3        1      3   76       7   0.217347  0.786131  136.400753  272.460861   \n",
       "4        1      4   76       7   0.169569  1.020695  162.034626  289.927862   \n",
       "5        1      5   76       7   0.170786  0.769747  141.767674  300.625818   \n",
       "..     ...    ...  ...     ...        ...       ...         ...         ...   \n",
       "396     40      6   58       5   0.304933  0.715350  263.249490  393.654382   \n",
       "397     40      7   58       5   0.298630  0.758093  285.346624  436.866203   \n",
       "398     40      8   58       5   0.295032  0.715015  292.177991  422.242295   \n",
       "399     40      9   58       5   0.310277  0.710607  255.888346  392.841818   \n",
       "400     40     10   58       5   0.317337  0.752008  225.649255  367.536358   \n",
       "\n",
       "     medSpeed  medTIms51  medLcovD51  medLsd51  medLcov51  medLrmslD51  \\\n",
       "1    0.488721   0.806345    0.744766  0.020602   0.108687     1.259172   \n",
       "2    0.518278   0.775451    0.506944  0.016446   0.078140     1.263366   \n",
       "3    0.584193   0.511902    0.706127  0.047372   0.236467     0.782796   \n",
       "4    0.590151   0.416398    0.701803  0.039017   0.265361     0.487570   \n",
       "5    0.551706   0.550029    0.753161  0.036798   0.235907     0.646194   \n",
       "..        ...        ...         ...       ...        ...          ...   \n",
       "396  0.419596   0.989819    0.248116  0.009786   0.031676     2.273710   \n",
       "397  0.364656   1.154292    0.162838  0.005467   0.017858     2.618494   \n",
       "398  0.398149   1.077907    0.266188  0.009360   0.031146     2.475323   \n",
       "399  0.413573   1.023273    0.242811  0.009074   0.028856     2.338997   \n",
       "400  0.423233   1.002901    0.319482  0.012942   0.042028     2.281374   \n",
       "\n",
       "     medLsdD51  \n",
       "1     0.129068  \n",
       "2     0.105902  \n",
       "3     0.133917  \n",
       "4     0.108637  \n",
       "5     0.119610  \n",
       "..         ...  \n",
       "396   0.079016  \n",
       "397   0.050360  \n",
       "398   0.079460  \n",
       "399   0.075648  \n",
       "400   0.099211  \n",
       "\n",
       "[400 rows x 15 columns]"
      ]
     },
     "execution_count": 1,
     "metadata": {},
     "output_type": "execute_result"
    }
   ],
   "source": [
    "import pandas as pd\n",
    "# Data\n",
    "tableRes = pd.read_csv('data/results.txt',sep=' ')\n",
    "tableRes"
   ]
  },
  {
   "cell_type": "markdown",
   "metadata": {
    "slideshow": {
     "slide_type": "slide"
    }
   },
   "source": [
    "### Selecting columns to normalize"
   ]
  },
  {
   "cell_type": "code",
   "execution_count": 2,
   "metadata": {
    "scrolled": true,
    "slideshow": {
     "slide_type": "-"
    }
   },
   "outputs": [
    {
     "data": {
      "text/plain": [
       "Index(['medLrms51', 'medTI51', 'medK', 'meanK', 'medSpeed', 'medTIms51',\n",
       "       'medLcovD51', 'medLsd51', 'medLcov51', 'medLrmslD51', 'medLsdD51'],\n",
       "      dtype='object')"
      ]
     },
     "execution_count": 2,
     "metadata": {},
     "output_type": "execute_result"
    }
   ],
   "source": [
    "cols_to_norm = tableRes.columns[4:15]\n",
    "cols_to_norm"
   ]
  },
  {
   "cell_type": "markdown",
   "metadata": {
    "slideshow": {
     "slide_type": "slide"
    }
   },
   "source": [
    "### Normalizing the data"
   ]
  },
  {
   "cell_type": "code",
   "execution_count": 3,
   "metadata": {
    "slideshow": {
     "slide_type": "slide"
    }
   },
   "outputs": [
    {
     "data": {
      "text/html": [
       "<div>\n",
       "<style scoped>\n",
       "    .dataframe tbody tr th:only-of-type {\n",
       "        vertical-align: middle;\n",
       "    }\n",
       "\n",
       "    .dataframe tbody tr th {\n",
       "        vertical-align: top;\n",
       "    }\n",
       "\n",
       "    .dataframe thead th {\n",
       "        text-align: right;\n",
       "    }\n",
       "</style>\n",
       "<table border=\"1\" class=\"dataframe\">\n",
       "  <thead>\n",
       "    <tr style=\"text-align: right;\">\n",
       "      <th></th>\n",
       "      <th>iSubj</th>\n",
       "      <th>trial</th>\n",
       "      <th>Age</th>\n",
       "      <th>Decade</th>\n",
       "      <th>medLrms51</th>\n",
       "      <th>medTI51</th>\n",
       "      <th>medK</th>\n",
       "      <th>meanK</th>\n",
       "      <th>medSpeed</th>\n",
       "      <th>medTIms51</th>\n",
       "      <th>medLcovD51</th>\n",
       "      <th>medLsd51</th>\n",
       "      <th>medLcov51</th>\n",
       "      <th>medLrmslD51</th>\n",
       "      <th>medLsdD51</th>\n",
       "    </tr>\n",
       "  </thead>\n",
       "  <tbody>\n",
       "    <tr>\n",
       "      <th>1</th>\n",
       "      <td>1</td>\n",
       "      <td>1</td>\n",
       "      <td>76</td>\n",
       "      <td>7</td>\n",
       "      <td>-0.406276</td>\n",
       "      <td>-1.179195</td>\n",
       "      <td>-0.053610</td>\n",
       "      <td>0.024586</td>\n",
       "      <td>-0.206204</td>\n",
       "      <td>0.095150</td>\n",
       "      <td>0.332978</td>\n",
       "      <td>-0.194534</td>\n",
       "      <td>-0.178508</td>\n",
       "      <td>0.045147</td>\n",
       "      <td>0.614619</td>\n",
       "    </tr>\n",
       "    <tr>\n",
       "      <th>2</th>\n",
       "      <td>1</td>\n",
       "      <td>2</td>\n",
       "      <td>76</td>\n",
       "      <td>7</td>\n",
       "      <td>-0.168225</td>\n",
       "      <td>-0.344193</td>\n",
       "      <td>0.228271</td>\n",
       "      <td>-0.226344</td>\n",
       "      <td>0.155747</td>\n",
       "      <td>-0.062731</td>\n",
       "      <td>-0.389216</td>\n",
       "      <td>-0.465559</td>\n",
       "      <td>-0.544866</td>\n",
       "      <td>0.054335</td>\n",
       "      <td>-0.174366</td>\n",
       "    </tr>\n",
       "    <tr>\n",
       "      <th>3</th>\n",
       "      <td>1</td>\n",
       "      <td>3</td>\n",
       "      <td>76</td>\n",
       "      <td>7</td>\n",
       "      <td>0.046049</td>\n",
       "      <td>0.343531</td>\n",
       "      <td>-1.352643</td>\n",
       "      <td>-1.055870</td>\n",
       "      <td>0.962942</td>\n",
       "      <td>-1.409570</td>\n",
       "      <td>0.215643</td>\n",
       "      <td>1.551026</td>\n",
       "      <td>1.353981</td>\n",
       "      <td>-0.998491</td>\n",
       "      <td>0.779784</td>\n",
       "    </tr>\n",
       "    <tr>\n",
       "      <th>4</th>\n",
       "      <td>1</td>\n",
       "      <td>4</td>\n",
       "      <td>76</td>\n",
       "      <td>7</td>\n",
       "      <td>-0.729817</td>\n",
       "      <td>2.160290</td>\n",
       "      <td>-0.886268</td>\n",
       "      <td>-0.748506</td>\n",
       "      <td>1.035904</td>\n",
       "      <td>-1.897633</td>\n",
       "      <td>0.202514</td>\n",
       "      <td>1.006211</td>\n",
       "      <td>1.700509</td>\n",
       "      <td>-1.645271</td>\n",
       "      <td>-0.081213</td>\n",
       "    </tr>\n",
       "    <tr>\n",
       "      <th>5</th>\n",
       "      <td>1</td>\n",
       "      <td>5</td>\n",
       "      <td>76</td>\n",
       "      <td>7</td>\n",
       "      <td>-0.710069</td>\n",
       "      <td>0.216632</td>\n",
       "      <td>-1.254999</td>\n",
       "      <td>-0.560256</td>\n",
       "      <td>0.565108</td>\n",
       "      <td>-1.214724</td>\n",
       "      <td>0.358471</td>\n",
       "      <td>0.861507</td>\n",
       "      <td>1.347267</td>\n",
       "      <td>-1.297759</td>\n",
       "      <td>0.292489</td>\n",
       "    </tr>\n",
       "  </tbody>\n",
       "</table>\n",
       "</div>"
      ],
      "text/plain": [
       "   iSubj  trial  Age  Decade  medLrms51   medTI51      medK     meanK  \\\n",
       "1      1      1   76       7  -0.406276 -1.179195 -0.053610  0.024586   \n",
       "2      1      2   76       7  -0.168225 -0.344193  0.228271 -0.226344   \n",
       "3      1      3   76       7   0.046049  0.343531 -1.352643 -1.055870   \n",
       "4      1      4   76       7  -0.729817  2.160290 -0.886268 -0.748506   \n",
       "5      1      5   76       7  -0.710069  0.216632 -1.254999 -0.560256   \n",
       "\n",
       "   medSpeed  medTIms51  medLcovD51  medLsd51  medLcov51  medLrmslD51  \\\n",
       "1 -0.206204   0.095150    0.332978 -0.194534  -0.178508     0.045147   \n",
       "2  0.155747  -0.062731   -0.389216 -0.465559  -0.544866     0.054335   \n",
       "3  0.962942  -1.409570    0.215643  1.551026   1.353981    -0.998491   \n",
       "4  1.035904  -1.897633    0.202514  1.006211   1.700509    -1.645271   \n",
       "5  0.565108  -1.214724    0.358471  0.861507   1.347267    -1.297759   \n",
       "\n",
       "   medLsdD51  \n",
       "1   0.614619  \n",
       "2  -0.174366  \n",
       "3   0.779784  \n",
       "4  -0.081213  \n",
       "5   0.292489  "
      ]
     },
     "execution_count": 3,
     "metadata": {},
     "output_type": "execute_result"
    }
   ],
   "source": [
    "tableRes[cols_to_norm] = tableRes[cols_to_norm].transform(lambda value: (value - value.mean()) / value.std())\n",
    "tableRes.head()"
   ]
  },
  {
   "cell_type": "markdown",
   "metadata": {
    "slideshow": {
     "slide_type": "slide"
    }
   },
   "source": [
    "### Using `R` for PCA"
   ]
  },
  {
   "cell_type": "code",
   "execution_count": 4,
   "metadata": {},
   "outputs": [
    {
     "name": "stderr",
     "output_type": "stream",
     "text": [
      "/opt/conda/lib/python3.7/site-packages/rpy2/robjects/pandas2ri.py:14: FutureWarning: pandas.core.index is deprecated and will be removed in a future version.  The public classes are available in the top-level namespace.\n",
      "  from pandas.core.index import Index as PandasIndex\n"
     ]
    }
   ],
   "source": [
    "# activate R magic\n",
    "%load_ext rpy2.ipython"
   ]
  },
  {
   "cell_type": "code",
   "execution_count": 5,
   "metadata": {
    "slideshow": {
     "slide_type": "-"
    }
   },
   "outputs": [],
   "source": [
    "%%R\n",
    "# r imports …\n",
    "library(ggplot2)\n",
    "library(data.table)"
   ]
  },
  {
   "cell_type": "markdown",
   "metadata": {
    "slideshow": {
     "slide_type": "slide"
    }
   },
   "source": [
    "### `prcomp`"
   ]
  },
  {
   "cell_type": "code",
   "execution_count": 6,
   "metadata": {
    "slideshow": {
     "slide_type": "-"
    }
   },
   "outputs": [
    {
     "name": "stdout",
     "output_type": "stream",
     "text": [
      "Standard deviations (1, .., p=11):\n",
      " [1] 2.41173960 1.71307470 0.98895667 0.91062388 0.37032009 0.35355737\n",
      " [7] 0.26429141 0.25548704 0.15100026 0.12298269 0.08016767\n",
      "\n",
      "Rotation (n x k) = (11 x 11):\n",
      "                    PC1         PC2         PC3         PC4         PC5\n",
      "medLrms51    0.05971084 -0.53757150 -0.31886975  0.01290679 -0.22309384\n",
      "medTI51      0.26162265 -0.19597664 -0.03471394 -0.73464487  0.34953967\n",
      "medK        -0.36843362  0.19195554  0.02969850 -0.26195206 -0.09271083\n",
      "meanK       -0.35584700  0.15390292 -0.24456723 -0.37430522 -0.17410174\n",
      "medSpeed     0.36050703 -0.15369588  0.28480403  0.26293426 -0.17036643\n",
      "medTIms51   -0.39049317  0.12406172 -0.16758189  0.08319465  0.00148884\n",
      "medLcovD51   0.10189172  0.54217342 -0.10147216  0.11932485 -0.08720354\n",
      "medLsd51     0.37458176  0.02188806 -0.30760090 -0.21941535 -0.30778866\n",
      "medLcov51    0.32234471  0.32630834 -0.07510445 -0.15663402 -0.57921111\n",
      "medLrmslD51 -0.26605790 -0.36743670 -0.37442296  0.15458067 -0.32794638\n",
      "medLsdD51    0.24037724  0.19273118 -0.69027294  0.25404795  0.46340572\n",
      "                    PC6         PC7        PC8         PC9         PC10\n",
      "medLrms51   -0.19932745  0.35061296 -0.3523983  0.26292013 -0.178449964\n",
      "medTI51     -0.38852965  0.02280413  0.2698161 -0.01080795  0.007880793\n",
      "medK         0.17450740  0.69869694  0.1080169 -0.43415464 -0.157085821\n",
      "meanK        0.17351756  0.01394028 -0.1438506  0.43747398  0.607913551\n",
      "medSpeed     0.02586282  0.47224438  0.4756079  0.25711892  0.369810093\n",
      "medTIms51   -0.10293663 -0.11703397  0.6291363  0.42701592 -0.367223863\n",
      "medLcovD51  -0.59053037  0.25761816 -0.2362108  0.20891579 -0.163414852\n",
      "medLsd51     0.51013797 -0.01645476  0.0598884  0.14751478 -0.426465907\n",
      "medLcov51   -0.15686632 -0.21662253  0.1511338 -0.26112260  0.156389822\n",
      "medLrmslD51 -0.29502884 -0.12726616  0.2307516 -0.38117033  0.139956770\n",
      "medLsdD51    0.12988972  0.14733363  0.1147555 -0.15345188  0.222761160\n",
      "                   PC11\n",
      "medLrms51    0.40990160\n",
      "medTI51     -0.07487087\n",
      "medK         0.07648161\n",
      "meanK       -0.08671689\n",
      "medSpeed    -0.11993174\n",
      "medTIms51    0.24457142\n",
      "medLcovD51  -0.34969644\n",
      "medLsd51    -0.39240571\n",
      "medLcov51    0.48676461\n",
      "medLrmslD51 -0.44855680\n",
      "medLsdD51    0.15618624\n"
     ]
    }
   ],
   "source": [
    "%%R -i tableRes\n",
    "tpca <- prcomp(tableRes[,5:15])\n",
    "#print(str(balance.pca))\n",
    "tpca"
   ]
  },
  {
   "cell_type": "markdown",
   "metadata": {
    "slideshow": {
     "slide_type": "slide"
    }
   },
   "source": [
    "### Plotting PCA\n",
    "https://cran.r-project.org/web/packages/ggfortify/vignettes/plot_pca.html\n",
    "\n",
    "[ggfortify](http://www.sthda.com/english/wiki/ggfortify-extension-to-ggplot2-to-handle-some-popular-packages-r-software-and-data-visualization)"
   ]
  },
  {
   "cell_type": "code",
   "execution_count": 7,
   "metadata": {},
   "outputs": [
    {
     "name": "stderr",
     "output_type": "stream",
     "text": [
      "R[write to console]: trying URL 'http://cran.us.r-project.org/src/contrib/ggfortify_0.4.11.tar.gz'\n",
      "\n",
      "R[write to console]: Content type 'application/x-gzip'\n",
      "R[write to console]:  length 1952401 bytes (1.9 MB)\n",
      "\n",
      "R[write to console]: =\n",
      "R[write to console]: =\n",
      "R[write to console]: =\n",
      "R[write to console]: =\n",
      "R[write to console]: =\n",
      "R[write to console]: =\n",
      "R[write to console]: =\n",
      "R[write to console]: =\n",
      "R[write to console]: =\n",
      "R[write to console]: =\n",
      "R[write to console]: =\n",
      "R[write to console]: =\n",
      "R[write to console]: =\n",
      "R[write to console]: =\n",
      "R[write to console]: =\n",
      "R[write to console]: =\n",
      "R[write to console]: =\n",
      "R[write to console]: =\n",
      "R[write to console]: =\n",
      "R[write to console]: =\n",
      "R[write to console]: =\n",
      "R[write to console]: =\n",
      "R[write to console]: =\n",
      "R[write to console]: =\n",
      "R[write to console]: =\n",
      "R[write to console]: =\n",
      "R[write to console]: =\n",
      "R[write to console]: =\n",
      "R[write to console]: =\n",
      "R[write to console]: =\n",
      "R[write to console]: =\n",
      "R[write to console]: =\n",
      "R[write to console]: =\n",
      "R[write to console]: =\n",
      "R[write to console]: =\n",
      "R[write to console]: =\n",
      "R[write to console]: =\n",
      "R[write to console]: =\n",
      "R[write to console]: =\n",
      "R[write to console]: =\n",
      "R[write to console]: =\n",
      "R[write to console]: =\n",
      "R[write to console]: =\n",
      "R[write to console]: =\n",
      "R[write to console]: =\n",
      "R[write to console]: =\n",
      "R[write to console]: =\n",
      "R[write to console]: =\n",
      "R[write to console]: =\n",
      "R[write to console]: =\n",
      "R[write to console]: \n",
      "\n",
      "R[write to console]: downloaded 1.9 MB\n",
      "\n",
      "\n",
      "R[write to console]: \n",
      "\n",
      "R[write to console]: \n",
      "R[write to console]: The downloaded source packages are in\n",
      "\t‘/tmp/RtmpdUzBJ5/downloaded_packages’\n",
      "R[write to console]: \n",
      "R[write to console]: \n",
      "\n",
      "R[write to console]: Updating HTML index of packages in '.Library'\n",
      "\n",
      "R[write to console]: Making 'packages.html' ...\n",
      "R[write to console]:  done\n",
      "\n"
     ]
    }
   ],
   "source": [
    "%%R\n",
    "install.packages(\"ggfortify\",repos = \"http://cran.us.r-project.org\")\n",
    "# Add this package to your docker file to have it permanently"
   ]
  },
  {
   "cell_type": "code",
   "execution_count": 8,
   "metadata": {
    "slideshow": {
     "slide_type": "slide"
    }
   },
   "outputs": [
    {
     "data": {
      "image/png": "[encoded data removed]"
     },
     "metadata": {},
     "output_type": "display_data"
    }
   ],
   "source": [
    "%%R\n",
    "library(ggfortify)\n",
    "\n",
    "autoplot(tpca)"
   ]
  },
  {
   "cell_type": "markdown",
   "metadata": {
    "slideshow": {
     "slide_type": "slide"
    }
   },
   "source": [
    "### Additional features"
   ]
  },
  {
   "cell_type": "code",
   "execution_count": 9,
   "metadata": {
    "slideshow": {
     "slide_type": "-"
    }
   },
   "outputs": [],
   "source": [
    "%%R \n",
    "tmp = as.data.table(tableRes)\n",
    "tmp[,old:=ifelse(Age < 61, 'Younger', 'Older')]\n",
    "fig <- autoplot(tpca, data = tmp, colour = 'old',loadings = TRUE, loadings.colour = 'blue',\n",
    "         loadings.label = TRUE, loadings.label.size = 5) +\n",
    "    theme_bw()"
   ]
  },
  {
   "cell_type": "code",
   "execution_count": 10,
   "metadata": {
    "slideshow": {
     "slide_type": "slide"
    }
   },
   "outputs": [
    {
     "data": {
      "image/png": "[encoded data removed]"
     },
     "metadata": {},
     "output_type": "display_data"
    }
   ],
   "source": [
    "%%R -w 800 -h 600 -u px\n",
    "fig"
   ]
  },
  {
   "cell_type": "markdown",
   "metadata": {
    "slideshow": {
     "slide_type": "slide"
    }
   },
   "source": [
    "### The step by step way"
   ]
  },
  {
   "cell_type": "code",
   "execution_count": 11,
   "metadata": {
    "slideshow": {
     "slide_type": "-"
    }
   },
   "outputs": [
    {
     "name": "stdout",
     "output_type": "stream",
     "text": [
      "     iSubj trial Age Decade     old       PCA1       PCA2\n",
      "  1:     1     1  76      7   Older -0.3940074  0.7063803\n",
      "  2:     1     2  76      7   Older -0.4690613 -0.3174284\n",
      "  3:     1     3  76      7   Older  3.3567930  0.2727497\n",
      "  4:     1     4  76      7   Older  3.5928590  0.5645955\n",
      "  5:     1     5  76      7   Older  2.5631942  0.9606240\n",
      " ---                                                     \n",
      "396:    40     6  58      5 Younger -3.1612037 -2.1700856\n",
      "397:    40     7  58      5 Younger -4.6910554 -2.4443562\n",
      "398:    40     8  58      5 Younger -3.9356359 -1.9407878\n",
      "399:    40     9  58      5 Younger -3.3001137 -2.3003477\n",
      "400:    40    10  58      5 Younger -2.3693058 -2.2456987\n"
     ]
    }
   ],
   "source": [
    "%%R  \n",
    "\n",
    "balancePcaPlot <- tmp[,.(iSubj,trial,Age,Decade,old)]\n",
    "balancePcaPlot[,PCA1:=tpca$x[,1]]\n",
    "balancePcaPlot[,PCA2:=tpca$x[,2]]"
   ]
  },
  {
   "cell_type": "markdown",
   "metadata": {
    "slideshow": {
     "slide_type": "slide"
    }
   },
   "source": [
    "### ggplot2"
   ]
  },
  {
   "cell_type": "code",
   "execution_count": 19,
   "metadata": {
    "slideshow": {
     "slide_type": "-"
    }
   },
   "outputs": [],
   "source": [
    "%%R \n",
    "bpp <- ggplot(balancePcaPlot,aes(PCA1,PCA2,group=old))\n",
    "bpp <- bpp + geom_point(aes(colour=old),size=3,alpha=0.5)+ \n",
    "        stat_ellipse(size=0.3)+\n",
    "        theme_bw()+\n",
    "    coord_fixed(ratio = 1)"
   ]
  },
  {
   "cell_type": "markdown",
   "metadata": {
    "slideshow": {
     "slide_type": "slide"
    }
   },
   "source": [
    "### The result"
   ]
  },
  {
   "cell_type": "code",
   "execution_count": 20,
   "metadata": {},
   "outputs": [
    {
     "data": {
      "image/png": "[encoded data removed]"
     },
     "metadata": {},
     "output_type": "display_data"
    }
   ],
   "source": [
    "%%R -w 800 -h 600 -u px\n",
    "bpp    # to add the biplot, look at ./data/figures.R "
   ]
  },
  {
   "cell_type": "markdown",
   "metadata": {
    "slideshow": {
     "slide_type": "slide"
    }
   },
   "source": [
    "### R variables to python"
   ]
  },
  {
   "cell_type": "code",
   "execution_count": 13,
   "metadata": {},
   "outputs": [
    {
     "name": "stdout",
     "output_type": "stream",
     "text": [
      "     iSubj trial Age Decade     old       PCA1       PCA2\n",
      "  1:     1     1  76      7   Older -0.3940074  0.7063803\n",
      "  2:     1     2  76      7   Older -0.4690613 -0.3174284\n",
      "  3:     1     3  76      7   Older  3.3567930  0.2727497\n",
      "  4:     1     4  76      7   Older  3.5928590  0.5645955\n",
      "  5:     1     5  76      7   Older  2.5631942  0.9606240\n",
      " ---                                                     \n",
      "396:    40     6  58      5 Younger -3.1612037 -2.1700856\n",
      "397:    40     7  58      5 Younger -4.6910554 -2.4443562\n",
      "398:    40     8  58      5 Younger -3.9356359 -1.9407878\n",
      "399:    40     9  58      5 Younger -3.3001137 -2.3003477\n",
      "400:    40    10  58      5 Younger -2.3693058 -2.2456987\n"
     ]
    }
   ],
   "source": [
    "%%R -o balancePcaPlot\n",
    "balancePcaPlot"
   ]
  },
  {
   "cell_type": "markdown",
   "metadata": {
    "slideshow": {
     "slide_type": "slide"
    }
   },
   "source": [
    "### Now you can use `balancePcaPlot` in python"
   ]
  },
  {
   "cell_type": "code",
   "execution_count": 14,
   "metadata": {},
   "outputs": [
    {
     "data": {
      "text/html": [
       "<div>\n",
       "<style scoped>\n",
       "    .dataframe tbody tr th:only-of-type {\n",
       "        vertical-align: middle;\n",
       "    }\n",
       "\n",
       "    .dataframe tbody tr th {\n",
       "        vertical-align: top;\n",
       "    }\n",
       "\n",
       "    .dataframe thead th {\n",
       "        text-align: right;\n",
       "    }\n",
       "</style>\n",
       "<table border=\"1\" class=\"dataframe\">\n",
       "  <thead>\n",
       "    <tr style=\"text-align: right;\">\n",
       "      <th></th>\n",
       "      <th>iSubj</th>\n",
       "      <th>trial</th>\n",
       "      <th>Age</th>\n",
       "      <th>Decade</th>\n",
       "      <th>old</th>\n",
       "      <th>PCA1</th>\n",
       "      <th>PCA2</th>\n",
       "    </tr>\n",
       "  </thead>\n",
       "  <tbody>\n",
       "    <tr>\n",
       "      <th>1</th>\n",
       "      <td>1</td>\n",
       "      <td>1</td>\n",
       "      <td>76</td>\n",
       "      <td>7</td>\n",
       "      <td>Older</td>\n",
       "      <td>-0.394007</td>\n",
       "      <td>0.706380</td>\n",
       "    </tr>\n",
       "    <tr>\n",
       "      <th>2</th>\n",
       "      <td>1</td>\n",
       "      <td>2</td>\n",
       "      <td>76</td>\n",
       "      <td>7</td>\n",
       "      <td>Older</td>\n",
       "      <td>-0.469061</td>\n",
       "      <td>-0.317428</td>\n",
       "    </tr>\n",
       "    <tr>\n",
       "      <th>3</th>\n",
       "      <td>1</td>\n",
       "      <td>3</td>\n",
       "      <td>76</td>\n",
       "      <td>7</td>\n",
       "      <td>Older</td>\n",
       "      <td>3.356793</td>\n",
       "      <td>0.272750</td>\n",
       "    </tr>\n",
       "    <tr>\n",
       "      <th>4</th>\n",
       "      <td>1</td>\n",
       "      <td>4</td>\n",
       "      <td>76</td>\n",
       "      <td>7</td>\n",
       "      <td>Older</td>\n",
       "      <td>3.592859</td>\n",
       "      <td>0.564595</td>\n",
       "    </tr>\n",
       "    <tr>\n",
       "      <th>5</th>\n",
       "      <td>1</td>\n",
       "      <td>5</td>\n",
       "      <td>76</td>\n",
       "      <td>7</td>\n",
       "      <td>Older</td>\n",
       "      <td>2.563194</td>\n",
       "      <td>0.960624</td>\n",
       "    </tr>\n",
       "    <tr>\n",
       "      <th>...</th>\n",
       "      <td>...</td>\n",
       "      <td>...</td>\n",
       "      <td>...</td>\n",
       "      <td>...</td>\n",
       "      <td>...</td>\n",
       "      <td>...</td>\n",
       "      <td>...</td>\n",
       "    </tr>\n",
       "    <tr>\n",
       "      <th>396</th>\n",
       "      <td>40</td>\n",
       "      <td>6</td>\n",
       "      <td>58</td>\n",
       "      <td>5</td>\n",
       "      <td>Younger</td>\n",
       "      <td>-3.161204</td>\n",
       "      <td>-2.170086</td>\n",
       "    </tr>\n",
       "    <tr>\n",
       "      <th>397</th>\n",
       "      <td>40</td>\n",
       "      <td>7</td>\n",
       "      <td>58</td>\n",
       "      <td>5</td>\n",
       "      <td>Younger</td>\n",
       "      <td>-4.691055</td>\n",
       "      <td>-2.444356</td>\n",
       "    </tr>\n",
       "    <tr>\n",
       "      <th>398</th>\n",
       "      <td>40</td>\n",
       "      <td>8</td>\n",
       "      <td>58</td>\n",
       "      <td>5</td>\n",
       "      <td>Younger</td>\n",
       "      <td>-3.935636</td>\n",
       "      <td>-1.940788</td>\n",
       "    </tr>\n",
       "    <tr>\n",
       "      <th>399</th>\n",
       "      <td>40</td>\n",
       "      <td>9</td>\n",
       "      <td>58</td>\n",
       "      <td>5</td>\n",
       "      <td>Younger</td>\n",
       "      <td>-3.300114</td>\n",
       "      <td>-2.300348</td>\n",
       "    </tr>\n",
       "    <tr>\n",
       "      <th>400</th>\n",
       "      <td>40</td>\n",
       "      <td>10</td>\n",
       "      <td>58</td>\n",
       "      <td>5</td>\n",
       "      <td>Younger</td>\n",
       "      <td>-2.369306</td>\n",
       "      <td>-2.245699</td>\n",
       "    </tr>\n",
       "  </tbody>\n",
       "</table>\n",
       "<p>400 rows × 7 columns</p>\n",
       "</div>"
      ],
      "text/plain": [
       "     iSubj  trial  Age  Decade      old      PCA1      PCA2\n",
       "1        1      1   76       7    Older -0.394007  0.706380\n",
       "2        1      2   76       7    Older -0.469061 -0.317428\n",
       "3        1      3   76       7    Older  3.356793  0.272750\n",
       "4        1      4   76       7    Older  3.592859  0.564595\n",
       "5        1      5   76       7    Older  2.563194  0.960624\n",
       "..     ...    ...  ...     ...      ...       ...       ...\n",
       "396     40      6   58       5  Younger -3.161204 -2.170086\n",
       "397     40      7   58       5  Younger -4.691055 -2.444356\n",
       "398     40      8   58       5  Younger -3.935636 -1.940788\n",
       "399     40      9   58       5  Younger -3.300114 -2.300348\n",
       "400     40     10   58       5  Younger -2.369306 -2.245699\n",
       "\n",
       "[400 rows x 7 columns]"
      ]
     },
     "execution_count": 14,
     "metadata": {},
     "output_type": "execute_result"
    }
   ],
   "source": [
    "balancePcaPlot"
   ]
  },
  {
   "cell_type": "code",
   "execution_count": 15,
   "metadata": {
    "slideshow": {
     "slide_type": "slide"
    }
   },
   "outputs": [],
   "source": [
    "import plotly.graph_objects as go"
   ]
  },
  {
   "cell_type": "code",
   "execution_count": 21,
   "metadata": {},
   "outputs": [
    {
     "data": {
      "application/vnd.plotly.v1+json": {
       "config": {
        "plotlyServerURL": "https://plot.ly"
       },
       "data": [
        {
         "marker": {
          "size": [
           14,
           14,
           14,
           14,
           14,
           14,
           14,
           14,
           14,
           14,
           14,
           14,
           14,
           14,
           14,
           14,
           14,
           14,
           14,
           14,
           12,
           12,
           12,
           12,
           12,
           12,
           12,
           12,
           12,
           12,
           12,
           12,
           12,
           12,
           12,
           12,
           12,
           12,
           12,
           12,
           14,
           14,
           14,
           14,
           14,
           14,
           14,
           14,
           14,
           14,
           14,
           14,
           14,
           14,
           14,
           14,
           14,
           14,
           14,
           14,
           14,
           14,
           14,
           14,
           14,
           14,
           14,
           14,
           14,
           14,
           12,
           12,
           12,
           12,
           12,
           12,
           12,
           12,
           12,
           12,
           14,
           14,
           14,
           14,
           14,
           14,
           14,
           14,
           14,
           14,
           14,
           14,
           14,
           14,
           14,
           14,
           14,
           14,
           14,
           14,
           14,
           14,
           14,
           14,
           14,
           14,
           14,
           14,
           14,
           14,
           14,
           14,
           14,
           14,
           14,
           14,
           14,
           14,
           14,
           14,
           14,
           14,
           14,
           14,
           14,
           14,
           14,
           14,
           14,
           14,
           14,
           14,
           14,
           14,
           14,
           14,
           14,
           14,
           14,
           14,
           12,
           12,
           12,
           12,
           12,
           12,
           12,
           12,
           12,
           12,
           14,
           14,
           14,
           14,
           14,
           14,
           14,
           14,
           14,
           14,
           12,
           12,
           12,
           12,
           12,
           12,
           12,
           12,
           12,
           12,
           14,
           14,
           14,
           14,
           14,
           14,
           14,
           14,
           14,
           14,
           12,
           12,
           12,
           12,
           12,
           12,
           12,
           12,
           12,
           12,
           14,
           14,
           14,
           14,
           14,
           14,
           14,
           14,
           14,
           14,
           4,
           4,
           4,
           4,
           4,
           4,
           4,
           4,
           4,
           4,
           4,
           4,
           4,
           4,
           4,
           4,
           4,
           4,
           4,
           4,
           12,
           12,
           12,
           12,
           12,
           12,
           12,
           12,
           12,
           12,
           10,
           10,
           10,
           10,
           10,
           10,
           10,
           10,
           10,
           10,
           4,
           4,
           4,
           4,
           4,
           4,
           4,
           4,
           4,
           4,
           4,
           4,
           4,
           4,
           4,
           4,
           4,
           4,
           4,
           4,
           4,
           4,
           4,
           4,
           4,
           4,
           4,
           4,
           4,
           4,
           4,
           4,
           4,
           4,
           4,
           4,
           4,
           4,
           4,
           4,
           10,
           10,
           10,
           10,
           10,
           10,
           10,
           10,
           10,
           10,
           4,
           4,
           4,
           4,
           4,
           4,
           4,
           4,
           4,
           4,
           4,
           4,
           4,
           4,
           4,
           4,
           4,
           4,
           4,
           4,
           10,
           10,
           10,
           10,
           10,
           10,
           10,
           10,
           10,
           10,
           10,
           10,
           10,
           10,
           10,
           10,
           10,
           10,
           10,
           10,
           4,
           4,
           4,
           4,
           4,
           4,
           4,
           4,
           4,
           4,
           4,
           4,
           4,
           4,
           4,
           4,
           4,
           4,
           4,
           4,
           10,
           10,
           10,
           10,
           10,
           10,
           10,
           10,
           10,
           10,
           8,
           8,
           8,
           8,
           8,
           8,
           8,
           8,
           8,
           8,
           10,
           10,
           10,
           10,
           10,
           10,
           10,
           10,
           10,
           10,
           6,
           6,
           6,
           6,
           6,
           6,
           6,
           6,
           6,
           6,
           10,
           10,
           10,
           10,
           10,
           10,
           10,
           10,
           10,
           10
          ]
         },
         "mode": "markers",
         "type": "scatter",
         "x": [
          -0.39400744493662043,
          -0.4690612790459403,
          3.356792990162573,
          3.5928590319232256,
          2.5631942071498486,
          3.39631975971632,
          -0.03583835265970018,
          -1.1540398572315773,
          -0.3706911292417549,
          -0.2666819276166766,
          -2.8027626043738385,
          -1.483431966944547,
          -2.313983528684982,
          -1.57618211186403,
          -1.4810918895964535,
          -0.22151487014068383,
          -2.705388599558853,
          -2.6282831555888793,
          -1.9821501066347151,
          -1.721121652227142,
          -3.788176954289962,
          -4.045760837986403,
          -3.5021960879497267,
          -3.1661078502874136,
          0.06863438819461724,
          -0.14800493780957968,
          -3.6887918736852634,
          -3.962090995688089,
          -2.467220504395657,
          -3.681542541623124,
          -4.310434494045156,
          -3.190540105071892,
          -2.030430022316844,
          -2.736219610188721,
          -1.1087738020390938,
          -1.4266621507520572,
          -4.411774253950857,
          -4.1160387480784655,
          -3.1288846816681004,
          -3.6669053416603004,
          -1.458709026910105,
          -3.1773782372663977,
          -3.8546292328313982,
          -2.9953734438118476,
          1.2601023378542264,
          3.4417606256677575,
          -2.718102398015222,
          -2.845290046639071,
          -1.5103787460996185,
          -1.4271825628087114,
          -1.0413454777219269,
          -0.5259980367218622,
          -1.1601618722791283,
          2.501316754932521,
          3.127276733027594,
          2.562207357202886,
          -2.2727869011903197,
          -2.147650518777609,
          -0.8469197231871569,
          -1.32471117915876,
          -0.22443724632617462,
          -0.5486151432323502,
          -0.579148427923731,
          -0.5360610037565435,
          1.4920064129422188,
          0.8120829705831102,
          1.3088597345618018,
          1.5629002190509962,
          0.2789887356649929,
          0.3464100552113837,
          -2.688075908114394,
          -2.5683602489638577,
          -2.6687939736733326,
          -2.4648301277476232,
          -0.28241720175406626,
          0.47837764605397226,
          -1.9063373366255958,
          -1.9594955349135015,
          -2.2797174969068266,
          -2.5721794959137747,
          -3.30140895343638,
          -0.5927328676844817,
          -0.7547896503445032,
          -0.5125145868392037,
          0.7033445428716661,
          -1.4200085547674024,
          -2.766484468958236,
          -3.295969326399344,
          -0.20593599071485721,
          0.020306441040736065,
          1.7817566106971596,
          1.464499575970468,
          0.33720955442790185,
          -0.32112274731953266,
          -0.9773917713155921,
          -0.2689356158016664,
          2.383641414278973,
          2.2384153999219194,
          0.4279731920566769,
          0.6264684167246705,
          -0.0965732130340223,
          4.097415580552829,
          1.5871461240650457,
          0.18552651359445346,
          4.894748090065565,
          5.108295668537049,
          -0.7990445337250295,
          -1.0793587223226422,
          -0.750711604262142,
          0.003612914114833445,
          -0.8219688218251296,
          -0.30700692486432096,
          0.19148082789163334,
          0.2900073486123779,
          2.589317103288524,
          2.931712817266575,
          -1.158839610691893,
          -0.2952609520297966,
          -0.7265262475251779,
          -1.423712885608687,
          -2.495980562967999,
          -0.057267432825731115,
          -0.4147420045287848,
          -0.8266701296512315,
          2.3162521187109593,
          0.9348476801009822,
          -0.553620996575435,
          -2.4427082483097093,
          -0.5200691594412324,
          -1.274494933092319,
          -1.958643899630793,
          -0.5407305023298087,
          0.10011156674888748,
          -0.5218674661577898,
          1.1619590911669357,
          -0.8594227709141492,
          1.6193793008928006,
          2.6445449954208606,
          -1.0286939811954803,
          -0.16405557957629427,
          -1.184613198263777,
          -1.993229334482128,
          -1.7305845227851164,
          -1.9034913270649891,
          0.22256608095702246,
          3.2651566268715864,
          -2.2351041830072225,
          -1.9003175713229101,
          -1.8728686427497236,
          -1.5608003546035412,
          -3.362415798280548,
          -1.5982621387955518,
          -3.3049852582760613,
          -1.2290770843469405,
          -1.0296250219317051,
          -0.9630916304468585,
          -4.858372524208938,
          -4.078834612788767,
          -2.068617866198234,
          -3.213676524312741,
          -2.7186891550719134,
          -1.20458537465019,
          -0.8905320674547484,
          1.2049478570368153,
          1.2813759354623584,
          0.8805992983775796,
          -2.1787834296891435,
          -1.6655515276669197,
          -1.0972434887648728,
          -1.9796502357267483,
          -0.01314208034908405,
          -0.02172458639701276,
          0.9685009673548366,
          0.05855988208530619,
          2.6249956768293097,
          0.8581645268746901,
          -1.6878891492943113,
          -2.409310632886324,
          0.7327091649193043,
          0.004471774455033023,
          -4.336304298894624,
          -4.442878021854954,
          -2.4483992357614097,
          -4.546848237974339,
          -1.5771022330362787,
          -1.690116635895099,
          -4.075541739821544,
          -5.411043948570989,
          -3.952469634126837,
          -4.226099738123287,
          3.2289972698933367,
          -0.3649457989952118,
          -0.08046271509087798,
          -0.002133740856184152,
          3.6395468143439653,
          3.933984072100554,
          -0.6732844927824038,
          2.4105494468080733,
          0.11383584464587362,
          0.2651426635288023,
          0.37663594370602393,
          0.20226828520232426,
          -0.128743623130223,
          -0.3852674189122594,
          1.9602676400188228,
          2.9738985182443494,
          0.23222015225075754,
          1.720987206278386,
          -0.3481731882771868,
          0.44844021820892704,
          -0.6655239445220623,
          0.4275756111840082,
          0.4557313334300007,
          0.26117558977313443,
          3.05634783239251,
          1.4099077057728748,
          -0.7862824556200113,
          -0.814249315855113,
          0.3043482260152685,
          0.7176497250144318,
          1.0919905733819786,
          0.7039181021921853,
          -0.11767875492845165,
          -0.33568581339870995,
          1.925652494129569,
          -0.4286919127476732,
          -1.223004933271917,
          1.0987960468181293,
          0.19717391057540548,
          -0.306488911462369,
          1.8953611343664432,
          1.9856286312597802,
          3.5301817976376566,
          3.8753120431630705,
          4.582329921930548,
          3.1400203675708434,
          -0.7934780772706117,
          0.28703191323782806,
          1.5910449550772545,
          2.430115451107788,
          0.7735292242474548,
          1.8043128325878741,
          1.978091484225101,
          2.5048123092937344,
          3.564240426067454,
          1.4350528707413874,
          2.6026489123958085,
          1.7793139228913026,
          -0.7067552564825755,
          1.3117776854499819,
          -0.7929286100172521,
          0.2560954451779031,
          -0.2070738545935286,
          -1.5543160963611655,
          -0.9185665396855792,
          1.7602171956808883,
          -0.6563063939184914,
          -1.7636896873612813,
          0.6745046397079094,
          0.13977868249169556,
          7.531877777661553,
          6.787649955027804,
          5.32831636903346,
          6.1731156115852475,
          6.845229546039728,
          8.213089877716014,
          -1.5902150968611017,
          -2.6610108136773385,
          4.139291319774158,
          0.9517735851025926,
          3.6724181837299446,
          2.5313819253321395,
          3.2585477382704426,
          1.8821018442494455,
          3.923519376948234,
          6.0337531823091535,
          -0.3787546027486085,
          3.881407843463223,
          0.8912934343303884,
          0.7763994508551504,
          0.6861951530499486,
          4.148222781283312,
          4.118157157236485,
          2.9580650937806525,
          5.560011191111494,
          6.117357286487811,
          0.366707801026107,
          5.118014934307141,
          2.9977989519394543,
          1.5949479298093248,
          -1.5748857050783374,
          0.82835772011137,
          -0.7612406114448473,
          0.5248344346143775,
          2.851308633941098,
          3.056257602399749,
          2.2560614465448148,
          1.7444205178146701,
          -2.294765234558381,
          -2.602712255171879,
          0.08593428276559523,
          -0.6471490749445249,
          -0.29781558335129366,
          -0.8589153611645812,
          3.457769197409253,
          2.0095402657838806,
          0.608147338200291,
          -0.05645552564961249,
          -1.5003806927830472,
          -0.31473385011641847,
          -1.6523556986794852,
          0.22000378274587293,
          3.140840110327054,
          3.4136793412539075,
          -0.3547852283914788,
          2.578640581421444,
          -2.9467002541507386,
          -0.6346732207269615,
          -1.4148138232307597,
          0.6044658889801051,
          2.7656013747789836,
          6.32958716492288,
          3.8136323499908578,
          3.679314323082629,
          5.835657157309937,
          6.419397562187324,
          1.895642356456015,
          3.767878178982317,
          1.3419878604782283,
          2.2005516281335256,
          1.0536888086169975,
          -0.5579169490288287,
          -1.1774668139379079,
          -1.2218521865612577,
          -0.9844491726477219,
          3.691697039845495,
          -1.990818349841923,
          -2.503877220444153,
          0.5196252969117238,
          -0.9510247277903788,
          -1.0633966718612569,
          -1.0091391497067244,
          -1.336734128389869,
          -1.4182945620429357,
          -0.10178047098249213,
          -0.2792288608180936,
          -2.1971925087088358,
          -1.8113016234830248,
          -1.3710212384474554,
          -0.7803940186779696,
          0.05796008628991778,
          1.8605069818531665,
          1.3080943705426045,
          2.91832739953493,
          4.286886198966439,
          4.314452581837415,
          0.11365388981527037,
          -1.332419973767121,
          3.6910725775106537,
          1.8553820856700136,
          0.18590473889951134,
          -1.746795667324898,
          -0.29202091837593097,
          0.34857715997096284,
          0.1661680424348848,
          0.5585654463759662,
          -0.2979360224074707,
          0.4207833795527734,
          -0.4294968916854896,
          -0.8089968857291568,
          0.9910435628354861,
          1.698708624531762,
          2.4795065538690935,
          0.7675028785533559,
          2.7865113133283157,
          2.079880276392315,
          -2.2143738766243337,
          -2.226595911645236,
          1.3072947342246475,
          1.3467848449010322,
          -1.7553523477269761,
          -1.8767095534747382,
          -1.4560480135384757,
          -1.1062330294098,
          -0.16606405335595484,
          0.7901822181609985,
          -3.6188939810367886,
          -1.2883173540324455,
          -1.655284955932792,
          -1.4150337303198395,
          -2.6388834573569517,
          -4.205324308772755,
          -4.137578471481424,
          -3.455163755705659,
          -3.567639035563659,
          -3.1612037373149673,
          -4.691055420506707,
          -3.935635918777405,
          -3.3001137448507762,
          -2.3693057858797806
         ],
         "y": [
          0.7063802601294247,
          -0.3174283850763912,
          0.27274966282819646,
          0.5645954973449531,
          0.9606240379893798,
          0.4006486808949438,
          -1.2688276347114746,
          -1.6342572681514391,
          -1.1443652075874309,
          -0.7877008733121788,
          4.0471682975593275,
          1.6707849526364806,
          4.529523862565315,
          2.257835415441383,
          5.299123268662783,
          3.162600249447867,
          -0.24219746138697817,
          -0.8940573178015573,
          -0.739926907699414,
          2.9099618585804947,
          2.797428484462139,
          1.7709555055532213,
          1.508953376333167,
          1.2421112218519883,
          4.359466347531106,
          5.2073205746117,
          -1.0469942524209968,
          -0.16820342783916695,
          1.4343065184665136,
          0.9575431773673051,
          2.518218319857452,
          3.607019429993253,
          2.795470554262712,
          3.7002315152861263,
          3.291731907177136,
          3.364821459363992,
          0.09974355606374455,
          -0.46574278557262305,
          2.7614426391024005,
          2.816448059415046,
          0.39537108870042686,
          -0.5199612239321479,
          0.056263772021374274,
          0.051041157413300446,
          -0.1714408010063324,
          1.5460103797164713,
          -0.7029485383574311,
          -1.126646515709714,
          -1.2379142774399363,
          -1.0155301495379983,
          0.3166996191948636,
          1.964502728953605,
          2.1541005202588024,
          3.09466450224559,
          3.5212154589346985,
          4.551383284103847,
          -0.9678136635384379,
          -0.5337922547849552,
          -0.6729725016734156,
          0.001330465911275266,
          2.187091084802092,
          2.3842447204048907,
          3.132855214230567,
          2.743494827926516,
          2.2621660889175748,
          2.410729116605065,
          -0.5144448542499956,
          -1.3288029037405156,
          1.3455166153893494,
          0.9456254743821357,
          0.11239049513630842,
          -0.02592794333689903,
          0.0008833094471971141,
          -0.3408565884630528,
          1.722796665989579,
          0.4312894657517065,
          -0.7421622746730662,
          -1.253633099755117,
          -0.6645149139988082,
          -1.1743785615385347,
          1.9399365095347403,
          0.2400961507817683,
          0.2894127774650417,
          0.32344195963412936,
          0.6885233564170372,
          2.4816783394056143,
          -0.9697081976335227,
          -1.532523166064224,
          1.0545140617311677,
          -0.37202423509462956,
          1.9181702721595546,
          2.745108018461771,
          4.750399363386847,
          3.528491269614194,
          4.855589316071048,
          5.545168540249109,
          0.30274488434109903,
          0.5335032007483003,
          3.3873547074896107,
          3.472674750163274,
          -0.2953179443654231,
          1.0568910010664865,
          0.5189415047159428,
          0.24899983739407067,
          0.8551236418672733,
          1.0285235155524504,
          -1.2496376135019152,
          -1.5892926851292382,
          -1.1526693339794696,
          -1.1290555254103005,
          2.0277190970664782,
          1.6592267282389441,
          3.1120418946160173,
          2.262958517260104,
          1.13223563149929,
          2.2617757280037583,
          -0.28498653338929153,
          0.036207425213652,
          1.2187925740530443,
          1.5499337600248269,
          1.8390200770061398,
          2.361114168365677,
          2.565237416616631,
          2.038331746784526,
          1.6000130954550602,
          2.171753284391761,
          0.583598456952734,
          -0.43693928585326086,
          2.6133327100492543,
          1.6268241495893405,
          2.431307773216514,
          2.2710832595877903,
          1.9417089304349766,
          1.4324459137964352,
          2.9618901187308047,
          1.5627025031928903,
          0.706062273919633,
          1.175719060182896,
          -0.010345193299220711,
          0.5304551074248172,
          0.1911720169220266,
          0.6937574224012368,
          0.3128954068513565,
          -0.2985710191926537,
          0.6460089500204321,
          2.1212869501978235,
          -1.7076580810505602,
          -1.4434899192257522,
          -0.4635924805377079,
          -0.12446319149481705,
          0.6748286074422563,
          1.8204484534815422,
          -0.006181737665523186,
          1.3013028382586365,
          1.0530069895893026,
          1.2335161071814906,
          0.8739439325155257,
          -0.2141216357794569,
          0.8965752236347454,
          0.4762691118114678,
          3.1953962452596905,
          1.6548729238973123,
          1.667267029647193,
          1.669131073078699,
          1.0034824831455558,
          0.9359767816737712,
          -0.5132466583037099,
          -0.6606643218358671,
          0.4931551097930599,
          0.5444447490331007,
          2.659837323833,
          1.8731223232760246,
          2.5559265114884013,
          1.9654751332431508,
          3.0750888408999177,
          3.9981909485204055,
          -0.7148230422308639,
          -0.9496259278894165,
          1.4607123060939822,
          4.024688258032956,
          0.8252992391791182,
          0.39773442500825057,
          0.4968344027538255,
          0.4020544352623857,
          0.0743659321447796,
          -0.08762082960226612,
          0.33041242898120066,
          -0.5848487997201456,
          -0.6073262778768564,
          -0.1866870292633413,
          -0.2823448806729394,
          -0.31835898437016574,
          -0.2548662677832438,
          -0.8256848649460824,
          0.07515798184721956,
          0.6061010626677211,
          -1.9447138419450078,
          -1.0537259777260826,
          -1.0662812177986571,
          -0.4940034365255071,
          -2.670788463974686,
          -3.039796540167932,
          -2.5665847860116955,
          -2.311709880429927,
          -2.029309306124474,
          -2.231105379566077,
          -3.2320354976478396,
          -3.6948720147233813,
          -2.390483067147602,
          -2.963107562169722,
          0.4430115597849484,
          0.6050236953816469,
          0.9497226449410987,
          1.1434249399943148,
          1.133512664872743,
          1.5230535651912394,
          0.7278144218798226,
          0.09939463727168076,
          1.0766599624077418,
          0.665904743173456,
          -0.7506453994290004,
          -0.34255689038259707,
          0.4421340217758076,
          0.5776626760721082,
          0.8427255114725654,
          0.5503936547450012,
          -0.9279241522176727,
          0.029082973720913383,
          0.18071266200912936,
          0.24003159516770495,
          0.3978203779598162,
          0.695107889502464,
          1.6697364733162645,
          1.7483514713166464,
          1.1899323581418948,
          2.915850344167462,
          -0.5911366652874958,
          -0.49403688014080244,
          0.5731851010864355,
          -0.5046805016062667,
          0.6830895306145907,
          0.28653425114865677,
          0.4170450136753593,
          -0.36082113381665165,
          -0.7639986593653577,
          -1.8117159078004668,
          -0.9548028141512777,
          -1.5744079146841692,
          -1.8187777325152104,
          -1.005581473429233,
          -2.0856191431034556,
          -2.2989272792992046,
          -2.0692616112802877,
          -1.643887455411827,
          -1.2892203236671522,
          -1.7033062319120287,
          -2.8975572299993155,
          -2.591378739739017,
          -2.6283867753246337,
          -2.6914533160158594,
          -1.2923109042272467,
          -0.4719807866265092,
          -0.13391621967313555,
          -0.20729160785043596,
          -0.23835329424816867,
          -0.9056531404285917,
          -1.1205226146502536,
          -1.3035498480958583,
          -0.6412469096623229,
          -1.3942216117972093,
          -0.9576224357009636,
          -0.5196057186652634,
          -0.9102927403498244,
          -0.3855459788850462,
          -0.4036123846060712,
          -0.012750897563731435,
          -1.7595546875754868,
          -0.5751532026932713,
          -1.0599105039270842,
          -0.5119734353347893,
          0.17917784928669123,
          -0.4859956472978756,
          0.26018553597472743,
          1.2451480083561932,
          -0.6688235476129973,
          -0.6685161492371015,
          -1.47735798185757,
          -1.4445444514569854,
          1.0519539680909995,
          -0.2171545322058588,
          -2.097294020627136,
          -1.0443765769995301,
          -1.6980893255641063,
          -1.4783325831677099,
          -1.0284948101867692,
          -1.1977922272729966,
          -0.27854976598724,
          -1.5151649775960052,
          -1.1757894063457648,
          -1.2865170837457587,
          -0.7305328349114184,
          -1.3334364570307642,
          -1.4742047693694427,
          -0.9375159513218119,
          -1.030454814203068,
          -0.8815530370644727,
          -1.5492280610562956,
          -1.4350297674020818,
          -1.2743370426735958,
          -1.3113258793331497,
          -1.3647370030767756,
          -1.4782246792973457,
          -1.0395924342533434,
          -1.1845963533248665,
          -2.241357272816676,
          -1.4461094507352372,
          -1.5624572896710827,
          -2.2603312496833383,
          -1.586323187128861,
          -1.993747909593639,
          -0.6694582202426322,
          0.5883416294405894,
          0.39560205013709115,
          -0.3450622019255199,
          -0.25172422246453247,
          -0.20653901178707398,
          -0.9893563256670446,
          -0.29835850918985574,
          -1.7018754544043777,
          -1.4174877933687136,
          -1.2609476310659677,
          -1.782901670707657,
          -2.1862716793300234,
          -1.9392013148013443,
          -2.1959355990641547,
          0.010200854592127918,
          -1.6150493687387364,
          -1.6791211634502128,
          -1.5652804950500825,
          -2.286618558271691,
          0.7487954983339752,
          0.17842308200937668,
          0.026611592026065164,
          1.0105800495550685,
          0.11733873095435371,
          0.045119389466945554,
          -0.2405187056887381,
          -0.33512559512792817,
          0.04820927870636901,
          -0.32314101991091865,
          -2.022921330823206,
          -1.2786956992954859,
          -1.028432057583238,
          -0.8572612450675242,
          -0.6310612237192476,
          -0.8162405389727307,
          -2.4057371373578516,
          -3.08067999025852,
          -0.9712297138977183,
          -1.288229892372809,
          -2.4211595582942187,
          -1.0734714842361135,
          -1.6646105408807816,
          -1.1936805276113889,
          -1.7835672052135731,
          -1.5663669016056894,
          -2.3818767310475164,
          -2.4582031696533617,
          -2.2851683510192653,
          -2.3549394529310215,
          -1.3392811031651173,
          -1.3279129942723966,
          -1.239042649280625,
          -1.275252626439028,
          -1.3343163914345673,
          -1.1772176133272962,
          -1.2042595470931945,
          -0.6283827215299976,
          -1.6585021152206163,
          -1.740662634662296,
          -1.2942759745197907,
          -1.07207487563754,
          -1.1601629936071862,
          -1.5056099748393916,
          -1.3289561089601722,
          -1.783994218063973,
          -2.3085470882787433,
          -2.2341568668808676,
          -1.8733383859383177,
          -2.2379649605222225,
          -1.2002860997923654,
          -1.911451728670375,
          -1.7616829482845189,
          -1.836588074018935,
          -2.2476185097653545,
          -2.170085617705966,
          -2.444356226852359,
          -1.9407877854477975,
          -2.300347653385568,
          -2.2456986575715376
         ]
        }
       ],
       "layout": {
        "template": {
         "data": {
          "bar": [
           {
            "error_x": {
             "color": "#2a3f5f"
            },
            "error_y": {
             "color": "#2a3f5f"
            },
            "marker": {
             "line": {
              "color": "#E5ECF6",
              "width": 0.5
             }
            },
            "type": "bar"
           }
          ],
          "barpolar": [
           {
            "marker": {
             "line": {
              "color": "#E5ECF6",
              "width": 0.5
             }
            },
            "type": "barpolar"
           }
          ],
          "carpet": [
           {
            "aaxis": {
             "endlinecolor": "#2a3f5f",
             "gridcolor": "white",
             "linecolor": "white",
             "minorgridcolor": "white",
             "startlinecolor": "#2a3f5f"
            },
            "baxis": {
             "endlinecolor": "#2a3f5f",
             "gridcolor": "white",
             "linecolor": "white",
             "minorgridcolor": "white",
             "startlinecolor": "#2a3f5f"
            },
            "type": "carpet"
           }
          ],
          "choropleth": [
           {
            "colorbar": {
             "outlinewidth": 0,
             "ticks": ""
            },
            "type": "choropleth"
           }
          ],
          "contour": [
           {
            "colorbar": {
             "outlinewidth": 0,
             "ticks": ""
            },
            "colorscale": [
             [
              0,
              "#0d0887"
             ],
             [
              0.1111111111111111,
              "#46039f"
             ],
             [
              0.2222222222222222,
              "#7201a8"
             ],
             [
              0.3333333333333333,
              "#9c179e"
             ],
             [
              0.4444444444444444,
              "#bd3786"
             ],
             [
              0.5555555555555556,
              "#d8576b"
             ],
             [
              0.6666666666666666,
              "#ed7953"
             ],
             [
              0.7777777777777778,
              "#fb9f3a"
             ],
             [
              0.8888888888888888,
              "#fdca26"
             ],
             [
              1,
              "#f0f921"
             ]
            ],
            "type": "contour"
           }
          ],
          "contourcarpet": [
           {
            "colorbar": {
             "outlinewidth": 0,
             "ticks": ""
            },
            "type": "contourcarpet"
           }
          ],
          "heatmap": [
           {
            "colorbar": {
             "outlinewidth": 0,
             "ticks": ""
            },
            "colorscale": [
             [
              0,
              "#0d0887"
             ],
             [
              0.1111111111111111,
              "#46039f"
             ],
             [
              0.2222222222222222,
              "#7201a8"
             ],
             [
              0.3333333333333333,
              "#9c179e"
             ],
             [
              0.4444444444444444,
              "#bd3786"
             ],
             [
              0.5555555555555556,
              "#d8576b"
             ],
             [
              0.6666666666666666,
              "#ed7953"
             ],
             [
              0.7777777777777778,
              "#fb9f3a"
             ],
             [
              0.8888888888888888,
              "#fdca26"
             ],
             [
              1,
              "#f0f921"
             ]
            ],
            "type": "heatmap"
           }
          ],
          "heatmapgl": [
           {
            "colorbar": {
             "outlinewidth": 0,
             "ticks": ""
            },
            "colorscale": [
             [
              0,
              "#0d0887"
             ],
             [
              0.1111111111111111,
              "#46039f"
             ],
             [
              0.2222222222222222,
              "#7201a8"
             ],
             [
              0.3333333333333333,
              "#9c179e"
             ],
             [
              0.4444444444444444,
              "#bd3786"
             ],
             [
              0.5555555555555556,
              "#d8576b"
             ],
             [
              0.6666666666666666,
              "#ed7953"
             ],
             [
              0.7777777777777778,
              "#fb9f3a"
             ],
             [
              0.8888888888888888,
              "#fdca26"
             ],
             [
              1,
              "#f0f921"
             ]
            ],
            "type": "heatmapgl"
           }
          ],
          "histogram": [
           {
            "marker": {
             "colorbar": {
              "outlinewidth": 0,
              "ticks": ""
             }
            },
            "type": "histogram"
           }
          ],
          "histogram2d": [
           {
            "colorbar": {
             "outlinewidth": 0,
             "ticks": ""
            },
            "colorscale": [
             [
              0,
              "#0d0887"
             ],
             [
              0.1111111111111111,
              "#46039f"
             ],
             [
              0.2222222222222222,
              "#7201a8"
             ],
             [
              0.3333333333333333,
              "#9c179e"
             ],
             [
              0.4444444444444444,
              "#bd3786"
             ],
             [
              0.5555555555555556,
              "#d8576b"
             ],
             [
              0.6666666666666666,
              "#ed7953"
             ],
             [
              0.7777777777777778,
              "#fb9f3a"
             ],
             [
              0.8888888888888888,
              "#fdca26"
             ],
             [
              1,
              "#f0f921"
             ]
            ],
            "type": "histogram2d"
           }
          ],
          "histogram2dcontour": [
           {
            "colorbar": {
             "outlinewidth": 0,
             "ticks": ""
            },
            "colorscale": [
             [
              0,
              "#0d0887"
             ],
             [
              0.1111111111111111,
              "#46039f"
             ],
             [
              0.2222222222222222,
              "#7201a8"
             ],
             [
              0.3333333333333333,
              "#9c179e"
             ],
             [
              0.4444444444444444,
              "#bd3786"
             ],
             [
              0.5555555555555556,
              "#d8576b"
             ],
             [
              0.6666666666666666,
              "#ed7953"
             ],
             [
              0.7777777777777778,
              "#fb9f3a"
             ],
             [
              0.8888888888888888,
              "#fdca26"
             ],
             [
              1,
              "#f0f921"
             ]
            ],
            "type": "histogram2dcontour"
           }
          ],
          "mesh3d": [
           {
            "colorbar": {
             "outlinewidth": 0,
             "ticks": ""
            },
            "type": "mesh3d"
           }
          ],
          "parcoords": [
           {
            "line": {
             "colorbar": {
              "outlinewidth": 0,
              "ticks": ""
             }
            },
            "type": "parcoords"
           }
          ],
          "pie": [
           {
            "automargin": true,
            "type": "pie"
           }
          ],
          "scatter": [
           {
            "marker": {
             "colorbar": {
              "outlinewidth": 0,
              "ticks": ""
             }
            },
            "type": "scatter"
           }
          ],
          "scatter3d": [
           {
            "line": {
             "colorbar": {
              "outlinewidth": 0,
              "ticks": ""
             }
            },
            "marker": {
             "colorbar": {
              "outlinewidth": 0,
              "ticks": ""
             }
            },
            "type": "scatter3d"
           }
          ],
          "scattercarpet": [
           {
            "marker": {
             "colorbar": {
              "outlinewidth": 0,
              "ticks": ""
             }
            },
            "type": "scattercarpet"
           }
          ],
          "scattergeo": [
           {
            "marker": {
             "colorbar": {
              "outlinewidth": 0,
              "ticks": ""
             }
            },
            "type": "scattergeo"
           }
          ],
          "scattergl": [
           {
            "marker": {
             "colorbar": {
              "outlinewidth": 0,
              "ticks": ""
             }
            },
            "type": "scattergl"
           }
          ],
          "scattermapbox": [
           {
            "marker": {
             "colorbar": {
              "outlinewidth": 0,
              "ticks": ""
             }
            },
            "type": "scattermapbox"
           }
          ],
          "scatterpolar": [
           {
            "marker": {
             "colorbar": {
              "outlinewidth": 0,
              "ticks": ""
             }
            },
            "type": "scatterpolar"
           }
          ],
          "scatterpolargl": [
           {
            "marker": {
             "colorbar": {
              "outlinewidth": 0,
              "ticks": ""
             }
            },
            "type": "scatterpolargl"
           }
          ],
          "scatterternary": [
           {
            "marker": {
             "colorbar": {
              "outlinewidth": 0,
              "ticks": ""
             }
            },
            "type": "scatterternary"
           }
          ],
          "surface": [
           {
            "colorbar": {
             "outlinewidth": 0,
             "ticks": ""
            },
            "colorscale": [
             [
              0,
              "#0d0887"
             ],
             [
              0.1111111111111111,
              "#46039f"
             ],
             [
              0.2222222222222222,
              "#7201a8"
             ],
             [
              0.3333333333333333,
              "#9c179e"
             ],
             [
              0.4444444444444444,
              "#bd3786"
             ],
             [
              0.5555555555555556,
              "#d8576b"
             ],
             [
              0.6666666666666666,
              "#ed7953"
             ],
             [
              0.7777777777777778,
              "#fb9f3a"
             ],
             [
              0.8888888888888888,
              "#fdca26"
             ],
             [
              1,
              "#f0f921"
             ]
            ],
            "type": "surface"
           }
          ],
          "table": [
           {
            "cells": {
             "fill": {
              "color": "#EBF0F8"
             },
             "line": {
              "color": "white"
             }
            },
            "header": {
             "fill": {
              "color": "#C8D4E3"
             },
             "line": {
              "color": "white"
             }
            },
            "type": "table"
           }
          ]
         },
         "layout": {
          "annotationdefaults": {
           "arrowcolor": "#2a3f5f",
           "arrowhead": 0,
           "arrowwidth": 1
          },
          "coloraxis": {
           "colorbar": {
            "outlinewidth": 0,
            "ticks": ""
           }
          },
          "colorscale": {
           "diverging": [
            [
             0,
             "#8e0152"
            ],
            [
             0.1,
             "#c51b7d"
            ],
            [
             0.2,
             "#de77ae"
            ],
            [
             0.3,
             "#f1b6da"
            ],
            [
             0.4,
             "#fde0ef"
            ],
            [
             0.5,
             "#f7f7f7"
            ],
            [
             0.6,
             "#e6f5d0"
            ],
            [
             0.7,
             "#b8e186"
            ],
            [
             0.8,
             "#7fbc41"
            ],
            [
             0.9,
             "#4d9221"
            ],
            [
             1,
             "#276419"
            ]
           ],
           "sequential": [
            [
             0,
             "#0d0887"
            ],
            [
             0.1111111111111111,
             "#46039f"
            ],
            [
             0.2222222222222222,
             "#7201a8"
            ],
            [
             0.3333333333333333,
             "#9c179e"
            ],
            [
             0.4444444444444444,
             "#bd3786"
            ],
            [
             0.5555555555555556,
             "#d8576b"
            ],
            [
             0.6666666666666666,
             "#ed7953"
            ],
            [
             0.7777777777777778,
             "#fb9f3a"
            ],
            [
             0.8888888888888888,
             "#fdca26"
            ],
            [
             1,
             "#f0f921"
            ]
           ],
           "sequentialminus": [
            [
             0,
             "#0d0887"
            ],
            [
             0.1111111111111111,
             "#46039f"
            ],
            [
             0.2222222222222222,
             "#7201a8"
            ],
            [
             0.3333333333333333,
             "#9c179e"
            ],
            [
             0.4444444444444444,
             "#bd3786"
            ],
            [
             0.5555555555555556,
             "#d8576b"
            ],
            [
             0.6666666666666666,
             "#ed7953"
            ],
            [
             0.7777777777777778,
             "#fb9f3a"
            ],
            [
             0.8888888888888888,
             "#fdca26"
            ],
            [
             1,
             "#f0f921"
            ]
           ]
          },
          "colorway": [
           "#636efa",
           "#EF553B",
           "#00cc96",
           "#ab63fa",
           "#FFA15A",
           "#19d3f3",
           "#FF6692",
           "#B6E880",
           "#FF97FF",
           "#FECB52"
          ],
          "font": {
           "color": "#2a3f5f"
          },
          "geo": {
           "bgcolor": "white",
           "lakecolor": "white",
           "landcolor": "#E5ECF6",
           "showlakes": true,
           "showland": true,
           "subunitcolor": "white"
          },
          "hoverlabel": {
           "align": "left"
          },
          "hovermode": "closest",
          "mapbox": {
           "style": "light"
          },
          "paper_bgcolor": "white",
          "plot_bgcolor": "#E5ECF6",
          "polar": {
           "angularaxis": {
            "gridcolor": "white",
            "linecolor": "white",
            "ticks": ""
           },
           "bgcolor": "#E5ECF6",
           "radialaxis": {
            "gridcolor": "white",
            "linecolor": "white",
            "ticks": ""
           }
          },
          "scene": {
           "xaxis": {
            "backgroundcolor": "#E5ECF6",
            "gridcolor": "white",
            "gridwidth": 2,
            "linecolor": "white",
            "showbackground": true,
            "ticks": "",
            "zerolinecolor": "white"
           },
           "yaxis": {
            "backgroundcolor": "#E5ECF6",
            "gridcolor": "white",
            "gridwidth": 2,
            "linecolor": "white",
            "showbackground": true,
            "ticks": "",
            "zerolinecolor": "white"
           },
           "zaxis": {
            "backgroundcolor": "#E5ECF6",
            "gridcolor": "white",
            "gridwidth": 2,
            "linecolor": "white",
            "showbackground": true,
            "ticks": "",
            "zerolinecolor": "white"
           }
          },
          "shapedefaults": {
           "line": {
            "color": "#2a3f5f"
           }
          },
          "ternary": {
           "aaxis": {
            "gridcolor": "white",
            "linecolor": "white",
            "ticks": ""
           },
           "baxis": {
            "gridcolor": "white",
            "linecolor": "white",
            "ticks": ""
           },
           "bgcolor": "#E5ECF6",
           "caxis": {
            "gridcolor": "white",
            "linecolor": "white",
            "ticks": ""
           }
          },
          "title": {
           "x": 0.05
          },
          "xaxis": {
           "automargin": true,
           "gridcolor": "white",
           "linecolor": "white",
           "ticks": "",
           "title": {
            "standoff": 15
           },
           "zerolinecolor": "white",
           "zerolinewidth": 2
          },
          "yaxis": {
           "automargin": true,
           "gridcolor": "white",
           "linecolor": "white",
           "ticks": "",
           "title": {
            "standoff": 15
           },
           "zerolinecolor": "white",
           "zerolinewidth": 2
          }
         }
        }
       }
      },
      "text/html": [
       "<div>\n",
       "        \n",
       "        \n",
       "            <div id=\"50e5f2fb-d955-4257-b4a8-c79de9b54ab4\" class=\"plotly-graph-div\" style=\"height:525px; width:100%;\"></div>\n",
       "            <script type=\"text/javascript\">\n",
       "                require([\"plotly\"], function(Plotly) {\n",
       "                    window.PLOTLYENV=window.PLOTLYENV || {};\n",
       "                    \n",
       "                if (document.getElementById(\"50e5f2fb-d955-4257-b4a8-c79de9b54ab4\")) {\n",
       "                    Plotly.newPlot(\n",
       "                        '50e5f2fb-d955-4257-b4a8-c79de9b54ab4',\n",
       "                        [{\"marker\": {\"size\": [14, 14, 14, 14, 14, 14, 14, 14, 14, 14, 14, 14, 14, 14, 14, 14, 14, 14, 14, 14, 12, 12, 12, 12, 12, 12, 12, 12, 12, 12, 12, 12, 12, 12, 12, 12, 12, 12, 12, 12, 14, 14, 14, 14, 14, 14, 14, 14, 14, 14, 14, 14, 14, 14, 14, 14, 14, 14, 14, 14, 14, 14, 14, 14, 14, 14, 14, 14, 14, 14, 12, 12, 12, 12, 12, 12, 12, 12, 12, 12, 14, 14, 14, 14, 14, 14, 14, 14, 14, 14, 14, 14, 14, 14, 14, 14, 14, 14, 14, 14, 14, 14, 14, 14, 14, 14, 14, 14, 14, 14, 14, 14, 14, 14, 14, 14, 14, 14, 14, 14, 14, 14, 14, 14, 14, 14, 14, 14, 14, 14, 14, 14, 14, 14, 14, 14, 14, 14, 14, 14, 12, 12, 12, 12, 12, 12, 12, 12, 12, 12, 14, 14, 14, 14, 14, 14, 14, 14, 14, 14, 12, 12, 12, 12, 12, 12, 12, 12, 12, 12, 14, 14, 14, 14, 14, 14, 14, 14, 14, 14, 12, 12, 12, 12, 12, 12, 12, 12, 12, 12, 14, 14, 14, 14, 14, 14, 14, 14, 14, 14, 4, 4, 4, 4, 4, 4, 4, 4, 4, 4, 4, 4, 4, 4, 4, 4, 4, 4, 4, 4, 12, 12, 12, 12, 12, 12, 12, 12, 12, 12, 10, 10, 10, 10, 10, 10, 10, 10, 10, 10, 4, 4, 4, 4, 4, 4, 4, 4, 4, 4, 4, 4, 4, 4, 4, 4, 4, 4, 4, 4, 4, 4, 4, 4, 4, 4, 4, 4, 4, 4, 4, 4, 4, 4, 4, 4, 4, 4, 4, 4, 10, 10, 10, 10, 10, 10, 10, 10, 10, 10, 4, 4, 4, 4, 4, 4, 4, 4, 4, 4, 4, 4, 4, 4, 4, 4, 4, 4, 4, 4, 10, 10, 10, 10, 10, 10, 10, 10, 10, 10, 10, 10, 10, 10, 10, 10, 10, 10, 10, 10, 4, 4, 4, 4, 4, 4, 4, 4, 4, 4, 4, 4, 4, 4, 4, 4, 4, 4, 4, 4, 10, 10, 10, 10, 10, 10, 10, 10, 10, 10, 8, 8, 8, 8, 8, 8, 8, 8, 8, 8, 10, 10, 10, 10, 10, 10, 10, 10, 10, 10, 6, 6, 6, 6, 6, 6, 6, 6, 6, 6, 10, 10, 10, 10, 10, 10, 10, 10, 10, 10]}, \"mode\": \"markers\", \"type\": \"scatter\", \"x\": [-0.39400744493662043, -0.4690612790459403, 3.356792990162573, 3.5928590319232256, 2.5631942071498486, 3.39631975971632, -0.03583835265970018, -1.1540398572315773, -0.3706911292417549, -0.2666819276166766, -2.8027626043738385, -1.483431966944547, -2.313983528684982, -1.57618211186403, -1.4810918895964535, -0.22151487014068383, -2.705388599558853, -2.6282831555888793, -1.9821501066347151, -1.721121652227142, -3.788176954289962, -4.045760837986403, -3.5021960879497267, -3.1661078502874136, 0.06863438819461724, -0.14800493780957968, -3.6887918736852634, -3.962090995688089, -2.467220504395657, -3.681542541623124, -4.310434494045156, -3.190540105071892, -2.030430022316844, -2.736219610188721, -1.1087738020390938, -1.4266621507520572, -4.411774253950857, -4.1160387480784655, -3.1288846816681004, -3.6669053416603004, -1.458709026910105, -3.1773782372663977, -3.8546292328313982, -2.9953734438118476, 1.2601023378542264, 3.4417606256677575, -2.718102398015222, -2.845290046639071, -1.5103787460996185, -1.4271825628087114, -1.0413454777219269, -0.5259980367218622, -1.1601618722791283, 2.501316754932521, 3.127276733027594, 2.562207357202886, -2.2727869011903197, -2.147650518777609, -0.8469197231871569, -1.32471117915876, -0.22443724632617462, -0.5486151432323502, -0.579148427923731, -0.5360610037565435, 1.4920064129422188, 0.8120829705831102, 1.3088597345618018, 1.5629002190509962, 0.2789887356649929, 0.3464100552113837, -2.688075908114394, -2.5683602489638577, -2.6687939736733326, -2.4648301277476232, -0.28241720175406626, 0.47837764605397226, -1.9063373366255958, -1.9594955349135015, -2.2797174969068266, -2.5721794959137747, -3.30140895343638, -0.5927328676844817, -0.7547896503445032, -0.5125145868392037, 0.7033445428716661, -1.4200085547674024, -2.766484468958236, -3.295969326399344, -0.20593599071485721, 0.020306441040736065, 1.7817566106971596, 1.464499575970468, 0.33720955442790185, -0.32112274731953266, -0.9773917713155921, -0.2689356158016664, 2.383641414278973, 2.2384153999219194, 0.4279731920566769, 0.6264684167246705, -0.0965732130340223, 4.097415580552829, 1.5871461240650457, 0.18552651359445346, 4.894748090065565, 5.108295668537049, -0.7990445337250295, -1.0793587223226422, -0.750711604262142, 0.003612914114833445, -0.8219688218251296, -0.30700692486432096, 0.19148082789163334, 0.2900073486123779, 2.589317103288524, 2.931712817266575, -1.158839610691893, -0.2952609520297966, -0.7265262475251779, -1.423712885608687, -2.495980562967999, -0.057267432825731115, -0.4147420045287848, -0.8266701296512315, 2.3162521187109593, 0.9348476801009822, -0.553620996575435, -2.4427082483097093, -0.5200691594412324, -1.274494933092319, -1.958643899630793, -0.5407305023298087, 0.10011156674888748, -0.5218674661577898, 1.1619590911669357, -0.8594227709141492, 1.6193793008928006, 2.6445449954208606, -1.0286939811954803, -0.16405557957629427, -1.184613198263777, -1.993229334482128, -1.7305845227851164, -1.9034913270649891, 0.22256608095702246, 3.2651566268715864, -2.2351041830072225, -1.9003175713229101, -1.8728686427497236, -1.5608003546035412, -3.362415798280548, -1.5982621387955518, -3.3049852582760613, -1.2290770843469405, -1.0296250219317051, -0.9630916304468585, -4.858372524208938, -4.078834612788767, -2.068617866198234, -3.213676524312741, -2.7186891550719134, -1.20458537465019, -0.8905320674547484, 1.2049478570368153, 1.2813759354623584, 0.8805992983775796, -2.1787834296891435, -1.6655515276669197, -1.0972434887648728, -1.9796502357267483, -0.01314208034908405, -0.02172458639701276, 0.9685009673548366, 0.05855988208530619, 2.6249956768293097, 0.8581645268746901, -1.6878891492943113, -2.409310632886324, 0.7327091649193043, 0.004471774455033023, -4.336304298894624, -4.442878021854954, -2.4483992357614097, -4.546848237974339, -1.5771022330362787, -1.690116635895099, -4.075541739821544, -5.411043948570989, -3.952469634126837, -4.226099738123287, 3.2289972698933367, -0.3649457989952118, -0.08046271509087798, -0.002133740856184152, 3.6395468143439653, 3.933984072100554, -0.6732844927824038, 2.4105494468080733, 0.11383584464587362, 0.2651426635288023, 0.37663594370602393, 0.20226828520232426, -0.128743623130223, -0.3852674189122594, 1.9602676400188228, 2.9738985182443494, 0.23222015225075754, 1.720987206278386, -0.3481731882771868, 0.44844021820892704, -0.6655239445220623, 0.4275756111840082, 0.4557313334300007, 0.26117558977313443, 3.05634783239251, 1.4099077057728748, -0.7862824556200113, -0.814249315855113, 0.3043482260152685, 0.7176497250144318, 1.0919905733819786, 0.7039181021921853, -0.11767875492845165, -0.33568581339870995, 1.925652494129569, -0.4286919127476732, -1.223004933271917, 1.0987960468181293, 0.19717391057540548, -0.306488911462369, 1.8953611343664432, 1.9856286312597802, 3.5301817976376566, 3.8753120431630705, 4.582329921930548, 3.1400203675708434, -0.7934780772706117, 0.28703191323782806, 1.5910449550772545, 2.430115451107788, 0.7735292242474548, 1.8043128325878741, 1.978091484225101, 2.5048123092937344, 3.564240426067454, 1.4350528707413874, 2.6026489123958085, 1.7793139228913026, -0.7067552564825755, 1.3117776854499819, -0.7929286100172521, 0.2560954451779031, -0.2070738545935286, -1.5543160963611655, -0.9185665396855792, 1.7602171956808883, -0.6563063939184914, -1.7636896873612813, 0.6745046397079094, 0.13977868249169556, 7.531877777661553, 6.787649955027804, 5.32831636903346, 6.1731156115852475, 6.845229546039728, 8.213089877716014, -1.5902150968611017, -2.6610108136773385, 4.139291319774158, 0.9517735851025926, 3.6724181837299446, 2.5313819253321395, 3.2585477382704426, 1.8821018442494455, 3.923519376948234, 6.0337531823091535, -0.3787546027486085, 3.881407843463223, 0.8912934343303884, 0.7763994508551504, 0.6861951530499486, 4.148222781283312, 4.118157157236485, 2.9580650937806525, 5.560011191111494, 6.117357286487811, 0.366707801026107, 5.118014934307141, 2.9977989519394543, 1.5949479298093248, -1.5748857050783374, 0.82835772011137, -0.7612406114448473, 0.5248344346143775, 2.851308633941098, 3.056257602399749, 2.2560614465448148, 1.7444205178146701, -2.294765234558381, -2.602712255171879, 0.08593428276559523, -0.6471490749445249, -0.29781558335129366, -0.8589153611645812, 3.457769197409253, 2.0095402657838806, 0.608147338200291, -0.05645552564961249, -1.5003806927830472, -0.31473385011641847, -1.6523556986794852, 0.22000378274587293, 3.140840110327054, 3.4136793412539075, -0.3547852283914788, 2.578640581421444, -2.9467002541507386, -0.6346732207269615, -1.4148138232307597, 0.6044658889801051, 2.7656013747789836, 6.32958716492288, 3.8136323499908578, 3.679314323082629, 5.835657157309937, 6.419397562187324, 1.895642356456015, 3.767878178982317, 1.3419878604782283, 2.2005516281335256, 1.0536888086169975, -0.5579169490288287, -1.1774668139379079, -1.2218521865612577, -0.9844491726477219, 3.691697039845495, -1.990818349841923, -2.503877220444153, 0.5196252969117238, -0.9510247277903788, -1.0633966718612569, -1.0091391497067244, -1.336734128389869, -1.4182945620429357, -0.10178047098249213, -0.2792288608180936, -2.1971925087088358, -1.8113016234830248, -1.3710212384474554, -0.7803940186779696, 0.05796008628991778, 1.8605069818531665, 1.3080943705426045, 2.91832739953493, 4.286886198966439, 4.314452581837415, 0.11365388981527037, -1.332419973767121, 3.6910725775106537, 1.8553820856700136, 0.18590473889951134, -1.746795667324898, -0.29202091837593097, 0.34857715997096284, 0.1661680424348848, 0.5585654463759662, -0.2979360224074707, 0.4207833795527734, -0.4294968916854896, -0.8089968857291568, 0.9910435628354861, 1.698708624531762, 2.4795065538690935, 0.7675028785533559, 2.7865113133283157, 2.079880276392315, -2.2143738766243337, -2.226595911645236, 1.3072947342246475, 1.3467848449010322, -1.7553523477269761, -1.8767095534747382, -1.4560480135384757, -1.1062330294098, -0.16606405335595484, 0.7901822181609985, -3.6188939810367886, -1.2883173540324455, -1.655284955932792, -1.4150337303198395, -2.6388834573569517, -4.205324308772755, -4.137578471481424, -3.455163755705659, -3.567639035563659, -3.1612037373149673, -4.691055420506707, -3.935635918777405, -3.3001137448507762, -2.3693057858797806], \"y\": [0.7063802601294247, -0.3174283850763912, 0.27274966282819646, 0.5645954973449531, 0.9606240379893798, 0.4006486808949438, -1.2688276347114746, -1.6342572681514391, -1.1443652075874309, -0.7877008733121788, 4.0471682975593275, 1.6707849526364806, 4.529523862565315, 2.257835415441383, 5.299123268662783, 3.162600249447867, -0.24219746138697817, -0.8940573178015573, -0.739926907699414, 2.9099618585804947, 2.797428484462139, 1.7709555055532213, 1.508953376333167, 1.2421112218519883, 4.359466347531106, 5.2073205746117, -1.0469942524209968, -0.16820342783916695, 1.4343065184665136, 0.9575431773673051, 2.518218319857452, 3.607019429993253, 2.795470554262712, 3.7002315152861263, 3.291731907177136, 3.364821459363992, 0.09974355606374455, -0.46574278557262305, 2.7614426391024005, 2.816448059415046, 0.39537108870042686, -0.5199612239321479, 0.056263772021374274, 0.051041157413300446, -0.1714408010063324, 1.5460103797164713, -0.7029485383574311, -1.126646515709714, -1.2379142774399363, -1.0155301495379983, 0.3166996191948636, 1.964502728953605, 2.1541005202588024, 3.09466450224559, 3.5212154589346985, 4.551383284103847, -0.9678136635384379, -0.5337922547849552, -0.6729725016734156, 0.001330465911275266, 2.187091084802092, 2.3842447204048907, 3.132855214230567, 2.743494827926516, 2.2621660889175748, 2.410729116605065, -0.5144448542499956, -1.3288029037405156, 1.3455166153893494, 0.9456254743821357, 0.11239049513630842, -0.02592794333689903, 0.0008833094471971141, -0.3408565884630528, 1.722796665989579, 0.4312894657517065, -0.7421622746730662, -1.253633099755117, -0.6645149139988082, -1.1743785615385347, 1.9399365095347403, 0.2400961507817683, 0.2894127774650417, 0.32344195963412936, 0.6885233564170372, 2.4816783394056143, -0.9697081976335227, -1.532523166064224, 1.0545140617311677, -0.37202423509462956, 1.9181702721595546, 2.745108018461771, 4.750399363386847, 3.528491269614194, 4.855589316071048, 5.545168540249109, 0.30274488434109903, 0.5335032007483003, 3.3873547074896107, 3.472674750163274, -0.2953179443654231, 1.0568910010664865, 0.5189415047159428, 0.24899983739407067, 0.8551236418672733, 1.0285235155524504, -1.2496376135019152, -1.5892926851292382, -1.1526693339794696, -1.1290555254103005, 2.0277190970664782, 1.6592267282389441, 3.1120418946160173, 2.262958517260104, 1.13223563149929, 2.2617757280037583, -0.28498653338929153, 0.036207425213652, 1.2187925740530443, 1.5499337600248269, 1.8390200770061398, 2.361114168365677, 2.565237416616631, 2.038331746784526, 1.6000130954550602, 2.171753284391761, 0.583598456952734, -0.43693928585326086, 2.6133327100492543, 1.6268241495893405, 2.431307773216514, 2.2710832595877903, 1.9417089304349766, 1.4324459137964352, 2.9618901187308047, 1.5627025031928903, 0.706062273919633, 1.175719060182896, -0.010345193299220711, 0.5304551074248172, 0.1911720169220266, 0.6937574224012368, 0.3128954068513565, -0.2985710191926537, 0.6460089500204321, 2.1212869501978235, -1.7076580810505602, -1.4434899192257522, -0.4635924805377079, -0.12446319149481705, 0.6748286074422563, 1.8204484534815422, -0.006181737665523186, 1.3013028382586365, 1.0530069895893026, 1.2335161071814906, 0.8739439325155257, -0.2141216357794569, 0.8965752236347454, 0.4762691118114678, 3.1953962452596905, 1.6548729238973123, 1.667267029647193, 1.669131073078699, 1.0034824831455558, 0.9359767816737712, -0.5132466583037099, -0.6606643218358671, 0.4931551097930599, 0.5444447490331007, 2.659837323833, 1.8731223232760246, 2.5559265114884013, 1.9654751332431508, 3.0750888408999177, 3.9981909485204055, -0.7148230422308639, -0.9496259278894165, 1.4607123060939822, 4.024688258032956, 0.8252992391791182, 0.39773442500825057, 0.4968344027538255, 0.4020544352623857, 0.0743659321447796, -0.08762082960226612, 0.33041242898120066, -0.5848487997201456, -0.6073262778768564, -0.1866870292633413, -0.2823448806729394, -0.31835898437016574, -0.2548662677832438, -0.8256848649460824, 0.07515798184721956, 0.6061010626677211, -1.9447138419450078, -1.0537259777260826, -1.0662812177986571, -0.4940034365255071, -2.670788463974686, -3.039796540167932, -2.5665847860116955, -2.311709880429927, -2.029309306124474, -2.231105379566077, -3.2320354976478396, -3.6948720147233813, -2.390483067147602, -2.963107562169722, 0.4430115597849484, 0.6050236953816469, 0.9497226449410987, 1.1434249399943148, 1.133512664872743, 1.5230535651912394, 0.7278144218798226, 0.09939463727168076, 1.0766599624077418, 0.665904743173456, -0.7506453994290004, -0.34255689038259707, 0.4421340217758076, 0.5776626760721082, 0.8427255114725654, 0.5503936547450012, -0.9279241522176727, 0.029082973720913383, 0.18071266200912936, 0.24003159516770495, 0.3978203779598162, 0.695107889502464, 1.6697364733162645, 1.7483514713166464, 1.1899323581418948, 2.915850344167462, -0.5911366652874958, -0.49403688014080244, 0.5731851010864355, -0.5046805016062667, 0.6830895306145907, 0.28653425114865677, 0.4170450136753593, -0.36082113381665165, -0.7639986593653577, -1.8117159078004668, -0.9548028141512777, -1.5744079146841692, -1.8187777325152104, -1.005581473429233, -2.0856191431034556, -2.2989272792992046, -2.0692616112802877, -1.643887455411827, -1.2892203236671522, -1.7033062319120287, -2.8975572299993155, -2.591378739739017, -2.6283867753246337, -2.6914533160158594, -1.2923109042272467, -0.4719807866265092, -0.13391621967313555, -0.20729160785043596, -0.23835329424816867, -0.9056531404285917, -1.1205226146502536, -1.3035498480958583, -0.6412469096623229, -1.3942216117972093, -0.9576224357009636, -0.5196057186652634, -0.9102927403498244, -0.3855459788850462, -0.4036123846060712, -0.012750897563731435, -1.7595546875754868, -0.5751532026932713, -1.0599105039270842, -0.5119734353347893, 0.17917784928669123, -0.4859956472978756, 0.26018553597472743, 1.2451480083561932, -0.6688235476129973, -0.6685161492371015, -1.47735798185757, -1.4445444514569854, 1.0519539680909995, -0.2171545322058588, -2.097294020627136, -1.0443765769995301, -1.6980893255641063, -1.4783325831677099, -1.0284948101867692, -1.1977922272729966, -0.27854976598724, -1.5151649775960052, -1.1757894063457648, -1.2865170837457587, -0.7305328349114184, -1.3334364570307642, -1.4742047693694427, -0.9375159513218119, -1.030454814203068, -0.8815530370644727, -1.5492280610562956, -1.4350297674020818, -1.2743370426735958, -1.3113258793331497, -1.3647370030767756, -1.4782246792973457, -1.0395924342533434, -1.1845963533248665, -2.241357272816676, -1.4461094507352372, -1.5624572896710827, -2.2603312496833383, -1.586323187128861, -1.993747909593639, -0.6694582202426322, 0.5883416294405894, 0.39560205013709115, -0.3450622019255199, -0.25172422246453247, -0.20653901178707398, -0.9893563256670446, -0.29835850918985574, -1.7018754544043777, -1.4174877933687136, -1.2609476310659677, -1.782901670707657, -2.1862716793300234, -1.9392013148013443, -2.1959355990641547, 0.010200854592127918, -1.6150493687387364, -1.6791211634502128, -1.5652804950500825, -2.286618558271691, 0.7487954983339752, 0.17842308200937668, 0.026611592026065164, 1.0105800495550685, 0.11733873095435371, 0.045119389466945554, -0.2405187056887381, -0.33512559512792817, 0.04820927870636901, -0.32314101991091865, -2.022921330823206, -1.2786956992954859, -1.028432057583238, -0.8572612450675242, -0.6310612237192476, -0.8162405389727307, -2.4057371373578516, -3.08067999025852, -0.9712297138977183, -1.288229892372809, -2.4211595582942187, -1.0734714842361135, -1.6646105408807816, -1.1936805276113889, -1.7835672052135731, -1.5663669016056894, -2.3818767310475164, -2.4582031696533617, -2.2851683510192653, -2.3549394529310215, -1.3392811031651173, -1.3279129942723966, -1.239042649280625, -1.275252626439028, -1.3343163914345673, -1.1772176133272962, -1.2042595470931945, -0.6283827215299976, -1.6585021152206163, -1.740662634662296, -1.2942759745197907, -1.07207487563754, -1.1601629936071862, -1.5056099748393916, -1.3289561089601722, -1.783994218063973, -2.3085470882787433, -2.2341568668808676, -1.8733383859383177, -2.2379649605222225, -1.2002860997923654, -1.911451728670375, -1.7616829482845189, -1.836588074018935, -2.2476185097653545, -2.170085617705966, -2.444356226852359, -1.9407877854477975, -2.300347653385568, -2.2456986575715376]}],\n",
       "                        {\"template\": {\"data\": {\"bar\": [{\"error_x\": {\"color\": \"#2a3f5f\"}, \"error_y\": {\"color\": \"#2a3f5f\"}, \"marker\": {\"line\": {\"color\": \"#E5ECF6\", \"width\": 0.5}}, \"type\": \"bar\"}], \"barpolar\": [{\"marker\": {\"line\": {\"color\": \"#E5ECF6\", \"width\": 0.5}}, \"type\": \"barpolar\"}], \"carpet\": [{\"aaxis\": {\"endlinecolor\": \"#2a3f5f\", \"gridcolor\": \"white\", \"linecolor\": \"white\", \"minorgridcolor\": \"white\", \"startlinecolor\": \"#2a3f5f\"}, \"baxis\": {\"endlinecolor\": \"#2a3f5f\", \"gridcolor\": \"white\", \"linecolor\": \"white\", \"minorgridcolor\": \"white\", \"startlinecolor\": \"#2a3f5f\"}, \"type\": \"carpet\"}], \"choropleth\": [{\"colorbar\": {\"outlinewidth\": 0, \"ticks\": \"\"}, \"type\": \"choropleth\"}], \"contour\": [{\"colorbar\": {\"outlinewidth\": 0, \"ticks\": \"\"}, \"colorscale\": [[0.0, \"#0d0887\"], [0.1111111111111111, \"#46039f\"], [0.2222222222222222, \"#7201a8\"], [0.3333333333333333, \"#9c179e\"], [0.4444444444444444, \"#bd3786\"], [0.5555555555555556, \"#d8576b\"], [0.6666666666666666, \"#ed7953\"], [0.7777777777777778, \"#fb9f3a\"], [0.8888888888888888, \"#fdca26\"], [1.0, \"#f0f921\"]], \"type\": \"contour\"}], \"contourcarpet\": [{\"colorbar\": {\"outlinewidth\": 0, \"ticks\": \"\"}, \"type\": \"contourcarpet\"}], \"heatmap\": [{\"colorbar\": {\"outlinewidth\": 0, \"ticks\": \"\"}, \"colorscale\": [[0.0, \"#0d0887\"], [0.1111111111111111, \"#46039f\"], [0.2222222222222222, \"#7201a8\"], [0.3333333333333333, \"#9c179e\"], [0.4444444444444444, \"#bd3786\"], [0.5555555555555556, \"#d8576b\"], [0.6666666666666666, \"#ed7953\"], [0.7777777777777778, \"#fb9f3a\"], [0.8888888888888888, \"#fdca26\"], [1.0, \"#f0f921\"]], \"type\": \"heatmap\"}], \"heatmapgl\": [{\"colorbar\": {\"outlinewidth\": 0, \"ticks\": \"\"}, \"colorscale\": [[0.0, \"#0d0887\"], [0.1111111111111111, \"#46039f\"], [0.2222222222222222, \"#7201a8\"], [0.3333333333333333, \"#9c179e\"], [0.4444444444444444, \"#bd3786\"], [0.5555555555555556, \"#d8576b\"], [0.6666666666666666, \"#ed7953\"], [0.7777777777777778, \"#fb9f3a\"], [0.8888888888888888, \"#fdca26\"], [1.0, \"#f0f921\"]], \"type\": \"heatmapgl\"}], \"histogram\": [{\"marker\": {\"colorbar\": {\"outlinewidth\": 0, \"ticks\": \"\"}}, \"type\": \"histogram\"}], \"histogram2d\": [{\"colorbar\": {\"outlinewidth\": 0, \"ticks\": \"\"}, \"colorscale\": [[0.0, \"#0d0887\"], [0.1111111111111111, \"#46039f\"], [0.2222222222222222, \"#7201a8\"], [0.3333333333333333, \"#9c179e\"], [0.4444444444444444, \"#bd3786\"], [0.5555555555555556, \"#d8576b\"], [0.6666666666666666, \"#ed7953\"], [0.7777777777777778, \"#fb9f3a\"], [0.8888888888888888, \"#fdca26\"], [1.0, \"#f0f921\"]], \"type\": \"histogram2d\"}], \"histogram2dcontour\": [{\"colorbar\": {\"outlinewidth\": 0, \"ticks\": \"\"}, \"colorscale\": [[0.0, \"#0d0887\"], [0.1111111111111111, \"#46039f\"], [0.2222222222222222, \"#7201a8\"], [0.3333333333333333, \"#9c179e\"], [0.4444444444444444, \"#bd3786\"], [0.5555555555555556, \"#d8576b\"], [0.6666666666666666, \"#ed7953\"], [0.7777777777777778, \"#fb9f3a\"], [0.8888888888888888, \"#fdca26\"], [1.0, \"#f0f921\"]], \"type\": \"histogram2dcontour\"}], \"mesh3d\": [{\"colorbar\": {\"outlinewidth\": 0, \"ticks\": \"\"}, \"type\": \"mesh3d\"}], \"parcoords\": [{\"line\": {\"colorbar\": {\"outlinewidth\": 0, \"ticks\": \"\"}}, \"type\": \"parcoords\"}], \"pie\": [{\"automargin\": true, \"type\": \"pie\"}], \"scatter\": [{\"marker\": {\"colorbar\": {\"outlinewidth\": 0, \"ticks\": \"\"}}, \"type\": \"scatter\"}], \"scatter3d\": [{\"line\": {\"colorbar\": {\"outlinewidth\": 0, \"ticks\": \"\"}}, \"marker\": {\"colorbar\": {\"outlinewidth\": 0, \"ticks\": \"\"}}, \"type\": \"scatter3d\"}], \"scattercarpet\": [{\"marker\": {\"colorbar\": {\"outlinewidth\": 0, \"ticks\": \"\"}}, \"type\": \"scattercarpet\"}], \"scattergeo\": [{\"marker\": {\"colorbar\": {\"outlinewidth\": 0, \"ticks\": \"\"}}, \"type\": \"scattergeo\"}], \"scattergl\": [{\"marker\": {\"colorbar\": {\"outlinewidth\": 0, \"ticks\": \"\"}}, \"type\": \"scattergl\"}], \"scattermapbox\": [{\"marker\": {\"colorbar\": {\"outlinewidth\": 0, \"ticks\": \"\"}}, \"type\": \"scattermapbox\"}], \"scatterpolar\": [{\"marker\": {\"colorbar\": {\"outlinewidth\": 0, \"ticks\": \"\"}}, \"type\": \"scatterpolar\"}], \"scatterpolargl\": [{\"marker\": {\"colorbar\": {\"outlinewidth\": 0, \"ticks\": \"\"}}, \"type\": \"scatterpolargl\"}], \"scatterternary\": [{\"marker\": {\"colorbar\": {\"outlinewidth\": 0, \"ticks\": \"\"}}, \"type\": \"scatterternary\"}], \"surface\": [{\"colorbar\": {\"outlinewidth\": 0, \"ticks\": \"\"}, \"colorscale\": [[0.0, \"#0d0887\"], [0.1111111111111111, \"#46039f\"], [0.2222222222222222, \"#7201a8\"], [0.3333333333333333, \"#9c179e\"], [0.4444444444444444, \"#bd3786\"], [0.5555555555555556, \"#d8576b\"], [0.6666666666666666, \"#ed7953\"], [0.7777777777777778, \"#fb9f3a\"], [0.8888888888888888, \"#fdca26\"], [1.0, \"#f0f921\"]], \"type\": \"surface\"}], \"table\": [{\"cells\": {\"fill\": {\"color\": \"#EBF0F8\"}, \"line\": {\"color\": \"white\"}}, \"header\": {\"fill\": {\"color\": \"#C8D4E3\"}, \"line\": {\"color\": \"white\"}}, \"type\": \"table\"}]}, \"layout\": {\"annotationdefaults\": {\"arrowcolor\": \"#2a3f5f\", \"arrowhead\": 0, \"arrowwidth\": 1}, \"coloraxis\": {\"colorbar\": {\"outlinewidth\": 0, \"ticks\": \"\"}}, \"colorscale\": {\"diverging\": [[0, \"#8e0152\"], [0.1, \"#c51b7d\"], [0.2, \"#de77ae\"], [0.3, \"#f1b6da\"], [0.4, \"#fde0ef\"], [0.5, \"#f7f7f7\"], [0.6, \"#e6f5d0\"], [0.7, \"#b8e186\"], [0.8, \"#7fbc41\"], [0.9, \"#4d9221\"], [1, \"#276419\"]], \"sequential\": [[0.0, \"#0d0887\"], [0.1111111111111111, \"#46039f\"], [0.2222222222222222, \"#7201a8\"], [0.3333333333333333, \"#9c179e\"], [0.4444444444444444, \"#bd3786\"], [0.5555555555555556, \"#d8576b\"], [0.6666666666666666, \"#ed7953\"], [0.7777777777777778, \"#fb9f3a\"], [0.8888888888888888, \"#fdca26\"], [1.0, \"#f0f921\"]], \"sequentialminus\": [[0.0, \"#0d0887\"], [0.1111111111111111, \"#46039f\"], [0.2222222222222222, \"#7201a8\"], [0.3333333333333333, \"#9c179e\"], [0.4444444444444444, \"#bd3786\"], [0.5555555555555556, \"#d8576b\"], [0.6666666666666666, \"#ed7953\"], [0.7777777777777778, \"#fb9f3a\"], [0.8888888888888888, \"#fdca26\"], [1.0, \"#f0f921\"]]}, \"colorway\": [\"#636efa\", \"#EF553B\", \"#00cc96\", \"#ab63fa\", \"#FFA15A\", \"#19d3f3\", \"#FF6692\", \"#B6E880\", \"#FF97FF\", \"#FECB52\"], \"font\": {\"color\": \"#2a3f5f\"}, \"geo\": {\"bgcolor\": \"white\", \"lakecolor\": \"white\", \"landcolor\": \"#E5ECF6\", \"showlakes\": true, \"showland\": true, \"subunitcolor\": \"white\"}, \"hoverlabel\": {\"align\": \"left\"}, \"hovermode\": \"closest\", \"mapbox\": {\"style\": \"light\"}, \"paper_bgcolor\": \"white\", \"plot_bgcolor\": \"#E5ECF6\", \"polar\": {\"angularaxis\": {\"gridcolor\": \"white\", \"linecolor\": \"white\", \"ticks\": \"\"}, \"bgcolor\": \"#E5ECF6\", \"radialaxis\": {\"gridcolor\": \"white\", \"linecolor\": \"white\", \"ticks\": \"\"}}, \"scene\": {\"xaxis\": {\"backgroundcolor\": \"#E5ECF6\", \"gridcolor\": \"white\", \"gridwidth\": 2, \"linecolor\": \"white\", \"showbackground\": true, \"ticks\": \"\", \"zerolinecolor\": \"white\"}, \"yaxis\": {\"backgroundcolor\": \"#E5ECF6\", \"gridcolor\": \"white\", \"gridwidth\": 2, \"linecolor\": \"white\", \"showbackground\": true, \"ticks\": \"\", \"zerolinecolor\": \"white\"}, \"zaxis\": {\"backgroundcolor\": \"#E5ECF6\", \"gridcolor\": \"white\", \"gridwidth\": 2, \"linecolor\": \"white\", \"showbackground\": true, \"ticks\": \"\", \"zerolinecolor\": \"white\"}}, \"shapedefaults\": {\"line\": {\"color\": \"#2a3f5f\"}}, \"ternary\": {\"aaxis\": {\"gridcolor\": \"white\", \"linecolor\": \"white\", \"ticks\": \"\"}, \"baxis\": {\"gridcolor\": \"white\", \"linecolor\": \"white\", \"ticks\": \"\"}, \"bgcolor\": \"#E5ECF6\", \"caxis\": {\"gridcolor\": \"white\", \"linecolor\": \"white\", \"ticks\": \"\"}}, \"title\": {\"x\": 0.05}, \"xaxis\": {\"automargin\": true, \"gridcolor\": \"white\", \"linecolor\": \"white\", \"ticks\": \"\", \"title\": {\"standoff\": 15}, \"zerolinecolor\": \"white\", \"zerolinewidth\": 2}, \"yaxis\": {\"automargin\": true, \"gridcolor\": \"white\", \"linecolor\": \"white\", \"ticks\": \"\", \"title\": {\"standoff\": 15}, \"zerolinecolor\": \"white\", \"zerolinewidth\": 2}}}},\n",
       "                        {\"responsive\": true}\n",
       "                    ).then(function(){\n",
       "                            \n",
       "var gd = document.getElementById('50e5f2fb-d955-4257-b4a8-c79de9b54ab4');\n",
       "var x = new MutationObserver(function (mutations, observer) {{\n",
       "        var display = window.getComputedStyle(gd).display;\n",
       "        if (!display || display === 'none') {{\n",
       "            console.log([gd, 'removed!']);\n",
       "            Plotly.purge(gd);\n",
       "            observer.disconnect();\n",
       "        }}\n",
       "}});\n",
       "\n",
       "// Listen for the removal of the full notebook cells\n",
       "var notebookContainer = gd.closest('#notebook-container');\n",
       "if (notebookContainer) {{\n",
       "    x.observe(notebookContainer, {childList: true});\n",
       "}}\n",
       "\n",
       "// Listen for the clearing of the current output cell\n",
       "var outputEl = gd.closest('.output');\n",
       "if (outputEl) {{\n",
       "    x.observe(outputEl, {childList: true});\n",
       "}}\n",
       "\n",
       "                        })\n",
       "                };\n",
       "                });\n",
       "            </script>\n",
       "        </div>"
      ]
     },
     "metadata": {},
     "output_type": "display_data"
    }
   ],
   "source": [
    "fig = go.Figure()\n",
    "fig.add_trace(go.Scatter(x=balancePcaPlot['PCA1'],\n",
    "                         y=balancePcaPlot['PCA2'],\n",
    "                         marker = dict(size=balancePcaPlot['Decade']*2),\n",
    "                         mode='markers'))"
   ]
  },
  {
   "cell_type": "markdown",
   "metadata": {
    "slideshow": {
     "slide_type": "slide"
    }
   },
   "source": [
    "# End of PCA projections\n",
    "\n",
    "[Plotly cheat sheet](https://images.plot.ly/plotly-documentation/images/python_cheat_sheet.pdf)"
   ]
  }
 ],
 "metadata": {
  "celltoolbar": "Slideshow",
  "kernelspec": {
   "display_name": "Python 3",
   "language": "python",
   "name": "python3"
  },
  "language_info": {
   "codemirror_mode": {
    "name": "ipython",
    "version": 3
   },
   "file_extension": ".py",
   "mimetype": "text/x-python",
   "name": "python",
   "nbconvert_exporter": "python",
   "pygments_lexer": "ipython3",
   "version": "3.7.6"
  }
 },
 "nbformat": 4,
 "nbformat_minor": 4
}
