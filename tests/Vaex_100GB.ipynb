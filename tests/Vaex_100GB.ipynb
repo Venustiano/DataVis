{
 "cells": [
  {
   "cell_type": "markdown",
   "metadata": {
    "slideshow": {
     "slide_type": "slide"
    }
   },
   "source": [
    "# How to analyse 100 GB of data on your laptop with Python\n",
    "\n",
    "https://towardsdatascience.com/how-to-analyse-100s-of-gbs-of-data-on-your-laptop-with-python-f83363dda94\n",
    "https://nbviewer.jupyter.org/github/vaexio/vaex-examples/blob/master/medium-nyc-taxi-data-eda/vaex-taxi-article.ipynb\n",
    "\n",
    "Data can be found \n",
    "https://docs.vaex.io/en/master/datasets.html\n"
   ]
  },
  {
   "cell_type": "code",
   "execution_count": 5,
   "metadata": {
    "slideshow": {
     "slide_type": "skip"
    }
   },
   "outputs": [],
   "source": [
    "# import sys\n",
    "# !jupyter nbextension enable --sys-prefix --py widgetsnbextension\n",
    "# !jupyter nbextension enable --sys-prefix --py bqplot\n",
    "# !jupyter nbextension enable --sys-prefix --py ipyvolume\n",
    "# !jupyter nbextension enable --sys-prefix --py ipympl\n",
    "# !jupyter nbextension enable --sys-prefix --py ipyleaflet        "
   ]
  },
  {
   "cell_type": "code",
   "execution_count": 1,
   "metadata": {},
   "outputs": [],
   "source": [
    "import vaex\n",
    "import vaex.jupyter\n",
    "import numpy as np\n",
    "import pylab as plt\n",
    "%matplotlib inline\n"
   ]
  },
  {
   "cell_type": "code",
   "execution_count": 2,
   "metadata": {
    "slideshow": {
     "slide_type": "slide"
    }
   },
   "outputs": [],
   "source": [
    "# Read in the data from disk\n",
    "df = vaex.open('./data/nyc_taxi2015.hdf5')"
   ]
  },
  {
   "cell_type": "code",
   "execution_count": 3,
   "metadata": {},
   "outputs": [
    {
     "data": {
      "text/html": [
       "<table>\n",
       "<thead>\n",
       "<tr><th>#                                      </th><th>VendorID  </th><th>dropoff_dayofweek  </th><th>dropoff_hour  </th><th>dropoff_latitude  </th><th>dropoff_longitude  </th><th>extra  </th><th>fare_amount  </th><th>improvement_surcharge  </th><th>mta_tax  </th><th>passenger_count  </th><th>payment_type  </th><th>pickup_dayofweek  </th><th>pickup_hour  </th><th>pickup_latitude   </th><th>pickup_longitude  </th><th>tip_amount  </th><th>tolls_amount  </th><th>total_amount  </th><th>tpep_dropoff_datetime        </th><th>tpep_pickup_datetime         </th><th>trip_distance  </th></tr>\n",
       "</thead>\n",
       "<tbody>\n",
       "<tr><td><i style='opacity: 0.6'>0</i>          </td><td>2         </td><td>3.0                </td><td>19.0          </td><td>40.75061798095703 </td><td>-73.97478485107422 </td><td>1.0    </td><td>12.0         </td><td>0.3                    </td><td>0.5      </td><td>1                </td><td>1             </td><td>3.0               </td><td>19.0         </td><td>40.7501106262207  </td><td>-73.993896484375  </td><td>3.25        </td><td>0.0           </td><td>17.05         </td><td>2015-01-15 19:23:42.000000000</td><td>2015-01-15 19:05:39.000000000</td><td>1.59           </td></tr>\n",
       "<tr><td><i style='opacity: 0.6'>1</i>          </td><td>1         </td><td>5.0                </td><td>20.0          </td><td>40.75910949707031 </td><td>-73.99441528320312 </td><td>0.5    </td><td>14.5         </td><td>0.3                    </td><td>0.5      </td><td>1                </td><td>1             </td><td>5.0               </td><td>20.0         </td><td>40.7242431640625  </td><td>-74.00164794921875</td><td>2.0         </td><td>0.0           </td><td>17.8          </td><td>2015-01-10 20:53:28.000000000</td><td>2015-01-10 20:33:38.000000000</td><td>3.3            </td></tr>\n",
       "<tr><td><i style='opacity: 0.6'>2</i>          </td><td>1         </td><td>5.0                </td><td>20.0          </td><td>40.82441329956055 </td><td>-73.95182037353516 </td><td>0.5    </td><td>9.5          </td><td>0.3                    </td><td>0.5      </td><td>1                </td><td>2             </td><td>5.0               </td><td>20.0         </td><td>40.80278778076172 </td><td>-73.96334075927734</td><td>0.0         </td><td>0.0           </td><td>10.8          </td><td>2015-01-10 20:43:41.000000000</td><td>2015-01-10 20:33:38.000000000</td><td>1.8            </td></tr>\n",
       "<tr><td><i style='opacity: 0.6'>3</i>          </td><td>1         </td><td>5.0                </td><td>20.0          </td><td>40.71998596191406 </td><td>-74.00432586669923 </td><td>0.5    </td><td>3.5          </td><td>0.3                    </td><td>0.5      </td><td>1                </td><td>2             </td><td>5.0               </td><td>20.0         </td><td>40.71381759643555 </td><td>-74.00908660888672</td><td>0.0         </td><td>0.0           </td><td>4.8           </td><td>2015-01-10 20:35:31.000000000</td><td>2015-01-10 20:33:39.000000000</td><td>0.5            </td></tr>\n",
       "<tr><td><i style='opacity: 0.6'>4</i>          </td><td>1         </td><td>5.0                </td><td>20.0          </td><td>40.742652893066406</td><td>-74.00418090820312 </td><td>0.5    </td><td>15.0         </td><td>0.3                    </td><td>0.5      </td><td>1                </td><td>2             </td><td>5.0               </td><td>20.0         </td><td>40.762428283691406</td><td>-73.97117614746094</td><td>0.0         </td><td>0.0           </td><td>16.3          </td><td>2015-01-10 20:52:58.000000000</td><td>2015-01-10 20:33:39.000000000</td><td>3.0            </td></tr>\n",
       "<tr><td>...                                    </td><td>...       </td><td>...                </td><td>...           </td><td>...               </td><td>...                </td><td>...    </td><td>...          </td><td>...                    </td><td>...      </td><td>...              </td><td>...           </td><td>...               </td><td>...          </td><td>...               </td><td>...               </td><td>...         </td><td>...           </td><td>...           </td><td>...                          </td><td>...                          </td><td>...            </td></tr>\n",
       "<tr><td><i style='opacity: 0.6'>146,112,984</i></td><td>2         </td><td>4.0                </td><td>0.0           </td><td>40.722469329833984</td><td>-73.98621368408203 </td><td>0.5    </td><td>7.5          </td><td>0.3                    </td><td>0.5      </td><td>5                </td><td>1             </td><td>3.0               </td><td>23.0         </td><td>40.72087097167969 </td><td>-73.99381256103516</td><td>1.76        </td><td>0.0           </td><td>10.56         </td><td>2016-01-01 00:08:18.000000000</td><td>2015-12-31 23:59:56.000000000</td><td>1.2            </td></tr>\n",
       "<tr><td><i style='opacity: 0.6'>146,112,985</i></td><td>1         </td><td>4.0                </td><td>0.0           </td><td>40.75238800048828 </td><td>-73.93951416015625 </td><td>0.5    </td><td>7.5          </td><td>0.3                    </td><td>0.5      </td><td>2                </td><td>2             </td><td>3.0               </td><td>23.0         </td><td>40.76028060913085 </td><td>-73.96527099609375</td><td>0.0         </td><td>0.0           </td><td>8.8           </td><td>2016-01-01 00:05:19.000000000</td><td>2015-12-31 23:59:58.000000000</td><td>2.0            </td></tr>\n",
       "<tr><td><i style='opacity: 0.6'>146,112,986</i></td><td>1         </td><td>4.0                </td><td>0.0           </td><td>40.69329833984375 </td><td>-73.9886703491211  </td><td>0.5    </td><td>13.5         </td><td>0.3                    </td><td>0.5      </td><td>2                </td><td>2             </td><td>3.0               </td><td>23.0         </td><td>40.73907852172852 </td><td>-73.98729705810547</td><td>0.0         </td><td>0.0           </td><td>14.8          </td><td>2016-01-01 00:12:55.000000000</td><td>2015-12-31 23:59:59.000000000</td><td>3.8            </td></tr>\n",
       "<tr><td><i style='opacity: 0.6'>146,112,987</i></td><td>2         </td><td>4.0                </td><td>0.0           </td><td>40.705322265625   </td><td>-74.01712036132812 </td><td>0.5    </td><td>8.5          </td><td>0.3                    </td><td>0.5      </td><td>1                </td><td>2             </td><td>3.0               </td><td>23.0         </td><td>40.72569274902344 </td><td>-73.99755859375   </td><td>0.0         </td><td>0.0           </td><td>9.8           </td><td>2016-01-01 00:10:26.000000000</td><td>2015-12-31 23:59:59.000000000</td><td>1.96           </td></tr>\n",
       "<tr><td><i style='opacity: 0.6'>146,112,988</i></td><td>2         </td><td>4.0                </td><td>0.0           </td><td>40.76057052612305 </td><td>-73.99098205566406 </td><td>0.5    </td><td>13.5         </td><td>0.3                    </td><td>0.5      </td><td>1                </td><td>1             </td><td>3.0               </td><td>23.0         </td><td>40.76725769042969 </td><td>-73.98439788818358</td><td>2.96        </td><td>0.0           </td><td>17.76         </td><td>2016-01-01 00:21:30.000000000</td><td>2015-12-31 23:59:59.000000000</td><td>1.06           </td></tr>\n",
       "</tbody>\n",
       "</table>"
      ],
      "text/plain": [
       "#            VendorID    dropoff_dayofweek    dropoff_hour    dropoff_latitude    dropoff_longitude    extra    fare_amount    improvement_surcharge    mta_tax    passenger_count    payment_type    pickup_dayofweek    pickup_hour    pickup_latitude     pickup_longitude    tip_amount    tolls_amount    total_amount    tpep_dropoff_datetime          tpep_pickup_datetime           trip_distance\n",
       "0            2           3.0                  19.0            40.75061798095703   -73.97478485107422   1.0      12.0           0.3                      0.5        1                  1               3.0                 19.0           40.7501106262207    -73.993896484375    3.25          0.0             17.05           2015-01-15 19:23:42.000000000  2015-01-15 19:05:39.000000000  1.59\n",
       "1            1           5.0                  20.0            40.75910949707031   -73.99441528320312   0.5      14.5           0.3                      0.5        1                  1               5.0                 20.0           40.7242431640625    -74.00164794921875  2.0           0.0             17.8            2015-01-10 20:53:28.000000000  2015-01-10 20:33:38.000000000  3.3\n",
       "2            1           5.0                  20.0            40.82441329956055   -73.95182037353516   0.5      9.5            0.3                      0.5        1                  2               5.0                 20.0           40.80278778076172   -73.96334075927734  0.0           0.0             10.8            2015-01-10 20:43:41.000000000  2015-01-10 20:33:38.000000000  1.8\n",
       "3            1           5.0                  20.0            40.71998596191406   -74.00432586669923   0.5      3.5            0.3                      0.5        1                  2               5.0                 20.0           40.71381759643555   -74.00908660888672  0.0           0.0             4.8             2015-01-10 20:35:31.000000000  2015-01-10 20:33:39.000000000  0.5\n",
       "4            1           5.0                  20.0            40.742652893066406  -74.00418090820312   0.5      15.0           0.3                      0.5        1                  2               5.0                 20.0           40.762428283691406  -73.97117614746094  0.0           0.0             16.3            2015-01-10 20:52:58.000000000  2015-01-10 20:33:39.000000000  3.0\n",
       "...          ...         ...                  ...             ...                 ...                  ...      ...            ...                      ...        ...                ...             ...                 ...            ...                 ...                 ...           ...             ...             ...                            ...                            ...\n",
       "146,112,984  2           4.0                  0.0             40.722469329833984  -73.98621368408203   0.5      7.5            0.3                      0.5        5                  1               3.0                 23.0           40.72087097167969   -73.99381256103516  1.76          0.0             10.56           2016-01-01 00:08:18.000000000  2015-12-31 23:59:56.000000000  1.2\n",
       "146,112,985  1           4.0                  0.0             40.75238800048828   -73.93951416015625   0.5      7.5            0.3                      0.5        2                  2               3.0                 23.0           40.76028060913085   -73.96527099609375  0.0           0.0             8.8             2016-01-01 00:05:19.000000000  2015-12-31 23:59:58.000000000  2.0\n",
       "146,112,986  1           4.0                  0.0             40.69329833984375   -73.9886703491211    0.5      13.5           0.3                      0.5        2                  2               3.0                 23.0           40.73907852172852   -73.98729705810547  0.0           0.0             14.8            2016-01-01 00:12:55.000000000  2015-12-31 23:59:59.000000000  3.8\n",
       "146,112,987  2           4.0                  0.0             40.705322265625     -74.01712036132812   0.5      8.5            0.3                      0.5        1                  2               3.0                 23.0           40.72569274902344   -73.99755859375     0.0           0.0             9.8             2016-01-01 00:10:26.000000000  2015-12-31 23:59:59.000000000  1.96\n",
       "146,112,988  2           4.0                  0.0             40.76057052612305   -73.99098205566406   0.5      13.5           0.3                      0.5        1                  1               3.0                 23.0           40.76725769042969   -73.98439788818358  2.96          0.0             17.76           2016-01-01 00:21:30.000000000  2015-12-31 23:59:59.000000000  1.06"
      ]
     },
     "execution_count": 3,
     "metadata": {},
     "output_type": "execute_result"
    }
   ],
   "source": [
    "# A view into the data\n",
    "df"
   ]
  },
  {
   "cell_type": "code",
   "execution_count": 6,
   "metadata": {},
   "outputs": [],
   "source": [
    "# Get a high level overview of the DataFrame\n",
    "# Takes several minutes\n",
    "\n",
    "#df.describe()"
   ]
  },
  {
   "cell_type": "code",
   "execution_count": 4,
   "metadata": {
    "scrolled": true,
    "slideshow": {
     "slide_type": "slide"
    }
   },
   "outputs": [
    {
     "data": {
      "application/vnd.jupyter.widget-view+json": {
       "model_id": "8b0bdeebdec141bd90401c0d72f042c0",
       "version_major": 2,
       "version_minor": 0
      },
      "text/plain": [
       "PlotTemplate(components={'main-widget': VBox(children=(VBox(children=(Figure(axes=[Axis(color='#666', grid_col…"
      ]
     },
     "metadata": {},
     "output_type": "display_data"
    },
    {
     "data": {
      "text/plain": [
       "Plot2dDefault(w=None, what='count(*)', x='pickup_longitude', y='pickup_latitude', z=None)"
      ]
     },
     "metadata": {},
     "output_type": "display_data"
    }
   ],
   "source": [
    "# Interactively visualise the pickup locations of all taxi trips in our dataset.\n",
    "df.plot_widget(df.pickup_longitude, \n",
    "               df.pickup_latitude, \n",
    "               shape=512, \n",
    "               limits='minmax',\n",
    "               f='log1p', \n",
    "               colormap='plasma')"
   ]
  },
  {
   "cell_type": "code",
   "execution_count": 7,
   "metadata": {},
   "outputs": [],
   "source": [
    "# Define the boundaries by interactively choosing the area of interest!\n",
    "long_min = -74.05\n",
    "long_max = -73.75\n",
    "lat_min = 40.58\n",
    "lat_max = 40.90\n",
    "\n",
    "# Make a selection based on the boundaries\n",
    "df_filtered = df[(df.pickup_longitude > long_min)  & (df.pickup_longitude < long_max) & \\\n",
    "                 (df.pickup_latitude > lat_min)    & (df.pickup_latitude < lat_max) & \\\n",
    "                 (df.dropoff_longitude > long_min) & (df.dropoff_longitude < long_max) & \\\n",
    "                 (df.dropoff_latitude > lat_min)   & (df.dropoff_latitude < lat_max)]"
   ]
  },
  {
   "cell_type": "code",
   "execution_count": 8,
   "metadata": {},
   "outputs": [],
   "source": [
    "import seaborn as sns\n"
   ]
  },
  {
   "cell_type": "code",
   "execution_count": 9,
   "metadata": {},
   "outputs": [
    {
     "name": "stdout",
     "output_type": "stream",
     "text": [
      "\r",
      "[----------------------------------------]:   0.00% estimated time: unknown                 "
     ]
    },
    {
     "name": "stderr",
     "output_type": "stream",
     "text": [
      "<string>:1: RuntimeWarning: invalid value encountered in greater\n",
      "<string>:1: RuntimeWarning: invalid value encountered in less\n"
     ]
    },
    {
     "name": "stdout",
     "output_type": "stream",
     "text": [
      "[########################################]:  100.00% elapsed time  :       71s =  1.2m =  0.0h\n",
      " "
     ]
    },
    {
     "data": {
      "image/png": "[encoded data removed]",
      "text/plain": [
       "<Figure size 1152x288 with 1 Axes>"
      ]
     },
     "metadata": {
      "needs_background": "light"
     },
     "output_type": "display_data"
    }
   ],
   "source": [
    "# Get number of unique trips with certain number of passengers\n",
    "num_passengers = df_filtered.passenger_count.value_counts(progress=True)\n",
    "\n",
    "# Plot the result\n",
    "plt.figure(figsize=(16, 4))\n",
    "sns.barplot(x=num_passengers.index, y=np.log10(num_passengers.values))\n",
    "plt.xlabel('Number of passengers')\n",
    "plt.ylabel('Number of trips [dex]')\n",
    "plt.xticks(rotation='45')\n",
    "plt.show()"
   ]
  }
 ],
 "metadata": {
  "celltoolbar": "Slideshow",
  "kernelspec": {
   "display_name": "Python 3",
   "language": "python",
   "name": "python3"
  },
  "language_info": {
   "codemirror_mode": {
    "name": "ipython",
    "version": 3
   },
   "file_extension": ".py",
   "mimetype": "text/x-python",
   "name": "python",
   "nbconvert_exporter": "python",
   "pygments_lexer": "ipython3",
   "version": "3.7.3"
  }
 },
 "nbformat": 4,
 "nbformat_minor": 2
}
