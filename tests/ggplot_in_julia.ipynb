{
 "cells": [
  {
   "cell_type": "markdown",
   "id": "listed-optics",
   "metadata": {},
   "source": [
    "# How to use R packages such as ggplot in Julia\n",
    "[From here](https://avt.im/blog/2018/03/23/R-packages-ggplot-in-julia)"
   ]
  },
  {
   "cell_type": "code",
   "execution_count": 2,
   "id": "hollow-teaching",
   "metadata": {},
   "outputs": [
    {
     "name": "stderr",
     "output_type": "stream",
     "text": [
      "\u001b[32m\u001b[1m   Updating\u001b[22m\u001b[39m registry at `/opt/julia/registries/General`\n",
      "######################################################################### 100.0%\n",
      "\u001b[32m\u001b[1m  Resolving\u001b[22m\u001b[39m package versions...\n",
      "\u001b[32m\u001b[1m  Installed\u001b[22m\u001b[39m WinReg ─────────────────────── v0.3.1\n",
      "\u001b[32m\u001b[1m  Installed\u001b[22m\u001b[39m Reexport ───────────────────── v1.0.0\n",
      "\u001b[32m\u001b[1m  Installed\u001b[22m\u001b[39m Crayons ────────────────────── v4.0.4\n",
      "\u001b[32m\u001b[1m  Installed\u001b[22m\u001b[39m Missings ───────────────────── v0.4.5\n",
      "\u001b[32m\u001b[1m  Installed\u001b[22m\u001b[39m DataAPI ────────────────────── v1.6.0\n",
      "\u001b[32m\u001b[1m  Installed\u001b[22m\u001b[39m CategoricalArrays ──────────── v0.9.6\n",
      "\u001b[32m\u001b[1m  Installed\u001b[22m\u001b[39m RCall ──────────────────────── v0.13.11\n",
      "\u001b[32m\u001b[1m  Installed\u001b[22m\u001b[39m ChainRulesCore ─────────────── v0.9.38\n",
      "\u001b[32m\u001b[1m  Installed\u001b[22m\u001b[39m TableTraits ────────────────── v1.0.1\n",
      "\u001b[32m\u001b[1m  Installed\u001b[22m\u001b[39m OpenSpecFun_jll ────────────── v0.5.3+4\n",
      "\u001b[32m\u001b[1m  Installed\u001b[22m\u001b[39m InvertedIndices ────────────── v1.0.0\n",
      "\u001b[32m\u001b[1m  Installed\u001b[22m\u001b[39m DataValueInterfaces ────────── v1.0.0\n",
      "\u001b[32m\u001b[1m  Installed\u001b[22m\u001b[39m IteratorInterfaceExtensions ── v1.0.0\n",
      "\u001b[32m\u001b[1m  Installed\u001b[22m\u001b[39m Formatting ─────────────────── v0.4.2\n",
      "\u001b[32m\u001b[1m  Installed\u001b[22m\u001b[39m StatsModels ────────────────── v0.6.22\n",
      "\u001b[32m\u001b[1m  Installed\u001b[22m\u001b[39m Rmath ──────────────────────── v0.6.1\n",
      "\u001b[32m\u001b[1m  Installed\u001b[22m\u001b[39m CompilerSupportLibraries_jll ─ v0.3.4+0\n",
      "\u001b[32m\u001b[1m  Installed\u001b[22m\u001b[39m OrderedCollections ─────────── v1.4.0\n",
      "\u001b[32m\u001b[1m  Installed\u001b[22m\u001b[39m LogExpFunctions ────────────── v0.2.2\n",
      "\u001b[32m\u001b[1m  Installed\u001b[22m\u001b[39m StructTypes ────────────────── v1.7.1\n",
      "\u001b[32m\u001b[1m  Installed\u001b[22m\u001b[39m DocStringExtensions ────────── v0.8.4\n",
      "\u001b[32m\u001b[1m  Installed\u001b[22m\u001b[39m ShiftedArrays ──────────────── v1.0.0\n",
      "\u001b[32m\u001b[1m  Installed\u001b[22m\u001b[39m Tables ─────────────────────── v1.4.2\n",
      "\u001b[32m\u001b[1m  Installed\u001b[22m\u001b[39m SortingAlgorithms ──────────── v0.3.1\n",
      "\u001b[32m\u001b[1m  Installed\u001b[22m\u001b[39m DataStructures ─────────────── v0.18.9\n",
      "\u001b[32m\u001b[1m  Installed\u001b[22m\u001b[39m StatsBase ──────────────────── v0.33.5\n",
      "\u001b[32m\u001b[1m  Installed\u001b[22m\u001b[39m Rmath_jll ──────────────────── v0.2.2+2\n",
      "\u001b[32m\u001b[1m  Installed\u001b[22m\u001b[39m StatsFuns ──────────────────── v0.9.8\n",
      "\u001b[32m\u001b[1m  Installed\u001b[22m\u001b[39m PooledArrays ───────────────── v1.2.1\n",
      "\u001b[32m\u001b[1m  Installed\u001b[22m\u001b[39m DataFrames ─────────────────── v1.0.0\n",
      "\u001b[32m\u001b[1m  Installed\u001b[22m\u001b[39m SpecialFunctions ───────────── v1.3.0\n",
      "\u001b[32m\u001b[1m  Installed\u001b[22m\u001b[39m PrettyTables ───────────────── v1.0.0\n",
      "\u001b[32m\u001b[1mUpdating\u001b[22m\u001b[39m `/opt/julia/environments/v1.5/Project.toml`\n",
      " \u001b[90m [6f49c342] \u001b[39m\u001b[92m+ RCall v0.13.11\u001b[39m\n",
      "\u001b[32m\u001b[1mUpdating\u001b[22m\u001b[39m `/opt/julia/environments/v1.5/Manifest.toml`\n",
      " \u001b[90m [324d7699] \u001b[39m\u001b[92m+ CategoricalArrays v0.9.6\u001b[39m\n",
      " \u001b[90m [d360d2e6] \u001b[39m\u001b[92m+ ChainRulesCore v0.9.38\u001b[39m\n",
      " \u001b[90m [e66e0078] \u001b[39m\u001b[92m+ CompilerSupportLibraries_jll v0.3.4+0\u001b[39m\n",
      " \u001b[90m [a8cc5b0e] \u001b[39m\u001b[92m+ Crayons v4.0.4\u001b[39m\n",
      " \u001b[90m [9a962f9c] \u001b[39m\u001b[92m+ DataAPI v1.6.0\u001b[39m\n",
      " \u001b[90m [a93c6f00] \u001b[39m\u001b[92m+ DataFrames v1.0.0\u001b[39m\n",
      " \u001b[90m [864edb3b] \u001b[39m\u001b[92m+ DataStructures v0.18.9\u001b[39m\n",
      " \u001b[90m [e2d170a0] \u001b[39m\u001b[92m+ DataValueInterfaces v1.0.0\u001b[39m\n",
      " \u001b[90m [ffbed154] \u001b[39m\u001b[92m+ DocStringExtensions v0.8.4\u001b[39m\n",
      " \u001b[90m [59287772] \u001b[39m\u001b[92m+ Formatting v0.4.2\u001b[39m\n",
      " \u001b[90m [41ab1584] \u001b[39m\u001b[92m+ InvertedIndices v1.0.0\u001b[39m\n",
      " \u001b[90m [82899510] \u001b[39m\u001b[92m+ IteratorInterfaceExtensions v1.0.0\u001b[39m\n",
      " \u001b[90m [2ab3a3ac] \u001b[39m\u001b[92m+ LogExpFunctions v0.2.2\u001b[39m\n",
      " \u001b[90m [e1d29d7a] \u001b[39m\u001b[92m+ Missings v0.4.5\u001b[39m\n",
      " \u001b[90m [efe28fd5] \u001b[39m\u001b[92m+ OpenSpecFun_jll v0.5.3+4\u001b[39m\n",
      " \u001b[90m [bac558e1] \u001b[39m\u001b[92m+ OrderedCollections v1.4.0\u001b[39m\n",
      " \u001b[90m [2dfb63ee] \u001b[39m\u001b[92m+ PooledArrays v1.2.1\u001b[39m\n",
      " \u001b[90m [08abe8d2] \u001b[39m\u001b[92m+ PrettyTables v1.0.0\u001b[39m\n",
      " \u001b[90m [6f49c342] \u001b[39m\u001b[92m+ RCall v0.13.11\u001b[39m\n",
      " \u001b[90m [189a3867] \u001b[39m\u001b[92m+ Reexport v1.0.0\u001b[39m\n",
      " \u001b[90m [79098fc4] \u001b[39m\u001b[92m+ Rmath v0.6.1\u001b[39m\n",
      " \u001b[90m [f50d1b31] \u001b[39m\u001b[92m+ Rmath_jll v0.2.2+2\u001b[39m\n",
      " \u001b[90m [1277b4bf] \u001b[39m\u001b[92m+ ShiftedArrays v1.0.0\u001b[39m\n",
      " \u001b[90m [a2af1166] \u001b[39m\u001b[92m+ SortingAlgorithms v0.3.1\u001b[39m\n",
      " \u001b[90m [276daf66] \u001b[39m\u001b[92m+ SpecialFunctions v1.3.0\u001b[39m\n",
      " \u001b[90m [2913bbd2] \u001b[39m\u001b[92m+ StatsBase v0.33.5\u001b[39m\n",
      " \u001b[90m [4c63d2b9] \u001b[39m\u001b[92m+ StatsFuns v0.9.8\u001b[39m\n",
      " \u001b[90m [3eaba693] \u001b[39m\u001b[92m+ StatsModels v0.6.22\u001b[39m\n",
      " \u001b[90m [856f2bd8] \u001b[39m\u001b[92m+ StructTypes v1.7.1\u001b[39m\n",
      " \u001b[90m [3783bdb8] \u001b[39m\u001b[92m+ TableTraits v1.0.1\u001b[39m\n",
      " \u001b[90m [bd369af6] \u001b[39m\u001b[92m+ Tables v1.4.2\u001b[39m\n",
      " \u001b[90m [1b915085] \u001b[39m\u001b[92m+ WinReg v0.3.1\u001b[39m\n",
      " \u001b[90m [9fa8497b] \u001b[39m\u001b[92m+ Future\u001b[39m\n",
      "\u001b[32m\u001b[1m   Building\u001b[22m\u001b[39m RCall → `/opt/julia/packages/RCall/3mHXJ/deps/build.log`\n"
     ]
    }
   ],
   "source": [
    "import Pkg; Pkg.add(\"RCall\")"
   ]
  },
  {
   "cell_type": "code",
   "execution_count": 3,
   "id": "offshore-israel",
   "metadata": {},
   "outputs": [
    {
     "name": "stderr",
     "output_type": "stream",
     "text": [
      "┌ Info: Precompiling RCall [6f49c342-dc21-5d91-9882-a32aef131414]\n",
      "└ @ Base loading.jl:1278\n"
     ]
    }
   ],
   "source": [
    "using RCall"
   ]
  },
  {
   "cell_type": "code",
   "execution_count": 4,
   "id": "headed-lebanon",
   "metadata": {},
   "outputs": [],
   "source": [
    "@rlibrary ggplot2"
   ]
  },
  {
   "cell_type": "code",
   "execution_count": 5,
   "id": "cordless-attention",
   "metadata": {},
   "outputs": [
    {
     "ename": "LoadError",
     "evalue": "REvalError: Error: `expr` must quote a symbol, scalar, or call\nBacktrace:\n    █\n 1. └─(function (x, y, ..., data, facets = NULL, margins = FALSE, geom = \"auto\", ...\n 2.   └─rlang::quo_name(exprs$x)\n 3.     └─rlang::expr_name(quo_squash(quo))",
     "output_type": "error",
     "traceback": [
      "REvalError: Error: `expr` must quote a symbol, scalar, or call\nBacktrace:\n    █\n 1. └─(function (x, y, ..., data, facets = NULL, margins = FALSE, geom = \"auto\", ...\n 2.   └─rlang::quo_name(exprs$x)\n 3.     └─rlang::expr_name(quo_squash(quo))",
      "",
      "Stacktrace:",
      " [1] handle_eval_stderr(; as_warning::Bool) at /opt/julia/packages/RCall/3mHXJ/src/io.jl:162",
      " [2] reval_p(::Ptr{LangSxp}, ::Ptr{EnvSxp}) at /opt/julia/packages/RCall/3mHXJ/src/eval.jl:99",
      " [3] reval_p at /opt/julia/packages/RCall/3mHXJ/src/eval.jl:95 [inlined]",
      " [4] rcall_p(::RObject{ClosSxp}, ::UnitRange{Int64}, ::Vararg{Any,N} where N; kwargs::Base.Iterators.Pairs{Union{},Union{},Tuple{},NamedTuple{(),Tuple{}}}) at /opt/julia/packages/RCall/3mHXJ/src/language.jl:30",
      " [5] rcall_p(::RObject{ClosSxp}, ::UnitRange{Int64}, ::Vararg{Any,N} where N) at /opt/julia/packages/RCall/3mHXJ/src/language.jl:30",
      " [6] rcall(::RObject{ClosSxp}, ::UnitRange{Int64}, ::Vararg{Any,N} where N; kwargs::Base.Iterators.Pairs{Union{},Union{},Tuple{},NamedTuple{(),Tuple{}}}) at /opt/julia/packages/RCall/3mHXJ/src/language.jl:37",
      " [7] rcall(::RObject{ClosSxp}, ::UnitRange{Int64}, ::Vararg{Any,N} where N) at /opt/julia/packages/RCall/3mHXJ/src/language.jl:37",
      " [8] (::RObject{ClosSxp})(::UnitRange{Int64}, ::Vararg{Any,N} where N; kwargs::Base.Iterators.Pairs{Union{},Union{},Tuple{},NamedTuple{(),Tuple{}}}) at /opt/julia/packages/RCall/3mHXJ/src/language.jl:39",
      " [9] (::RObject{ClosSxp})(::UnitRange{Int64}, ::Vararg{Any,N} where N) at /opt/julia/packages/RCall/3mHXJ/src/language.jl:39",
      " [10] top-level scope at In[5]:1",
      " [11] include_string(::Function, ::Module, ::String, ::String) at ./loading.jl:1091"
     ]
    }
   ],
   "source": [
    "qplot(1:10,[i^2 for i in 1:10])"
   ]
  },
  {
   "cell_type": "code",
   "execution_count": 8,
   "id": "handy-frontier",
   "metadata": {},
   "outputs": [
    {
     "name": "stderr",
     "output_type": "stream",
     "text": [
      "\u001b[32m\u001b[1m  Resolving\u001b[22m\u001b[39m package versions...\n",
      "\u001b[32m\u001b[1mUpdating\u001b[22m\u001b[39m `/opt/julia/environments/v1.5/Project.toml`\n",
      " \u001b[90m [a93c6f00] \u001b[39m\u001b[92m+ DataFrames v1.0.0\u001b[39m\n",
      "\u001b[32m\u001b[1mNo Changes\u001b[22m\u001b[39m to `/opt/julia/environments/v1.5/Manifest.toml`\n"
     ]
    }
   ],
   "source": [
    "import Pkg; Pkg.add(\"DataFrames\")"
   ]
  },
  {
   "cell_type": "code",
   "execution_count": 23,
   "id": "proved-nerve",
   "metadata": {
    "scrolled": true
   },
   "outputs": [
    {
     "data": {
      "image/png": "[encoded data removed]"
     },
     "metadata": {},
     "output_type": "display_data"
    },
    {
     "data": {
      "text/plain": [
       "RObject{VecSxp}\n"
      ]
     },
     "execution_count": 23,
     "metadata": {},
     "output_type": "execute_result"
    }
   ],
   "source": [
    "using DataFrames\n",
    "d = DataFrame(v = [3,4,5], w = [5,6,7], x = [1,2,3], y = [4,5,6], z = [1,1,2])\n",
    "\n",
    "ggplot(d, aes(x=:x,y=:y)) + geom_line()\n"
   ]
  },
  {
   "cell_type": "code",
   "execution_count": 25,
   "id": "catholic-manual",
   "metadata": {},
   "outputs": [
    {
     "data": {
      "image/png": "[encoded data removed]"
     },
     "metadata": {},
     "output_type": "display_data"
    },
    {
     "data": {
      "text/plain": [
       "RObject{VecSxp}\n"
      ]
     },
     "execution_count": 25,
     "metadata": {},
     "output_type": "execute_result"
    }
   ],
   "source": [
    "ggplot(d, aes(x=:x,y=:y)) + geom_point() + facet_wrap(R\"~z\")"
   ]
  },
  {
   "cell_type": "code",
   "execution_count": 22,
   "id": "closing-spain",
   "metadata": {},
   "outputs": [
    {
     "ename": "LoadError",
     "evalue": "\u001b[91mUndefVarError: names! not defined\u001b[39m",
     "output_type": "error",
     "traceback": [
      "\u001b[91mUndefVarError: names! not defined\u001b[39m",
      "",
      "Stacktrace:",
      " [1] (::var\"#112#118\")(::RObject{VecSxp}) at ./In[22]:7",
      " [2] |>(::RObject{VecSxp}, ::var\"#112#118\") at ./operators.jl:834",
      " [3] (::var\"#111#117\")(::RObject{VecSxp}) at ./In[22]:6",
      " [4] |>(::RObject{VecSxp}, ::var\"#111#117\") at ./operators.jl:834",
      " [5] (::var\"#110#116\")(::RObject{VecSxp}) at ./In[22]:5",
      " [6] |>(::RObject{VecSxp}, ::var\"#110#116\") at ./operators.jl:834",
      " [7] (::var\"#109#115\")(::RObject{VecSxp}) at ./In[22]:4",
      " [8] |>(::RObject{VecSxp}, ::var\"#109#115\") at ./operators.jl:834",
      " [9] (::var\"#108#114\")(::RObject{VecSxp}) at ./In[22]:3",
      " [10] |>(::RObject{VecSxp}, ::var\"#108#114\") at ./operators.jl:834",
      " [11] (::var\"#107#113\")(::RObject{VecSxp}) at ./In[22]:2",
      " [12] |>(::RObject{VecSxp}, ::var\"#107#113\") at ./operators.jl:834",
      " [13] top-level scope at In[22]:1",
      " [14] include_string(::Function, ::Module, ::String, ::String) at ./loading.jl:1091"
     ]
    }
   ],
   "source": [
    "# d = d |>\n",
    "#   x -> R\"$x[,1] = as.numeric($d[,1]); $x\" |>\n",
    "#   x -> R\"$x[,2] = as.numeric($d[,2]); $x\" |>\n",
    "#   x -> R\"$x[,3] = as.numeric($d[,3]); $x\" |>\n",
    "#   x -> R\"$x[,4] = as.factor(as.numeric($x[,4])); $x\" |>\n",
    "#   x -> R\"$x[,5] = as.factor(as.character($x[,5])); $x\" |>\n",
    "#   x -> names!(d, [:u_min, :u_max, :x, :u, :solution])"
   ]
  },
  {
   "cell_type": "code",
   "execution_count": 17,
   "id": "patent-circulation",
   "metadata": {},
   "outputs": [
    {
     "data": {
      "text/plain": [
       "RObject{VecSxp}\n",
       "  v w x y z\n",
       "1 3 5 1 1 1\n",
       "2 4 6 2 2 1\n",
       "3 5 7 3 3 2\n"
      ]
     },
     "execution_count": 17,
     "metadata": {},
     "output_type": "execute_result"
    }
   ],
   "source": [
    "d"
   ]
  },
  {
   "cell_type": "code",
   "execution_count": 24,
   "id": "every-upset",
   "metadata": {},
   "outputs": [
    {
     "data": {
      "image/png": "[encoded data removed]"
     },
     "metadata": {},
     "output_type": "display_data"
    },
    {
     "data": {
      "text/plain": [
       "RObject{VecSxp}\n"
      ]
     },
     "execution_count": 24,
     "metadata": {},
     "output_type": "execute_result"
    }
   ],
   "source": [
    "ggplot(d, aes(x=:x)) +\n",
    "  geom_ribbon(aes(ymin=:v, ymax=:w), fill=\"blue\", alpha=0.5) +\n",
    "  geom_line(aes(y=:y), color=\"blue\") +\n",
    "  lims(x=[0,5], y=[0,10]) +\n",
    "  geom_line(aes(y=:z), color=\"red\")"
   ]
  }
 ],
 "metadata": {
  "kernelspec": {
   "display_name": "Julia 1.5.4",
   "language": "julia",
   "name": "julia-1.5"
  },
  "language_info": {
   "file_extension": ".jl",
   "mimetype": "application/julia",
   "name": "julia",
   "version": "1.5.4"
  }
 },
 "nbformat": 4,
 "nbformat_minor": 5
}
